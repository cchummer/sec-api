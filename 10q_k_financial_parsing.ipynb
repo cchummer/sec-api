{
  "nbformat": 4,
  "nbformat_minor": 0,
  "metadata": {
    "colab": {
      "provenance": [],
      "collapsed_sections": [],
      "authorship_tag": "ABX9TyMjNr8JHqiTalm1H5x/RwgL"
    },
    "kernelspec": {
      "name": "python3",
      "display_name": "Python 3"
    },
    "language_info": {
      "name": "python"
    }
  },
  "cells": [
    {
      "cell_type": "code",
      "source": [
        "# HTTP lib\n",
        "import requests\n",
        "\n",
        "# HTML/XML parsing lib\n",
        "from bs4 import BeautifulSoup\n",
        "\n",
        "# Dataframe lib\n",
        "import pandas"
      ],
      "metadata": {
        "id": "3Sea1qvH4nSZ"
      },
      "execution_count": null,
      "outputs": []
    },
    {
      "cell_type": "markdown",
      "source": [
        "# Methods for parsing 10-Q and 10-K filings \n",
        "Given a root filing directory ***with*** trailing slash (https://www.sec.gov/Archives/edgar/data/CIK#/ACCESSION#/) we first look for FilingSummary.xml and go from there, in the case of modern filings (with XBRL data). These modern 10-Q and 10-K filings hold their financial reports in identical formats thus the same methods should be applicable to both.\n",
        "\n",
        "*Note that filings without XBRL data not have FilingSummary.xml nor a primary document listed in the JSON data returned from a CIK submission search. Rather the \"primary document\" of the filing can be found at [Archives/edgar/data/CIK/ACCESSION_WITH_DASHES.txt](https://). Separate methods will be called to parse the filing in this case.*\n",
        "\n"
      ],
      "metadata": {
        "id": "Sz1ZH5H03pOF"
      }
    },
    {
      "cell_type": "markdown",
      "source": [
        "This first method simply confirms the existence of FilingSummary.xml by crawling through the index.json file. It returns the path to the filing summary if it exists, and and empty string if not."
      ],
      "metadata": {
        "id": "pXhSOYzXfIvU"
      }
    },
    {
      "cell_type": "code",
      "source": [
        "# NOTE: INCLUDE TRAILING SLASH WHEN CALLING\n",
        "def confirm_modern_filing_summary(root_filing_dir):\n",
        "\n",
        "  # Need to set user agent for sec.gov\n",
        "  request_headers = { \"User-Agent\" : \"Mozilla/5.0 (Macintosh; Intel Mac OS X 10_15_7) AppleWebKit/537.36 (KHTML, like Gecko) Chrome/105.0.0.0 Safari/537.36\" }\n",
        "\n",
        "  # Request root_filing_dir/index.json\n",
        "  index_path = r\"{}index.json\".format(root_filing_dir)\n",
        "  response = requests.get(url = index_path, headers = request_headers)\n",
        "  response.raise_for_status()\n",
        "\n",
        "  index_json = response.json()\n",
        "  \n",
        "  # directory->item is a list of dictionaries, one per each file in the directory\n",
        "  # Make sure that the \"name\" key of one of these dictionaries is \"FilingSummary.xml\"\n",
        "  try:\n",
        "    for current_item in index_json['directory']['item']:\n",
        "      if current_item['name'] == \"FilingSummary.xml\":\n",
        "        return root_filing_dir + \"FilingSummary.xml\"\n",
        "\n",
        "  except:\n",
        "    pass\n",
        "  return \"\""
      ],
      "metadata": {
        "id": "Rct4aa824ZDO"
      },
      "execution_count": null,
      "outputs": []
    },
    {
      "cell_type": "markdown",
      "source": [
        "# Parsing the FilingSummary.xml\n",
        "This file contains, under section MyReports, multiple Report instances structured as such:\n",
        "\n",
        "\n",
        "\n",
        "```\n",
        "<Report instance=\"abcl-10q_20220630.htm\">\n",
        "  <IsDefault>false</IsDefault>\n",
        "  <HasEmbeddedReports>false</HasEmbeddedReports>\n",
        "  <HtmlFileName>R1.htm</HtmlFileName>\n",
        "  <LongName>100000 - Document - Document and Entity Information</LongName>\n",
        "  <ReportType>Sheet</ReportType>\n",
        "  <Role>http://www.abcellera.com/20220630/taxonomy/role/DocumentDocumentAndEntityInformation</Role>\n",
        "  <ShortName>Document and Entity Information</ShortName>\n",
        "  <MenuCategory>Cover</MenuCategory>\n",
        "  <Position>1</Position>\n",
        "</Report>\n",
        "```\n",
        "The MenuCategory field is somewhat revealing as well the short name. MenuCategory is set to \"Statements\" for financial reports, \"Notes\" for remarks/disclosures etc (see 10q_k_notes_parsing). Each report lives at R{Position}.htm. This is true of both modern 10-Q and 10-K filings."
      ],
      "metadata": {
        "id": "jfoS-xIMWVqH"
      }
    },
    {
      "cell_type": "markdown",
      "source": [
        "A few support methods for organize_modern_financial_statements method below:"
      ],
      "metadata": {
        "id": "vXmc_TengRuZ"
      }
    },
    {
      "cell_type": "code",
      "source": [
        "# Returns True if the given shortname is determined to be a balance sheet\n",
        "def is_balance_sheet_from_shortname(target_shortname):\n",
        "  \n",
        "  if 'balance sheet' in target_shortname.lower():\n",
        "    return True\n",
        "  if 'financial position' in target_shortname.lower():\n",
        "    return True\n",
        "\n",
        "  return False"
      ],
      "metadata": {
        "id": "tskv_RdWfUpD"
      },
      "execution_count": null,
      "outputs": []
    },
    {
      "cell_type": "code",
      "source": [
        "# Returns True if the given shortname is determined to be an income statement\n",
        "def is_income_statement_from_shortname(target_shortname):\n",
        "\n",
        "  if 'of income' in target_shortname.lower():\n",
        "    return True\n",
        "  if 'of operations' in target_shortname.lower():\n",
        "    return True\n",
        "\n",
        "  return False"
      ],
      "metadata": {
        "id": "UP5ui2dbfuL6"
      },
      "execution_count": null,
      "outputs": []
    },
    {
      "cell_type": "code",
      "source": [
        "# Returns True if the given shortname is determined to be a statement of cash flows\n",
        "def is_cashflow_statement_from_shortname(target_shortname):\n",
        "\n",
        "  if 'cash flow' in target_shortname.lower():\n",
        "    return True\n",
        "  return False"
      ],
      "metadata": {
        "id": "TOpRwMj7gApc"
      },
      "execution_count": null,
      "outputs": []
    },
    {
      "cell_type": "code",
      "source": [
        "# Returns True if the given shortname is determined to be a statement of owners equity\n",
        "def is_oe_statement_from_shortname(target_shortname):\n",
        "\n",
        "  if 'shareholders' in target_shortname.lower():\n",
        "    return True\n",
        "  if 'stakeholders' in target_shortname.lower():\n",
        "    return True\n",
        "  if 'stockholders' in target_shortname.lower():\n",
        "    return True\n",
        "  if 'owner\\'s' in target_shortname.lower():\n",
        "    return True\n",
        "  if 'of equity' in target_shortname.lower():\n",
        "    return True\n",
        "  if 'in equity' in target_shortname.lower():\n",
        "    return True\n",
        "\n",
        "  return False"
      ],
      "metadata": {
        "id": "MkGQuz6AgXY5"
      },
      "execution_count": null,
      "outputs": []
    },
    {
      "cell_type": "markdown",
      "source": [
        "The below function locates individual financial statements from a filing, given the path to FilingSummary.xml (hence the modern keyword in the method name). A dictionary with the following structure is returned:\n",
        "\n",
        "\n",
        "```\n",
        "{\n",
        "  \"SHORTNAME\" : \"URL\",\n",
        "  ...\n",
        "}\n",
        "\n",
        "```\n"
      ],
      "metadata": {
        "id": "8giR0_oCfMLX"
      }
    },
    {
      "cell_type": "code",
      "source": [
        "def find_modern_financial_reports(filing_summary_path):\n",
        "\n",
        "  # Base filing directory path\n",
        "  base_filing_path = filing_summary_path.replace('FilingSummary.xml', '')\n",
        "\n",
        "  # Dictionary structure we will return\n",
        "  statements_dictionary = {}\n",
        "\n",
        "  # GET FilingSummary.xml\n",
        "  request_headers = {\"User-Agent\" : \"Mozilla/5.0 (Macintosh; Intel Mac OS X 10_15_7) AppleWebKit/537.36 (KHTML, like Gecko) Chrome/105.0.0.0 Safari/537.36\"}\n",
        "  response = requests.get(url = filing_summary_path, headers = request_headers)\n",
        "  response.raise_for_status()\n",
        "\n",
        "  xml_content = response.content\n",
        "  soup_summary = BeautifulSoup(xml_content, \"lxml\")\n",
        "\n",
        "  # Find MyReports and loop through them\n",
        "  reports = soup_summary.find('myreports')\n",
        "  for current_report in reports.find_all('report'):\n",
        "\n",
        "    # The last report will not have some tags such as MenuCategory and will cause an exception trying to read it, thus try + except\n",
        "    try:\n",
        "      if current_report.menucategory.text.lower() == \"statements\":\n",
        "        \n",
        "        # Add to return dict\n",
        "        statements_dictionary[current_report.shortname.text.strip()] = base_filing_path + current_report.htmlfilename.text.strip()\n",
        "\n",
        "    # Expected to be hit, no problem    \n",
        "    except:\n",
        "      pass\n",
        "\n",
        "  return statements_dictionary"
      ],
      "metadata": {
        "id": "2OZsVQPHahqV"
      },
      "execution_count": 47,
      "outputs": []
    },
    {
      "cell_type": "code",
      "source": [
        "\"\"\"\n",
        "Takes a dictionary of statements returned by the above method, and organizes them into the 4 main financial statement categories. Returns a dict of structure (note dictionary values are lists):\n",
        "{\n",
        "  'balance_sheet' : [ 'URL1', ...],\n",
        "  'income_statement' : [],\n",
        "  'cashflow_statement' : [],\n",
        "  'oe_statement' : []\n",
        "}\n",
        "\"\"\"\n",
        "def organize_modern_financial_reports(statements_dict):\n",
        "\n",
        "  # Returned structure\n",
        "  main_statements = {\n",
        "  'balance_sheet' : [],\n",
        "  'income_statement' : [],\n",
        "  'cashflow_statement' : [],\n",
        "  'oe_statement' : []\n",
        "  }\n",
        "  \n",
        "  # Loop through statements passed\n",
        "  for key, val in statements_dict.items():\n",
        "\n",
        "    # Check the shortname against regex candidates for each of the 4 statements\n",
        "    if is_balance_sheet_from_shortname(key):\n",
        "      main_statements[\"balance_sheet\"].append(val)\n",
        "    elif is_income_statement_from_shortname(key):\n",
        "      main_statements[\"income_statement\"].append(val)\n",
        "    elif is_cashflow_statement_from_shortname(key):\n",
        "      main_statements[\"cashflow_statement\"].append(val)\n",
        "    elif is_oe_statement_from_shortname(key):\n",
        "      main_statements[\"oe_statement\"].append(val)\n",
        "    else:\n",
        "      pass\n",
        "    \n",
        "  return main_statements"
      ],
      "metadata": {
        "id": "KPUWBOobqmX_"
      },
      "execution_count": 45,
      "outputs": []
    },
    {
      "cell_type": "code",
      "source": [
        "# POC\n",
        "modern_filing_summary = confirm_modern_filing_summary(\"https://www.sec.gov/Archives/edgar/data/0001703057/000156459022028784/\")\n",
        "if modern_filing_summary:\n",
        "  statements_dict = find_modern_financial_reports(modern_filing_summary)\n",
        "  if statements_dict:\n",
        "    organized_statements = organize_modern_financial_reports(statements_dict)\n",
        "    print(organized_statements)\n"
      ],
      "metadata": {
        "id": "vczxIX0knqBV",
        "colab": {
          "base_uri": "https://localhost:8080/"
        },
        "outputId": "1a6b2b49-3945-41c8-d0cd-76c44fe9cf7b"
      },
      "execution_count": 49,
      "outputs": [
        {
          "output_type": "stream",
          "name": "stdout",
          "text": [
            "{'balance_sheet': ['https://www.sec.gov/Archives/edgar/data/0001703057/000156459022028784/R2.htm', 'https://www.sec.gov/Archives/edgar/data/0001703057/000156459022028784/R3.htm'], 'income_statement': ['https://www.sec.gov/Archives/edgar/data/0001703057/000156459022028784/R4.htm'], 'cashflow_statement': ['https://www.sec.gov/Archives/edgar/data/0001703057/000156459022028784/R6.htm'], 'oe_statement': ['https://www.sec.gov/Archives/edgar/data/0001703057/000156459022028784/R5.htm']}\n"
          ]
        }
      ]
    },
    {
      "cell_type": "markdown",
      "source": [
        "# Parsing the Statements\n",
        "After locating the four main financial statements, we move on the parsing them. As with above, parsing methods are for the most part divided between \"modern\" filings and \"legacy\" filings and named accordingly. \n",
        "\n",
        "Basically the legacy filings contain the entire filing in full text at the single HTML document [Archives/edgar/data/CIK/ACCESSION_WITH_DASHES.txt](https://), rather than each report/statement being its own document as in the modern filings. More information below."
      ],
      "metadata": {
        "id": "jaINBcBTWVJ9"
      }
    },
    {
      "cell_type": "markdown",
      "source": [
        "# Parsing Modern Statements\n",
        "For modern filings, each statement/report lives on its own .htm document and its data is contained in a table object with the following format:\n",
        "\n",
        "\n",
        "```\n",
        "<table class=\"report\" border=\"0\" cellspacing=\"2\" id=\"idmXXXXXXXXXXXXXXX\">\n",
        "  <tbody>\n",
        "    <tr>... table headers row (basically defines table columns) ...</tr>\n",
        "      <th class=...> one \"th\" object per column </th>\n",
        "    <tr class=\"rXX\">... either data / section header row...</tr>\n",
        "      <td class=...> one \"td\" object per column in each row </td>\n",
        "    ... data rows\n",
        "  </tbody>\n",
        "</table>\n",
        "```\n",
        "The table headers are easily identified by the `<th>` tag, but section headers (labels grouping multiple actual entries together such as \"Current Assets\") are most easily identified by the use of `<strong>` tags to bolden them on the table, along with their lack of `<th>` tags *. Actual rows of data values will have neither of these two attributes.  \n",
        "\n",
        "*Some section header style rows, mostly encountered in income statements but also companies with subsidiaries, do not use `<strong>` tags, but rather seem to have a `<class>` of \"rh\". The class tag seems to denote the shading/style of the row. Whether it is a total/sum, etc. These heavy \"rh\" rows seem to denote different sections such as different \"members\"/categories/subsidiaries of the company. The rows up until the first \"rh\" are aggregated / totals for the whole company. Methods are supplied below for breaking down reports into sub-tables according to \"rh\" rows. \n"
      ],
      "metadata": {
        "id": "LX2p53-KzAKK"
      }
    },
    {
      "cell_type": "markdown",
      "source": [
        "**A note on table headers**: in many income statements, such as example [here](https://www.sec.gov/Archives/edgar/data/1703057/000156459022028784/R4.htm), there are two lines of table headers (and even more could be possible I suppose). From my own inspection and looking around, it seems standard for companies to list income/expenses for the 3 months ended on a certain date and 6 months ended on a certain date. read_modern_report_tables will in turn append a new list to report_data['headers'] for each header line/row it encounters. For now, in regards to income statements, we will assume the columns are ordered as follows (again see above example report):\n",
        "```\n",
        "'3 Months Ended ...(current year)' | '3 Months Ended ...(year ago)' | '6 Months Ended ...(current year)' | '6 Months Ended ...(year ago)'\n",
        "```\n",
        "Thus we really just want the dates, which are in the second list of report_data['headers'] if it exists. "
      ],
      "metadata": {
        "id": "FBd3cU2Y1HhQ"
      }
    },
    {
      "cell_type": "code",
      "source": [
        "def read_modern_report_tables(report_document_url):\n",
        "\n",
        "  request_headers = { \"User-Agent\" : \"Mozilla/5.0 (Macintosh; Intel Mac OS X 10_15_7) AppleWebKit/537.36 (KHTML, like Gecko) Chrome/105.0.0.0 Safari/537.36\" }\n",
        "\n",
        "  # Dictionary we will return\n",
        "  report_data = {}\n",
        "  report_data['headers'] = []\n",
        "  report_data['sections'] = []\n",
        "  report_data['data'] = []\n",
        "\n",
        "  # Request the document contents\n",
        "  response = requests.get(url = report_document_url, headers = request_headers)\n",
        "  response.raise_for_status()\n",
        "\n",
        "  html_content = response.content\n",
        "  report_soup = BeautifulSoup(html_content, 'lxml')\n",
        "\n",
        "  # In case there are multiple tables in the document, loop through all of those labeled with the \"report\" class. Tables of other classes (i.e. of type \"authRefData\") are ignored.\n",
        "  for table_index, current_table in enumerate(report_soup.find_all('table', class_ = \"report\")):\n",
        "\n",
        "    # Loop through table's rows \n",
        "    for row_index, current_row in enumerate(current_table.find_all('tr')):\n",
        "\n",
        "      # If we come across a row of class \"rh\" (signaling an end of the aggregated/totals and beginning of member/source breakdowns), end here tell user they may want to further split the table \n",
        "      # So far this structure seems to hold true as discussed in the \"*\" above. \n",
        "      try:\n",
        "        if \"rh\" in current_row['class']:\n",
        "          print(\"Member/source-specific financial information is available but will not be recorded here. Consider further splitting the report by member.\")\n",
        "          break\n",
        "      except:\n",
        "        pass\n",
        "\n",
        "      # Grab all the elements / columns of the row. Keep in mind column headers don't have <td> tags, thus we list <th> objects within the elif upon finding them\n",
        "      line_columns = current_row.find_all('td')\n",
        "\n",
        "      # Decide if row is: data, section (sub) header, or column header according to logic above (th and strong tags) and append it to the proper list (headers, sections, or data) of the statement_data dictionary.\n",
        "\n",
        "      # Data row. May be a footnote or superscript, which we will filter out\n",
        "      if (len(current_row.find_all('th')) == 0 and len(current_row.find_all('strong')) == 0):\n",
        "        data_row = [] \n",
        "      \n",
        "        try:\n",
        "          for i in current_row['class']: # We need to do a sub-string search, TODO optimize this loop\n",
        "            # Skip rows containing \"note\" in a class tag (usually are footnotes)\n",
        "            if \"note\" in i.lower(): \n",
        "              pass\n",
        "\n",
        "            # Skip superscripted values/columns (usually link to footnote) and those with class of \"fn\", again link to footnote\n",
        "            for current_column in line_columns:\n",
        "              if len(current_column.find_all('sup')) == 0:\n",
        "                try:\n",
        "                  if \"fn\" not in current_column['class']:\n",
        "                    data_column = current_column.text.strip()\n",
        "                    data_row.append(data_column)\n",
        "                except: # No column class set. Shouldn't happen but just ignore and try next column of the row\n",
        "                  pass\n",
        "\n",
        "            report_data['data'].append(data_row)\n",
        "\n",
        "        # Most likely did not have a row class set. Generally means blank / separator\n",
        "        except:\n",
        "          pass\n",
        "\n",
        "      # Section/sub header row\n",
        "      elif (len(current_row.find_all('th')) == 0 and len(current_row.find_all('strong')) != 0):\n",
        "        section_row = line_columns[0].text.strip() # Only the first element in this row will have the section label, the others are blank so no point\n",
        "        report_data['sections'].append(section_row)\n",
        "\n",
        "      # Header row\n",
        "      elif len(current_row.find_all('th')) != 0:\n",
        "        header_row = [ele.text.strip() for ele in current_row.find_all('th')]\n",
        "        report_data['headers'].append(header_row)\n",
        "\n",
        "      # Unable to identify\n",
        "      else:\n",
        "        print(r\"Unable to identify row #{} of table #{} found in table of report: {}\".format(row_index + 1, table_index + 1, report_document_url))\n",
        "\n",
        "  # Remove any newline characters in the columns or section headers\n",
        "  \n",
        "  # Return the filled dictionary\n",
        "  return report_data"
      ],
      "metadata": {
        "id": "AnjS9bOH-Z16"
      },
      "execution_count": null,
      "outputs": []
    },
    {
      "cell_type": "code",
      "source": [
        "\n",
        "target_summary = \"https://www.sec.gov/Archives/edgar/data/886093/000168316822006728/R3.htm\"\n",
        "rep_data = read_modern_report_tables(target_summary)\n",
        "print(rep_data)"
      ],
      "metadata": {
        "colab": {
          "base_uri": "https://localhost:8080/"
        },
        "id": "XkHZRlBE_Aj0",
        "outputId": "d19c2086-bb7f-480d-97a0-3efea8911e43"
      },
      "execution_count": null,
      "outputs": [
        {
          "output_type": "stream",
          "name": "stdout",
          "text": [
            "Member/source-specific financial information is available but will not be recorded here. Consider further splitting the report by member.\n",
            "{'headers': [['Consolidated Balance Sheets (Unaudited) (Parenthetical) - $ / shares', 'Jun. 30, 2022', 'Dec. 31, 2021']], 'sections': [], 'data': []}\n"
          ]
        }
      ]
    },
    {
      "cell_type": "markdown",
      "source": [
        "The below method, given the URL to a specific filing report obtained by parsing FilingSummary.xml, reads the report data neatly into a pandas dataframe. A dictionary is returned in the following format, passing the title of a report (as read from the header rows) along with the dataframe:\n",
        "\n",
        "\n",
        "```\n",
        "report_df_dict = {\n",
        "  \"title\" : \"Report Title\",\n",
        "  \"df\" : DATAFRAME\n",
        "}\n",
        "```\n",
        "\n"
      ],
      "metadata": {
        "id": "IEtKe_W-YxLE"
      }
    },
    {
      "cell_type": "code",
      "source": [
        "def read_modern_report_into_df(report_document_url):\n",
        "  \n",
        "  # Read the data into a dictionary with 3 keys: headers, sections, and data\n",
        "  report_data_dict = read_modern_report_tables(report_document_url)\n",
        "\n",
        "  # Create two lists: headers (column headings), and data values. Ignore section headers for now\n",
        "  report_headers_list = report_data_dict['headers']\n",
        "  report_data_list = report_data_dict['data']\n",
        "\n",
        "  # Create our return structure and get the report title\n",
        "  report_df_dict = {\n",
        "      \"title\" : \"Unknown\",\n",
        "      \"df\" : None\n",
        "  }\n",
        "  try:\n",
        "    report_df_dict[\"title\"] = report_headers_list[0][0] # Should be the first element of the first column header row\n",
        "  except: \n",
        "    pass\n",
        "\n",
        "  # Check that data has been passed. Can be empty if the report starts off with an \"rh\" row, usually seen in parenthetical statements regarding member entities etc.\n",
        "  if len(report_data_list) == 0:\n",
        "    return report_df_dict\n",
        "\n",
        "  # Create the dataframe around the report data list\n",
        "  report_df = pandas.DataFrame(report_data_list)\n",
        "\n",
        "  # Re-index the dataframe (first value/column of each sublist is the name of the financial item, i.e \"Accounts Receivable\")\n",
        "  report_df.index = report_df[0]\n",
        "  report_df.index.name = 'item/account'\n",
        "  report_df = report_df.drop(0, axis = 1)\n",
        "\n",
        "  # Sanitize it of illegal characters\n",
        "  report_df = report_df.replace('[\\[\\]\\$,)]', '', regex = True)\\\n",
        "  .replace('[(]', '-', regex = True)\\\n",
        "  .replace('', 'NaN', regex = True)\n",
        "\n",
        "  # Convert data values to floats. \"Unlimited\" and other text may be present, so ignore for now. Could convert them to NaNs also\n",
        "  report_df = report_df.astype(dtype = float, errors = 'ignore')\n",
        "\n",
        "  # Drop rows with all NaN's\n",
        "  #report_df = report_df.dropna(how=\"all\")\n",
        "  \n",
        "  # Set column names to the headers we stored. Remember we have a list of lists. Do some cleaning\n",
        "  # If there is only one list/row of column headers, we want to drop the first element (which basically holds the table name). Otherwise rely on the last row to be the dates / headings we want.\n",
        "  # TD-DO: Better optimization for multi-line headers etc, also integrate section headers \n",
        "\n",
        "  if len(report_headers_list) == 1:\n",
        "    report_df = report_df.set_axis(report_headers_list[0][1:], axis = 'columns')\n",
        "\n",
        "  elif len(report_headers_list) > 1:\n",
        "    report_df = report_df.set_axis(report_headers_list[-1], axis = 'columns')\n",
        "\n",
        "  else:\n",
        "    print(\"Failed to read/set column headers for dataframe of {}\".format(report_document_url))\n",
        "\n",
        "  # Copy the dataframe into our return structure\n",
        "  report_df_dict[\"df\"] = report_df\n",
        "  return report_df_dict"
      ],
      "metadata": {
        "id": "Hcb8RMMjYYVg"
      },
      "execution_count": null,
      "outputs": []
    },
    {
      "cell_type": "code",
      "source": [
        "# POC\n",
        "modern_filing_summary = confirm_modern_filing_summary(\"https://www.sec.gov/Archives/edgar/data/0001703057/000156459022028784/\")\n",
        "if modern_filing_summary:\n",
        "\n",
        "  statements_dict = find_modern_financial_reports(modern_filing_summary)\n",
        "  organized_statements = organize_modern_financial_reports(statements_dict)\n",
        "\n",
        "  for report_type in organized_statements.keys():\n",
        "    for report_url in organized_statements[report_type]:\n",
        "\n",
        "      report_df_dict = read_modern_report_into_df(report_url)\n",
        "\n",
        "      print(\"Report URL: {}\".format(report_url))\n",
        "      print(\"Report title: {}\".format(report_df_dict[\"title\"]))\n",
        "      display(report_df_dict[\"df\"])"
      ],
      "metadata": {
        "id": "1PYYPRtJIp8l"
      },
      "execution_count": null,
      "outputs": []
    },
    {
      "cell_type": "code",
      "source": [
        "# TODO: Code to split reports by members"
      ],
      "metadata": {
        "id": "FF-_7GJ9T553"
      },
      "execution_count": null,
      "outputs": []
    },
    {
      "cell_type": "markdown",
      "source": [
        "# Parsing Legacy Statements\n",
        "As mentioned above, older filings contain the entire filing at one document given by [Archives/edgar/data/CIK/ACCESSION_WITH_DASHES.txt](https://). These full text documents contain a structure such as the following from a 1997 Amazon 10-Q (https://www.sec.gov/Archives/edgar/data/1018724/0000891020-97-001148.txt):\n",
        "\n",
        "```\n",
        "-----BEGIN PRIVACY-ENHANCED MESSAGE-----\n",
        "Proc-Type: 2001,MIC-CLEAR\n",
        "Originator-Name: webmaster@www.sec.gov\n",
        "Originator-Key-Asymmetric:\n",
        " MFgwCgYEVQgBAQICAf8DSgAwRwJAW2sNKK9AVtBzYZmr6aGjlWyK3XmZv3dTINen\n",
        " TWSM7vrzLADbmYQaionwg5sDW3P6oaM5D3tdezXMm7z1T+B+twIDAQAB\n",
        "MIC-Info: RSA-MD5,RSA,\n",
        " EA8wP4EJ1aofn3wNjHXvYqpXzR6GMf4Bz9Y70HsR2k133p7FODrUtk4OmN9dGSoW\n",
        " Tmhu+MdHUHbxrFPB5Qw1Xw==\n",
        "\n",
        "<SEC-DOCUMENT>0000891020-97-001148.txt : 19970815\n",
        "<SEC-HEADER>0000891020-97-001148.hdr.sgml : 19970815\n",
        "ACCESSION NUMBER:\t\t0000891020-97-001148\n",
        "CONFORMED SUBMISSION TYPE:\t10-Q\n",
        "PUBLIC DOCUMENT COUNT:\t\t3\n",
        "CONFORMED PERIOD OF REPORT:\t19970630\n",
        "FILED AS OF DATE:\t\t19970814\n",
        "SROS:\t\t\tNASD\n",
        "\n",
        "FILER:\n",
        "\n",
        "\tCOMPANY DATA:\t\n",
        "\t\tCOMPANY CONFORMED NAME:\t\t\tAMAZON COM INC\n",
        "\t\tCENTRAL INDEX KEY:\t\t\t0001018724\n",
        "\t\tSTANDARD INDUSTRIAL CLASSIFICATION:\tBOOKS: PUBLISHING OR PUBLISHING AND PRINTING [2731]\n",
        "\t\tIRS NUMBER:\t\t\t\t911646860\n",
        "\t\tSTATE OF INCORPORATION:\t\t\tDE\n",
        "\t\tFISCAL YEAR END:\t\t\t1231\n",
        "\n",
        "\tFILING VALUES:\n",
        "\t\tFORM TYPE:\t\t10-Q\n",
        "\t\tSEC ACT:\t\t1934 Act\n",
        "\t\tSEC FILE NUMBER:\t000-22513\n",
        "\t\tFILM NUMBER:\t\t97661331\n",
        "\n",
        "\tBUSINESS ADDRESS:\t\n",
        "\t\tSTREET 1:\t\t1516 SECOND AVE 4TH FLOOR\n",
        "\t\tSTREET 2:\t\tPO BOX 80387\n",
        "\t\tCITY:\t\t\tSEATTLE\n",
        "\t\tSTATE:\t\t\tWA\n",
        "\t\tZIP:\t\t\t98101\n",
        "\t\tBUSINESS PHONE:\t\t2066222335\n",
        "\n",
        "\tMAIL ADDRESS:\t\n",
        "\t\tSTREET 1:\t\tPO BOX 80387\n",
        "\t\tSTREET 2:\t\t1516 SECOND AVE 4TH FLOOR\n",
        "\t\tCITY:\t\t\tSEATTLE\n",
        "\t\tSTATE:\t\t\tWA\n",
        "\t\tZIP:\t\t\t98101\n",
        "</SEC-HEADER>\n",
        "<DOCUMENT>\n",
        "<TYPE>10-Q\n",
        "<SEQUENCE>1\n",
        "<DESCRIPTION>EDGAR FORM 10-Q FOR AMAZON.COM, INC\n",
        "<TEXT>\n",
        "DOC TEXT\n",
        "</TEXT>\n",
        "</DOCUMENT>\n",
        "<DOCUMENT>\n",
        "ONE PER INDIVIDUAL DOCUMENT IN THE FILING\n",
        "</DOCUMENT>\n",
        "</SEC-DOCUMENT>\n",
        "-----END PRIVACY-ENHANCED MESSAGE-----\n",
        "```\n",
        "In fact, there are two types of \"legacy\" filings. Newer \"legacy\" filings have HTML content inbetween `<TEXT>` tags. Older \"legacy\" filings are not HTML, just straight plain text. The methods used in parsing these legacy filings are named using the keyword \"legacy\" to differentiate them. Differentiating between the two legacy types, \"html\" and \"plaintext\" will be used in method names."
      ],
      "metadata": {
        "id": "HJ9tkTQDcA7_"
      }
    }
  ]
}