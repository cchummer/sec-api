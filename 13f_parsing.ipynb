{
  "nbformat": 4,
  "nbformat_minor": 0,
  "metadata": {
    "colab": {
      "provenance": [],
      "collapsed_sections": [],
      "authorship_tag": "ABX9TyPyxVKynvRhwHySCDpdTuvi"
    },
    "kernelspec": {
      "name": "python3",
      "display_name": "Python 3"
    },
    "language_info": {
      "name": "python"
    }
  },
  "cells": [
    {
      "cell_type": "code",
      "source": [
        "import requests\n",
        "import re # Can encounter XML namespaces... use regex\n",
        "from bs4 import BeautifulSoup"
      ],
      "metadata": {
        "id": "1TFpYYabhBvl"
      },
      "execution_count": null,
      "outputs": []
    },
    {
      "cell_type": "markdown",
      "source": [
        "# 13F-HR Parsing\n",
        "The main information in a 13F holding report is in the information table, SEC reference [here](https://www.sec.gov/about/forms/form13f.pdf). Perhaps grabbing data in relation to \"other managers\" (combination style report) may also be of use but for now we will simply focus on the positions themselves. See [here](https://www.sec.gov/divisions/investment/13ffaq) for FAQ on 13F filings."
      ],
      "metadata": {
        "id": "OBhmAHvLBBQV"
      }
    },
    {
      "cell_type": "code",
      "execution_count": null,
      "metadata": {
        "id": "oyUtn8HF897y"
      },
      "outputs": [],
      "source": [
        "\"\"\"\n",
        "Retrieves positions from modern (AKA those with XML information table) 13F-HR's\n",
        "Given the URL to the full text filing, returns a list of dictionaries of the following structure:\n",
        "\n",
        "holding = {\n",
        "  \"issuer\" : \"APPLE INC\",\n",
        "  \"class\" : \"COM\" # Or \"SHS CLASS A\" etc \n",
        "  \"cusip\" : \"CUSIP\"\n",
        "  \"amount\" : NUM_OF_SECURITY_OWNED,\n",
        "  \"type\" : \"TYPE_OF_SEC\" # \"SH\", \"CALL\", or \"PUT\"\n",
        "}\n",
        "\"\"\"\n",
        "def info_table_from_fulltxt(fulltxt_url):\n",
        "\n",
        "  # List to be returned \n",
        "  master_list = []\n",
        "  \n",
        "  # Get full text content\n",
        "  request_headers = { \"User-Agent\" : \"Mozilla/5.0 (Macintosh; Intel Mac OS X 10_15_7) AppleWebKit/537.36 (KHTML, like Gecko) Chrome/105.0.0.0 Safari/537.36\" }\n",
        "  response = requests.get(url = fulltxt_url, headers = request_headers)\n",
        "  response.raise_for_status()\n",
        "\n",
        "  # NOTE: Lowercase the text\n",
        "  fulltxt_content = response.text.lower()\n",
        "\n",
        "  # Split by \"<document>\", find the one with \"<type>information table\"\n",
        "  split_docs = fulltxt_content.split(\"<document>\")\n",
        "  if len(split_docs) == 0:\n",
        "    print(\"Failed to find a <document> tag in {}. Check file format\".format(fulltxt_url))\n",
        "    return master_list\n",
        "\n",
        "  for doc in split_docs:\n",
        "    if \"<type>information table\" in doc:\n",
        "\n",
        "      # Jump into XML tag\n",
        "      split_it = doc.split(\"<xml>\")\n",
        "      if len(split_it) < 2:\n",
        "        print(\"Failed to split information table for {}. Check file format\".format(fulltxt_url))\n",
        "        return []\n",
        "\n",
        "      # Clean it up \n",
        "      stripped_xml = split_it[1].replace(\"</xml>\", \"\").replace(\"</text>\", \"\").replace(\"</document>\", \"\").replace(\"</sec-document>\", \"\").strip()\n",
        "      \n",
        "      # Get root informationtable, holds one infotable child per position/holding\n",
        "      soup = BeautifulSoup(stripped_xml, features = \"xml\")\n",
        "      parent_infotable = soup.find(re.compile(\"informationtable\"))\n",
        "\n",
        "      if len(parent_infotable) == 0:\n",
        "        print(\"Failed to find <informationTable> of {}. Check file format\".format(fulltxt_url))\n",
        "        return master_list\n",
        "\n",
        "      # Loop through the child infotables\n",
        "      positions_list = parent_infotable.find_all(re.compile(\"infotable\"))\n",
        "      if len(positions_list) == 0:\n",
        "        print(\"No holdings found in info table of {}\".format(fulltxt_url))\n",
        "        return master_list\n",
        "\n",
        "      for position_index, position in enumerate(positions_list):\n",
        "\n",
        "        # Create a dict for the position infotable\n",
        "        holding = {\n",
        "            \"issuer\" : \"\",\n",
        "            \"class\" : \"\",\n",
        "            \"cusip\" : \"\",\n",
        "            \"amount\" : \"\",\n",
        "            \"type\" : \"\"\n",
        "        }\n",
        "\n",
        "        # Fill it\n",
        "        try:\n",
        "          holding[\"issuer\"] = position.find(re.compile(\"nameofissuer\")).text.strip()\n",
        "          holding[\"class\"] = position.find(re.compile(\"titleofclass\")).text.strip()\n",
        "          holding[\"cusip\"] = position.find(re.compile(\"cusip\")).text.strip()\n",
        "          holding[\"amount\"] = position.find(re.compile(\"sshprnamt\")).text.strip()\n",
        "          holding[\"type\"] = position.find(re.compile(\"sshprnamttype\")).text.strip()\n",
        "        except:\n",
        "          print(\"Failed reading values of position #{} in {}. Skipping\".format(position_index + 1, fulltxt_url))\n",
        "          continue\n",
        "        \n",
        "        # All caps and append to master\n",
        "        for key, value in holding.items():\n",
        "          holding[key] = value.upper()\n",
        "        master_list.append(holding)\n",
        "\n",
        "  return master_list"
      ]
    },
    {
      "cell_type": "code",
      "source": [
        "#print(info_table_from_fulltxt(\"https://www.sec.gov/Archives/edgar/data/1532472/000153247222000004/0001532472-22-000004.txt\")) # HAS NAMESPACE\n",
        "print(info_table_from_fulltxt(\"https://www.sec.gov/Archives/edgar/data/1715593/000171559322000005/0001715593-22-000005.txt\")) # NO NAMESPACE"
      ],
      "metadata": {
        "id": "-7tjmnANg-FY"
      },
      "execution_count": null,
      "outputs": []
    },
    {
      "cell_type": "code",
      "source": [
        "# TODO: CUSIP lookup via https://www.openfigi.com/api "
      ],
      "metadata": {
        "id": "AiDFWn2k-d5o"
      },
      "execution_count": null,
      "outputs": []
    },
    {
      "cell_type": "code",
      "source": [
        "# TODO: Methods to compare two 13F-HR's against eachother"
      ],
      "metadata": {
        "id": "3C7xePJj-jy9"
      },
      "execution_count": null,
      "outputs": []
    }
  ]
}