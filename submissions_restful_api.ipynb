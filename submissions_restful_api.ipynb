{
  "nbformat": 4,
  "nbformat_minor": 0,
  "metadata": {
    "colab": {
      "provenance": [],
      "authorship_tag": "ABX9TyNDxhpg3Vw6jlQmHjAq4sfZ"
    },
    "kernelspec": {
      "name": "python3",
      "display_name": "Python 3"
    },
    "language_info": {
      "name": "python"
    }
  },
  "cells": [
    {
      "cell_type": "code",
      "source": [
        "# HTTP lib\n",
        "import requests"
      ],
      "metadata": {
        "id": "YDnh1Ubhz-qa"
      },
      "execution_count": null,
      "outputs": []
    },
    {
      "cell_type": "markdown",
      "source": [
        "# data.sec.gov/submissions/ API: easily find all filing documents by CIK\n",
        "Plugging a 10 digit CIK (*including leading 0's*) into https://data.sec.gov/submissions/CIK##########.json returns a structure containing the following information (plus more) about each filing: date of filing, form type/code, an accession number, a primary document filename, and a description of that primary document. These methods attempt to list all the primary document URL's, their filing dates, and their form types given a 10 digit CIK"
      ],
      "metadata": {
        "id": "v9VV0A6Hz60m"
      }
    },
    {
      "cell_type": "code",
      "execution_count": null,
      "metadata": {
        "id": "FZ77BkIzzykx"
      },
      "outputs": [],
      "source": [
        "# Support for methods below. If additional submission info is found in filings->files, those JSON files are traversed here. target_form_code = ANY to list all filings.\n",
        "def traverse_extended_submissions(ext_sub_uri, target_entity_cik, target_form_code='ANY'):\n",
        "\n",
        "  # Needed to interact with SEC website\n",
        "  request_headers = { \"User-Agent\" : \"Mozilla/5.0 (Macintosh; Intel Mac OS X 10_15_7) AppleWebKit/537.36 (KHTML, like Gecko) Chrome/105.0.0.0 Safari/537.36\" }\n",
        "\n",
        "  # Base URL for archived documents/data\n",
        "  submissions_url = r\"https://data.sec.gov/submissions/{}\".format(ext_sub_uri)\n",
        "  base_archive_url = r\"https://www.sec.gov/Archives/edgar/data/{}/\".format(target_entity_cik)\n",
        "\n",
        "  # Get the JSON data\n",
        "  response = requests.get(url = submissions_url, headers = request_headers)\n",
        "  response.raise_for_status()\n",
        "\n",
        "  json_data = response.json()\n",
        "\n",
        "  # We need 4 pieces of information about each filing: filing date, accession number, primary doc filename, and form code.\n",
        "  date_list = json_data['filingDate']\n",
        "  accession_list = json_data['accessionNumber']\n",
        "  primary_docs_list = json_data['primaryDocument']\n",
        "  form_code_list = json_data['form']\n",
        "\n",
        "  # Loop through each filing\n",
        "  for filing_index, current_filing_date in enumerate(date_list):\n",
        "\n",
        "    current_accession_num = accession_list[filing_index].replace('-','')\n",
        "    current_primary_doc = primary_docs_list[filing_index]\n",
        "    primary_doc_url = base_archive_url + current_accession_num + '/' + current_primary_doc\n",
        "\n",
        "    # If target_form_code != ANY, check that it matches\n",
        "    if target_form_code != 'ANY':\n",
        "      if form_code_list[filing_index] == target_form_code:\n",
        "        # Print filing date and URL\n",
        "        print(r\"{} {}\".format(current_filing_date, primary_doc_url))\n",
        "    \n",
        "    # Otherwise just list it\n",
        "    else:\n",
        "      print(r\"{} Form: {}, filed on: {} : {}\".format(filing_index, form_code_list[filing_index], current_filing_date, primary_doc_url))\n",
        "\n",
        "  return"
      ]
    },
    {
      "cell_type": "code",
      "source": [
        "def print_all_filing_docs(target_entity_cik):\n",
        "\n",
        "  # Needed to interact with SEC website\n",
        "  request_headers = { \"User-Agent\" : \"Mozilla/5.0 (Macintosh; Intel Mac OS X 10_15_7) AppleWebKit/537.36 (KHTML, like Gecko) Chrome/105.0.0.0 Safari/537.36\" }\n",
        "\n",
        "  # Base URL for archived documents/data\n",
        "  base_archive_url = r\"https://www.sec.gov/Archives/edgar/data/{}/\".format(target_entity_cik))\n",
        "\n",
        "  # Build the submissions URL, request it, and parse the JSON\n",
        "  submissions_url = r\"https://data.sec.gov/submissions/CIK{}.json\".format(target_entity_cik))\n",
        "  \n",
        "  response = requests.get(url = submissions_url, headers = request_headers)\n",
        "  response.raise_for_status()\n",
        "\n",
        "  json_data = response.json()\n",
        "\n",
        "  # The 1,000 most recent filings are under filings->recent\n",
        "  # We need 4 pieces of information about each filing: filing date, accession number, primary doc filename, and form code.\n",
        "  # Go into filings->recent dict, which will contain a separate ordered list for each of these pieces of info\n",
        "  date_list = json_data['filings']['recent']['filingDate']\n",
        "  accession_list = json_data['filings']['recent']['accessionNumber']\n",
        "  primary_docs_list = json_data['filings']['recent']['primaryDocument']\n",
        "  form_code_list = json_data['filings']['recent']['form']\n",
        "\n",
        "  # For each filing date, find corresponding other 3 pieces of info\n",
        "  for filing_index, current_filing_date in enumerate(date_list):\n",
        "\n",
        "    # Build full URL to primary document. Remove hyphens from accession number\n",
        "    current_accession_num = accession_list[filing_index].replace('-','')\n",
        "    current_primary_doc = primary_docs_list[filing_index] # TODO: 5/26/2000 and before, primary doc should just be Archives/edgar/data/CIK/ACCESSION_WITH_DASHES.txt\n",
        "    primary_doc_url = base_archive_url + current_accession_num + '/' + current_primary_doc\n",
        "\n",
        "    # Print filing type, date, and primary document URL\n",
        "    print(r\"{} Form: {}, filed on: {} : {}\".format(filing_index, form_code_list[filing_index], current_filing_date, primary_doc_url))\n",
        "\n",
        "  # In case there were more than 1,000 (or if there are filings for some other reason in there) check filings->files for links to additional\n",
        "  # Each entry in \"files\" contains \"name\" field with URI of another JSON file set up like submissions/CIK###.json \n",
        "  try:\n",
        "    for sub_link in json_data['filings']['files']:\n",
        "      traverse_extended_submissions(ext_sub_uri = sub_link['name'], target_entity_cik = target_entity_cik)\n",
        "  except:\n",
        "    pass\n",
        "\n",
        "  print(\"End list\")\n",
        "\n",
        "  return"
      ],
      "metadata": {
        "id": "aT0qEtoc0EDt"
      },
      "execution_count": null,
      "outputs": []
    },
    {
      "cell_type": "code",
      "source": [
        "# Example of calling above function\n",
        "test_target_cik = \"0000320193\" \n",
        "print_all_filing_docs(test_target_cik)"
      ],
      "metadata": {
        "id": "o32lvvg00Hfy"
      },
      "execution_count": null,
      "outputs": []
    },
    {
      "cell_type": "markdown",
      "source": [
        "# Find filings of specific form type of given CIK\n",
        "Consult https://www.sec.gov/info/edgar/forms/edgform.pdf and https://www.sec.gov/about/forms/secforms.htm for lists + descriptions of different form types. Slightly modified version of above function "
      ],
      "metadata": {
        "id": "U1zWLHjn0L7n"
      }
    },
    {
      "cell_type": "code",
      "source": [
        "def print_filing_docs_of_type(target_form_code, target_entity_cik):\n",
        "  \n",
        "  # Needed to interact with SEC website\n",
        "  request_headers = { \"User-Agent\" : \"Mozilla/5.0 (Macintosh; Intel Mac OS X 10_15_7) AppleWebKit/537.36 (KHTML, like Gecko) Chrome/105.0.0.0 Safari/537.36\" }\n",
        "\n",
        "  # Base URL for archived documents/data\n",
        "  base_archive_url = r\"https://www.sec.gov/Archives/edgar/data/{}/\".format(target_entity_cik)\n",
        "\n",
        "  # Build the submissions URL, request it, and parse the JSON\n",
        "  submissions_url = r\"https://data.sec.gov/submissions/CIK{}.json\".format(target_entity_cik)\n",
        "  \n",
        "  response = requests.get(url = submissions_url, headers = request_headers)\n",
        "  response.raise_for_status()\n",
        "\n",
        "  json_data = response.json()\n",
        "\n",
        "  # The 1,000 most recent filings are under filings->recent\n",
        "  # We need 4 pieces of information about each filing: filing date, accession number, primary doc filename, and form code.\n",
        "  # Go into filings->recent dict, which will contain a separate ordered list for each of these pieces of info\n",
        "  date_list = json_data['filings']['recent']['filingDate']\n",
        "  accession_list = json_data['filings']['recent']['accessionNumber']\n",
        "  primary_docs_list = json_data['filings']['recent']['primaryDocument']\n",
        "  form_code_list = json_data['filings']['recent']['form']\n",
        "\n",
        "  # Loop through list of form codes\n",
        "  print(\"Form {} filings found:\".format(target_form_code))\n",
        "  for filing_index, current_form_code in enumerate(form_code_list):\n",
        "\n",
        "    # Look for matching form types\n",
        "    if current_form_code == target_form_code:\n",
        "\n",
        "      # Build full URL to primary document. Remove hyphens from accession number\n",
        "      current_accession_num = accession_list[filing_index].replace('-','')\n",
        "      current_primary_doc = primary_docs_list[filing_index]\n",
        "      primary_doc_url = base_archive_url + current_accession_num + '/' + current_primary_doc # TODO: 5/26/2000 and before, primary doc should just be Archives/edgar/data/CIK/ACCESSION_WITH_DASHES.txt\n",
        "\n",
        "      # Print filing date and URL\n",
        "      print(r\"{} {}\".format(date_list[filing_index], primary_doc_url))\n",
        "  \n",
        "  # In case there were more than 1,000 check filings->files for links to additional\n",
        "  # Each entry in \"files\" contains \"name\" field with URI of another JSON file set up like submissions/CIK###.json \n",
        "  try:\n",
        "    for sub_link in json_data['filings']['files']:\n",
        "      traverse_extended_submissions(ext_sub_uri = sub_link['name'], target_entity_cik = target_entity_cik, target_form_code = target_form_code)\n",
        "  except:\n",
        "    pass\n",
        "\n",
        "  print(\"End list\")\n",
        "\n",
        "  return "
      ],
      "metadata": {
        "id": "hnFMS1Cz0V4U"
      },
      "execution_count": null,
      "outputs": []
    },
    {
      "cell_type": "code",
      "source": [
        "# Example of calling above function\n",
        "test_target_cik = \"0000320193\" \n",
        "print_filing_docs_of_type(\"10-Q\", test_target_cik)  "
      ],
      "metadata": {
        "id": "v1VOm1eL0Y0D"
      },
      "execution_count": null,
      "outputs": []
    }
  ]
}