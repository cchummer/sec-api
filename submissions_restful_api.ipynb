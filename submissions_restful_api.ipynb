{
  "nbformat": 4,
  "nbformat_minor": 0,
  "metadata": {
    "colab": {
      "provenance": [],
      "collapsed_sections": [],
      "authorship_tag": "ABX9TyNyrfG+s8U6Ujk+JuHvl59D"
    },
    "kernelspec": {
      "name": "python3",
      "display_name": "Python 3"
    },
    "language_info": {
      "name": "python"
    }
  },
  "cells": [
    {
      "cell_type": "code",
      "source": [
        "# HTTP lib\n",
        "import requests"
      ],
      "metadata": {
        "id": "YDnh1Ubhz-qa"
      },
      "execution_count": 1,
      "outputs": []
    },
    {
      "cell_type": "markdown",
      "source": [
        "# data.sec.gov/submissions/ API: easily find all filing documents by CIK\n",
        "Plugging a 10 digit CIK (*including leading 0's*) into https://data.sec.gov/submissions/CIK##########.json returns a structure containing the following information (plus more) about each filing: date of filing, form type/code, an accession number, a primary document filename, and a description of that primary document. These methods attempt to list all the primary document URL's, their filing dates, and their form types given a 10 digit CIK. See https://www.sec.gov/edgar/sec-api-documentation for information."
      ],
      "metadata": {
        "id": "v9VV0A6Hz60m"
      }
    },
    {
      "cell_type": "markdown",
      "source": [
        "Consult https://www.sec.gov/info/edgar/forms/edgform.pdf and https://www.sec.gov/about/forms/secforms.htm for lists + descriptions of different form types. "
      ],
      "metadata": {
        "id": "tKk8CzWdSi5R"
      }
    },
    {
      "cell_type": "code",
      "execution_count": 7,
      "metadata": {
        "id": "FZ77BkIzzykx"
      },
      "outputs": [],
      "source": [
        "# Support for methods below. If additional submission info is found in filings->files, those JSON files are traversed here. target_form_code = ANY to list all filings.\n",
        "def traverse_extended_submissions(ext_sub_uri, target_entity_cik, target_form_code='ANY'):\n",
        "\n",
        "  # Buffer the CIK \n",
        "  clean_target_cik = str(target_entity_cik).zfill(10)\n",
        "\n",
        "  # Needed to interact with SEC website\n",
        "  request_headers = { \"User-Agent\" : \"Mozilla/5.0 (Macintosh; Intel Mac OS X 10_15_7) AppleWebKit/537.36 (KHTML, like Gecko) Chrome/105.0.0.0 Safari/537.36\" }\n",
        "\n",
        "  # Base URL for archived documents/data\n",
        "  submissions_url = r\"https://data.sec.gov/submissions/{}\".format(ext_sub_uri)\n",
        "  base_archive_url = r\"https://www.sec.gov/Archives/edgar/data/{}/\".format(clean_target_cik)\n",
        "\n",
        "  # Get the JSON data\n",
        "  response = requests.get(url = submissions_url, headers = request_headers)\n",
        "  response.raise_for_status()\n",
        "\n",
        "  json_data = response.json()\n",
        "\n",
        "  # We need 4 pieces of information about each filing: filing date, accession number, primary doc filename, and form code.\n",
        "  date_list = json_data['filingDate']\n",
        "  accession_list = json_data['accessionNumber']\n",
        "  primary_docs_list = json_data['primaryDocument']\n",
        "  form_code_list = json_data['form']\n",
        "\n",
        "  # Loop through each filing\n",
        "  for filing_index, current_filing_date in enumerate(date_list):\n",
        "\n",
        "    current_accession_num = accession_list[filing_index].replace('-','')\n",
        "    current_primary_doc = primary_docs_list[filing_index]\n",
        "    primary_doc_url = base_archive_url + current_accession_num + '/' + current_primary_doc\n",
        "\n",
        "    # If target_form_code != ANY, check that it matches\n",
        "    if target_form_code != 'ANY':\n",
        "      if form_code_list[filing_index].upper() == target_form_code.upper():\n",
        "        # Print filing date and URL\n",
        "        print(r\"{} {}\".format(current_filing_date, primary_doc_url))\n",
        "    \n",
        "    # Otherwise just list it\n",
        "    else:\n",
        "      print(r\"{} Form: {}, filed on: {} : {}\".format(filing_index, form_code_list[filing_index], current_filing_date, primary_doc_url))\n",
        "\n",
        "  return"
      ]
    },
    {
      "cell_type": "code",
      "source": [
        "# Lists all filings of a given CIK and a link to respective primary documents / filing directory, optionally filtering filings by form type\n",
        "# Takes CIK, boolean filter_by_form, and optional target_form_code (used if filter_by_form is True)\n",
        "def list_filing_docs(target_entity_cik, filter_by_form=False, target_form_type = \"ANY\"):\n",
        "\n",
        "  # Buffer the CIK \n",
        "  clean_target_cik = str(target_entity_cik).zfill(10)\n",
        "\n",
        "  # Needed to interact with SEC website\n",
        "  request_headers = { \"User-Agent\" : \"Mozilla/5.0 (Macintosh; Intel Mac OS X 10_15_7) AppleWebKit/537.36 (KHTML, like Gecko) Chrome/105.0.0.0 Safari/537.36\" }\n",
        "\n",
        "  # Base URL for archived documents/data\n",
        "  base_archive_url = r\"https://www.sec.gov/Archives/edgar/data/{}/\".format(clean_target_cik)\n",
        "\n",
        "  # Build the submissions URL, request it, and parse the JSON\n",
        "  submissions_url = r\"https://data.sec.gov/submissions/CIK{}.json\".format(clean_target_cik)\n",
        "  \n",
        "  response = requests.get(url = submissions_url, headers = request_headers)\n",
        "  response.raise_for_status()\n",
        "\n",
        "  json_data = response.json()\n",
        "\n",
        "  # The 1,000 most recent filings are under filings->recent\n",
        "  # We need 4 pieces of information about each filing: filing date, accession number, primary doc filename, and form code.\n",
        "  # Go into filings->recent dict, which will contain a separate ordered list for each of these pieces of info\n",
        "  date_list = json_data['filings']['recent']['filingDate']\n",
        "  accession_list = json_data['filings']['recent']['accessionNumber']\n",
        "  primary_docs_list = json_data['filings']['recent']['primaryDocument']\n",
        "  form_code_list = json_data['filings']['recent']['form']\n",
        "\n",
        "  # Loop through each filing. Chose date as iterated list, but all four fields should be present for each filing\n",
        "  for filing_index, current_filing_date in enumerate(date_list):\n",
        "\n",
        "    # If we are filtering by form type, skip if no match\n",
        "    if (filter_by_form == True and target_form_type != \"ANY\"):\n",
        "      if form_code_list[filing_index].upper() != target_form_type.upper():\n",
        "        continue\n",
        "\n",
        "    # Build full URL to primary document. Remove hyphens from accession number\n",
        "    current_accession_num = accession_list[filing_index].replace('-','')\n",
        "    current_primary_doc = primary_docs_list[filing_index] # TODO: 5/26/2000 and before, primary doc should just be Archives/edgar/data/CIK/ACCESSION_WITH_DASHES.txt\n",
        "    primary_doc_url = base_archive_url + current_accession_num + '/' + current_primary_doc\n",
        "\n",
        "    # Print filing type, date, and primary document URL\n",
        "    print(r\"{} Form: {}, filed on: {} : {}\".format(filing_index, form_code_list[filing_index], current_filing_date, primary_doc_url))\n",
        "\n",
        "  # In case there were more than 1,000 (or if there are filings for some other reason in there) check filings->files for links to additional\n",
        "  # Each entry in \"files\" contains \"name\" field with URI of another JSON file set up like submissions/CIK###.json \n",
        "  try:\n",
        "    for sub_link in json_data['filings']['files']:\n",
        "      traverse_extended_submissions(ext_sub_uri = sub_link['name'], target_entity_cik = clean_target_cik, target_form_code = target_form_type)\n",
        "  except:\n",
        "    pass\n",
        "\n",
        "  print(\"End list\")\n",
        "\n",
        "  return"
      ],
      "metadata": {
        "id": "aT0qEtoc0EDt"
      },
      "execution_count": 8,
      "outputs": []
    },
    {
      "cell_type": "code",
      "source": [
        "# Example of calling above function\n",
        "test_target_cik = \"0000320193\" \n",
        "list_filing_docs(target_entity_cik = test_target_cik, filter_by_form=True, target_form_type = \"4\")"
      ],
      "metadata": {
        "id": "o32lvvg00Hfy"
      },
      "execution_count": null,
      "outputs": []
    },
    {
      "cell_type": "markdown",
      "source": [
        "# Other values\n",
        "The above method focuses on extracting information about specific filings, but the API does return (and seem to be the easiest source, when searching via a CIK) some other interesting values:\n",
        "\n",
        "\n",
        "```\n",
        "entityType : \"\" # Denotes the type entity (i.e. \"operating\" for company, seems to be \"other\" for individual, etc)\n",
        "sic : \"\" # SIC number\n",
        "sicDescription : \"\" # Description of SIC category\n",
        "insiderTransactionForOwnerExists : int # Will be 1 if the filer is an \"insider\" who has filed beneficial ownership filings (form 4 etc). 0 otherwise\n",
        "insiderTransactionForIssuerExists: int # Will be set to 1 if the filer is an issuer to insiders/beneficial owners and has filed related filings. 0 otherwise\n",
        "name : \"\" # Name of entity\n",
        "tickers : [] # List of tickers connected to filer\n",
        "exchanges : [] # List of names of exchanges of respective tickers\n",
        "ein : \"\" # Employer ID number\n",
        "category : \"\" # Description of filing category (i.e. \"Large accelerated filer\")\n",
        "fiscalYearEnd : \"MMDD\" # End of company's fiscal year\n",
        "stateOfIncorporation : \"\" # State of incorp\n",
        "stateOfIncorporationDescription : \"\" # Generally same as above\n",
        "addresses : [] # Contains one dict for mailing address and one for business address\n",
        "phone : \"\" # Phone number\n",
        "formerNames : [] # Contains one dict for each former name the company held \n",
        "```\n",
        "\n"
      ],
      "metadata": {
        "id": "9lVMLQZxEdWW"
      }
    },
    {
      "cell_type": "code",
      "source": [
        "# Get SIC code and description given a CIK. Useful when CIK has been procured from other sources/endpoints which did not give SIC alongside\n",
        "def get_sic_from_cik(target_cik):\n",
        "\n",
        "  sic_dict = {\n",
        "      \"sic\" : \"\",\n",
        "      \"desc\" : \"\"\n",
        "  }\n",
        "\n",
        "  # Request page\n",
        "  request_headers = { \"User-Agent\" : \"Mozilla/5.0 (Macintosh; Intel Mac OS X 10_15_7) AppleWebKit/537.36 (KHTML, like Gecko) Chrome/105.0.0.0 Safari/537.36\" }\n",
        "  submissions_url = r\"https://data.sec.gov/submissions/CIK{}.json\".format(str(target_cik).zfill(10))\n",
        "  \n",
        "  response = requests.get(url = submissions_url, headers = request_headers)\n",
        "  response.raise_for_status()\n",
        "\n",
        "  # Get SIC and description\n",
        "  json_data = response.json()\n",
        "  try:\n",
        "    sic_dict[\"sic\"] = json_data[\"sic\"]\n",
        "    sic_dict[\"desc\"] = json_data[\"sicDescription\"]\n",
        "  except:\n",
        "    print(\"Submissions JSON response formatting not as excpected. Check structure\")\n",
        "\n",
        "  return sic_dict"
      ],
      "metadata": {
        "id": "LJh_cwG1KNAw"
      },
      "execution_count": 4,
      "outputs": []
    }
  ]
}