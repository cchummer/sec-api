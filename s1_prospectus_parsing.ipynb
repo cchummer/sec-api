{
  "cells": [
    {
      "cell_type": "markdown",
      "metadata": {
        "id": "view-in-github",
        "colab_type": "text"
      },
      "source": [
        "<a href=\"https://colab.research.google.com/github/cchummer/sec-api/blob/main/s1_prospectus_parsing.ipynb\" target=\"_parent\"><img src=\"https://colab.research.google.com/assets/colab-badge.svg\" alt=\"Open In Colab\"/></a>"
      ]
    },
    {
      "cell_type": "markdown",
      "metadata": {
        "id": "bfm4qWzez-wf"
      },
      "source": [
        "# This module is being developed mainly to extract the prospectus summary and risk factors sections from S1 filings for LDA and NMF topic analysis."
      ]
    },
    {
      "cell_type": "markdown",
      "metadata": {
        "id": "vDuttJMA2pK0"
      },
      "source": [
        "First we will use the daily index files to retrieve filings in mass"
      ]
    },
    {
      "cell_type": "code",
      "execution_count": 1,
      "metadata": {
        "id": "1k8qpI6t5KXj"
      },
      "outputs": [],
      "source": [
        "from datetime import date\n",
        "import requests"
      ]
    },
    {
      "cell_type": "code",
      "execution_count": 2,
      "metadata": {
        "id": "DRJ1_h0R5lXY"
      },
      "outputs": [],
      "source": [
        "\"\"\"\n",
        "Support method used below. Given a date object, determines the quarter number.\n",
        "Quarters are literally just divided into four 3-month groups: Jan-Mar, Apr-Jun, Jul-Sep, Oct-Dec (month 1-3, 4-6, 7-9, 10-12)\n",
        "\"\"\"\n",
        "def get_quarter_from_date(date_obj):\n",
        "  if (date_obj.month >= 1 and date_obj.month <= 3):\n",
        "    return 1\n",
        "  elif (date_obj.month >= 4 and date_obj.month <= 6):\n",
        "    return 2\n",
        "  elif (date_obj.month >= 7 and date_obj.month <= 9):\n",
        "    return 3\n",
        "  elif (date_obj.month >= 10 and date_obj.month <= 12):\n",
        "    return 4\n",
        "  else:\n",
        "    print(\"Failed to determine quarter from given date.\")\n",
        "\n",
        "  return 0"
      ]
    },
    {
      "cell_type": "code",
      "execution_count": 3,
      "metadata": {
        "id": "07vrH4ofzaEb"
      },
      "outputs": [],
      "source": [
        "\"\"\"\n",
        "filter_type = \"cik\", \"company\", \"type\", or \"date\"\n",
        "unique_vals = [] # List of unique values (CIKs, company names, types, or dates). NOTE: Dates should be passed as a list of date objects\n",
        "\n",
        "Returns a list of dictionaries of the following structure:\n",
        "{\n",
        "  \"cik\" : \"CIK_NUM\",\n",
        "  \"company\" : \"COMPANY_NAME\",\n",
        "  \"type\" : \"FILING_TYPE\",\n",
        "  \"date\" : \"YYYY-MM-DD\",\n",
        "  \"fulltext_path\" : \".../edgar/data/CIK/ETC\"\n",
        "}\n",
        "\"\"\"\n",
        "def filter_quarter_by_param(target_year, target_quarter, filter_type, unique_vals = ()):\n",
        "\n",
        "  filings_list = []\n",
        "\n",
        "  # Figure out what kind of filter and format the unique values if needed\n",
        "  clean_unique_vals = []\n",
        "  filter_column = 0\n",
        "\n",
        "  if filter_type == \"cik\":\n",
        "    # Strip leading 0's for consistency. The IDX files won't include them from what I've seen.\n",
        "    for i in unique_vals:\n",
        "      clean_unique_vals.append(str(i).lstrip(\"0\"))\n",
        "\n",
        "  elif filter_type == \"company\":\n",
        "    filter_column = 1\n",
        "    for i in unique_vals:\n",
        "      clean_unique_vals.append(i.lower())\n",
        "\n",
        "  elif filter_type == \"type\":\n",
        "    filter_column = 2\n",
        "    for i in unique_vals:\n",
        "      clean_unique_vals.append(i.lower())\n",
        "\n",
        "  elif filter_type == \"date\":\n",
        "    filter_column = 3\n",
        "    # Convert date structures into \"YYYY-MM-DD\" strings\n",
        "    try:\n",
        "      for d in unique_vals:\n",
        "        clean_unique_vals.append(\"{}-{}-{}\".format(d.year, str(d.month).zfill(2), str(d.day).zfill(2)))\n",
        "    except:\n",
        "      print(\"Invalid filter date objects passed.\")\n",
        "      return filings_list\n",
        "\n",
        "  else:\n",
        "    print(\"Invalid quarterly filter type. Must be name, CIK, type, or date: {}\".format(filter_type))\n",
        "    return filings_list\n",
        "\n",
        "  # URLs and UA for full-index\n",
        "  qtr_index_url = r\"https://www.sec.gov/Archives/edgar/full-index/{}/QTR{}/master.idx\".format(target_year, target_quarter)\n",
        "  base_archives = \"https://www.sec.gov/Archives/\"\n",
        "  req_headers = { \"User-Agent\" : \"Mozilla/5.0 (Macintosh; Intel Mac OS X 10_15_7) AppleWebKit/537.36 (KHTML, like Gecko) Chrome/105.0.0.0 Safari/537.36\" }\n",
        "\n",
        "  # Get the .idx file\n",
        "  resp = requests.get(url = qtr_index_url, headers = req_headers)\n",
        "  resp.raise_for_status()\n",
        "\n",
        "  # First separate the header from the lines of content. Look for twenty dashes in a row followed by a newline\n",
        "  idx_full_text = resp.text\n",
        "  split_idx = idx_full_text.split(\"--------------------\\n\")\n",
        "\n",
        "  # Loop through lines of data\n",
        "  try:\n",
        "    for line in split_idx[1].splitlines():\n",
        "\n",
        "      # CIK|Company Name|Form Type|Date Filed|Filename\n",
        "      # We expect 5 columns\n",
        "      columns = line.split(\"|\")\n",
        "      if len(columns) == 5:\n",
        "\n",
        "        if columns[filter_column].lower() in clean_unique_vals:\n",
        "          # Build a dictionary for the filing if we find match\n",
        "          found_filing = {}\n",
        "          found_filing[\"cik\"] = columns[0].zfill(10)\n",
        "          found_filing[\"company\"] = columns[1]\n",
        "          found_filing[\"type\"] = columns[2]\n",
        "          found_filing[\"date\"] = columns[3]\n",
        "          found_filing[\"fulltext_path\"] = base_archives + columns[4]\n",
        "\n",
        "          # Append it\n",
        "          filings_list.append(found_filing)\n",
        "\n",
        "  except:\n",
        "    print(\"IDX file was in unexpected format, error parsing\")\n",
        "\n",
        "  return filings_list"
      ]
    },
    {
      "cell_type": "code",
      "execution_count": 4,
      "metadata": {
        "colab": {
          "base_uri": "https://localhost:8080/"
        },
        "id": "hw9Gf-V85Bcu",
        "outputId": "f2619f56-2492-44a4-a77e-a2ba7233bfcb"
      },
      "outputs": [
        {
          "output_type": "stream",
          "name": "stdout",
          "text": [
            "[{'cik': '0001014763', 'company': 'Ainos, Inc.', 'type': 'S-1', 'date': '2024-04-08', 'fulltext_path': 'https://www.sec.gov/Archives/edgar/data/1014763/0001493152-24-013774.txt'}, {'cik': '0001029125', 'company': 'Panbela Therapeutics, Inc.', 'type': 'S-1', 'date': '2024-04-18', 'fulltext_path': 'https://www.sec.gov/Archives/edgar/data/1029125/0001437749-24-012445.txt'}, {'cik': '0001063537', 'company': 'RiceBran Technologies', 'type': 'S-1', 'date': '2024-04-19', 'fulltext_path': 'https://www.sec.gov/Archives/edgar/data/1063537/0001437749-24-012560.txt'}, {'cik': '0001096275', 'company': 'Worksport Ltd', 'type': 'S-1', 'date': '2024-04-02', 'fulltext_path': 'https://www.sec.gov/Archives/edgar/data/1096275/0001493152-24-012713.txt'}, {'cik': '0001121702', 'company': 'YIELD10 BIOSCIENCE, INC.', 'type': 'S-1', 'date': '2024-04-25', 'fulltext_path': 'https://www.sec.gov/Archives/edgar/data/1121702/0001121702-24-000029.txt'}, {'cik': '0001133818', 'company': 'BIO-PATH HOLDINGS, INC.', 'type': 'S-1', 'date': '2024-04-24', 'fulltext_path': 'https://www.sec.gov/Archives/edgar/data/1133818/0001104659-24-051250.txt'}, {'cik': '0001136174', 'company': 'Ontrak, Inc.', 'type': 'S-1', 'date': '2024-04-22', 'fulltext_path': 'https://www.sec.gov/Archives/edgar/data/1136174/0001628280-24-016990.txt'}, {'cik': '0001376804', 'company': 'VNUE, Inc.', 'type': 'S-1', 'date': '2024-04-18', 'fulltext_path': 'https://www.sec.gov/Archives/edgar/data/1376804/0001829126-24-002630.txt'}, {'cik': '0001394319', 'company': 'Tracon Pharmaceuticals, Inc.', 'type': 'S-1', 'date': '2024-04-12', 'fulltext_path': 'https://www.sec.gov/Archives/edgar/data/1394319/0000950170-24-044109.txt'}, {'cik': '0001396536', 'company': 'DUOS TECHNOLOGIES GROUP, INC.', 'type': 'S-1', 'date': '2024-04-12', 'fulltext_path': 'https://www.sec.gov/Archives/edgar/data/1396536/0001079973-24-000540.txt'}, {'cik': '0001407583', 'company': 'Bunker Hill Mining Corp.', 'type': 'S-1', 'date': '2024-04-15', 'fulltext_path': 'https://www.sec.gov/Archives/edgar/data/1407583/0001493152-24-014677.txt'}, {'cik': '0001409269', 'company': 'Venus Concept Inc.', 'type': 'S-1', 'date': '2024-04-03', 'fulltext_path': 'https://www.sec.gov/Archives/edgar/data/1409269/0001140361-24-017610.txt'}, {'cik': '0001439725', 'company': 'BIODESIX INC', 'type': 'S-1', 'date': '2024-04-23', 'fulltext_path': 'https://www.sec.gov/Archives/edgar/data/1439725/0001193125-24-107051.txt'}, {'cik': '0001492674', 'company': 'T2 Biosystems, Inc.', 'type': 'S-1', 'date': '2024-04-22', 'fulltext_path': 'https://www.sec.gov/Archives/edgar/data/1492674/0001193125-24-105041.txt'}, {'cik': '0001497253', 'company': 'ORGANOVO HOLDINGS, INC.', 'type': 'S-1', 'date': '2024-04-12', 'fulltext_path': 'https://www.sec.gov/Archives/edgar/data/1497253/0000950170-24-044137.txt'}, {'cik': '0001498148', 'company': 'Artificial Intelligence Technology Solutions Inc.', 'type': 'S-1', 'date': '2024-04-03', 'fulltext_path': 'https://www.sec.gov/Archives/edgar/data/1498148/0001493152-24-013029.txt'}, {'cik': '0001505497', 'company': 'BioRestorative Therapies, Inc.', 'type': 'S-1', 'date': '2024-04-03', 'fulltext_path': 'https://www.sec.gov/Archives/edgar/data/1505497/0001021771-24-000084.txt'}, {'cik': '0001554818', 'company': 'AUDDIA INC.', 'type': 'S-1', 'date': '2024-04-11', 'fulltext_path': 'https://www.sec.gov/Archives/edgar/data/1554818/0001683168-24-002293.txt'}, {'cik': '0001559495', 'company': 'Symetra Life Insurance Co', 'type': 'S-1', 'date': '2024-04-01', 'fulltext_path': 'https://www.sec.gov/Archives/edgar/data/1559495/0001559495-24-000020.txt'}, {'cik': '0001559495', 'company': 'Symetra Life Insurance Co', 'type': 'S-1', 'date': '2024-04-01', 'fulltext_path': 'https://www.sec.gov/Archives/edgar/data/1559495/0001559495-24-000021.txt'}, {'cik': '0001563568', 'company': 'Envirotech Vehicles, Inc.', 'type': 'S-1', 'date': '2024-04-05', 'fulltext_path': 'https://www.sec.gov/Archives/edgar/data/1563568/0001437749-24-011235.txt'}, {'cik': '0001610853', 'company': 'HELIUS MEDICAL TECHNOLOGIES, INC.', 'type': 'S-1', 'date': '2024-04-15', 'fulltext_path': 'https://www.sec.gov/Archives/edgar/data/1610853/0001104659-24-047362.txt'}, {'cik': '0001623590', 'company': 'Fintech Scion Ltd', 'type': 'S-1', 'date': '2024-04-26', 'fulltext_path': 'https://www.sec.gov/Archives/edgar/data/1623590/0001753926-24-000851.txt'}, {'cik': '0001634117', 'company': 'Barnes & Noble Education, Inc.', 'type': 'S-1', 'date': '2024-04-18', 'fulltext_path': 'https://www.sec.gov/Archives/edgar/data/1634117/0001193125-24-100851.txt'}, {'cik': '0001636282', 'company': 'Spyre Therapeutics, Inc.', 'type': 'S-1', 'date': '2024-04-19', 'fulltext_path': 'https://www.sec.gov/Archives/edgar/data/1636282/0001193125-24-101185.txt'}, {'cik': '0001644488', 'company': 'SHARING SERVICES GLOBAL Corp', 'type': 'S-1', 'date': '2024-04-12', 'fulltext_path': 'https://www.sec.gov/Archives/edgar/data/1644488/0001493152-24-014492.txt'}, {'cik': '0001661998', 'company': 'Q32 Bio Inc.', 'type': 'S-1', 'date': '2024-04-19', 'fulltext_path': 'https://www.sec.gov/Archives/edgar/data/1661998/0001193125-24-102858.txt'}, {'cik': '0001681682', 'company': 'ENDRA Life Sciences Inc.', 'type': 'S-1', 'date': '2024-04-19', 'fulltext_path': 'https://www.sec.gov/Archives/edgar/data/1681682/0001654954-24-004823.txt'}, {'cik': '0001708331', 'company': 'Virpax Pharmaceuticals, Inc.', 'type': 'S-1', 'date': '2024-04-18', 'fulltext_path': 'https://www.sec.gov/Archives/edgar/data/1708331/0001213900-24-034117.txt'}, {'cik': '0001711786', 'company': 'Hoth Therapeutics, Inc.', 'type': 'S-1', 'date': '2024-04-11', 'fulltext_path': 'https://www.sec.gov/Archives/edgar/data/1711786/0001213900-24-032207.txt'}, {'cik': '0001712762', 'company': 'bioAffinity Technologies, Inc.', 'type': 'S-1', 'date': '2024-04-04', 'fulltext_path': 'https://www.sec.gov/Archives/edgar/data/1712762/0001493152-24-013214.txt'}, {'cik': '0001716166', 'company': 'Vivos Therapeutics, Inc.', 'type': 'S-1', 'date': '2024-04-09', 'fulltext_path': 'https://www.sec.gov/Archives/edgar/data/1716166/0001493152-24-013987.txt'}, {'cik': '0001733413', 'company': 'TFF Pharmaceuticals, Inc.', 'type': 'S-1', 'date': '2024-04-08', 'fulltext_path': 'https://www.sec.gov/Archives/edgar/data/1733413/0001213900-24-030971.txt'}, {'cik': '0001733413', 'company': 'TFF Pharmaceuticals, Inc.', 'type': 'S-1', 'date': '2024-04-18', 'fulltext_path': 'https://www.sec.gov/Archives/edgar/data/1733413/0001213900-24-034178.txt'}, {'cik': '0001750149', 'company': 'Inhibikase Therapeutics, Inc.', 'type': 'S-1', 'date': '2024-04-19', 'fulltext_path': 'https://www.sec.gov/Archives/edgar/data/1750149/0001193125-24-103050.txt'}, {'cik': '0001757499', 'company': 'Shuttle Pharmaceuticals Holdings, Inc.', 'type': 'S-1', 'date': '2024-04-05', 'fulltext_path': 'https://www.sec.gov/Archives/edgar/data/1757499/0001493152-24-013368.txt'}, {'cik': '0001809750', 'company': 'Edible Garden AG Inc', 'type': 'S-1', 'date': '2024-04-26', 'fulltext_path': 'https://www.sec.gov/Archives/edgar/data/1809750/0001477932-24-002358.txt'}, {'cik': '0001811109', 'company': 'Applied UV, Inc.', 'type': 'S-1', 'date': '2024-04-16', 'fulltext_path': 'https://www.sec.gov/Archives/edgar/data/1811109/0001213900-24-033523.txt'}, {'cik': '0001817232', 'company': 'Global Gas Corp', 'type': 'S-1', 'date': '2024-04-16', 'fulltext_path': 'https://www.sec.gov/Archives/edgar/data/1817232/0001213900-24-033456.txt'}, {'cik': '0001817760', 'company': 'SmartKem, Inc.', 'type': 'S-1', 'date': '2024-04-11', 'fulltext_path': 'https://www.sec.gov/Archives/edgar/data/1817760/0001410578-24-000449.txt'}, {'cik': '0001826011', 'company': 'Banzai International, Inc.', 'type': 'S-1', 'date': '2024-04-22', 'fulltext_path': 'https://www.sec.gov/Archives/edgar/data/1826011/0001193125-24-105081.txt'}, {'cik': '0001832487', 'company': 'Guerrilla RF, Inc.', 'type': 'S-1', 'date': '2024-04-26', 'fulltext_path': 'https://www.sec.gov/Archives/edgar/data/1832487/0001437749-24-013380.txt'}, {'cik': '0001833498', 'company': 'Spectral AI, Inc.', 'type': 'S-1', 'date': '2024-04-10', 'fulltext_path': 'https://www.sec.gov/Archives/edgar/data/1833498/0001213900-24-031907.txt'}, {'cik': '0001834526', 'company': 'GP-Act III Acquisition Corp.', 'type': 'S-1', 'date': '2024-04-19', 'fulltext_path': 'https://www.sec.gov/Archives/edgar/data/1834526/0001104659-24-049264.txt'}, {'cik': '0001838163', 'company': 'Brand Engagement Network Inc.', 'type': 'S-1', 'date': '2024-04-12', 'fulltext_path': 'https://www.sec.gov/Archives/edgar/data/1838163/0001493152-24-014497.txt'}, {'cik': '0001839341', 'company': 'Core Scientific, Inc./tx', 'type': 'S-1', 'date': '2024-04-15', 'fulltext_path': 'https://www.sec.gov/Archives/edgar/data/1839341/0001628280-24-016122.txt'}, {'cik': '0001843714', 'company': 'Zapata Computing Holdings Inc.', 'type': 'S-1', 'date': '2024-04-12', 'fulltext_path': 'https://www.sec.gov/Archives/edgar/data/1843714/0001193125-24-094887.txt'}, {'cik': '0001843714', 'company': 'Zapata Computing Holdings Inc.', 'type': 'S-1', 'date': '2024-04-24', 'fulltext_path': 'https://www.sec.gov/Archives/edgar/data/1843714/0001193125-24-108015.txt'}, {'cik': '0001844505', 'company': 'QT IMAGING HOLDINGS, INC.', 'type': 'S-1', 'date': '2024-04-02', 'fulltext_path': 'https://www.sec.gov/Archives/edgar/data/1844505/0001193125-24-084445.txt'}, {'cik': '0001849635', 'company': 'Trump Media & Technology Group Corp.', 'type': 'S-1', 'date': '2024-04-15', 'fulltext_path': 'https://www.sec.gov/Archives/edgar/data/1849635/0001140361-24-019745.txt'}, {'cik': '0001851961', 'company': 'GCT Semiconductor Holding, Inc.', 'type': 'S-1', 'date': '2024-04-19', 'fulltext_path': 'https://www.sec.gov/Archives/edgar/data/1851961/0001410578-24-000518.txt'}, {'cik': '0001853070', 'company': 'Volato Group, Inc.', 'type': 'S-1', 'date': '2024-04-24', 'fulltext_path': 'https://www.sec.gov/Archives/edgar/data/1853070/0001140361-24-021768.txt'}, {'cik': '0001855467', 'company': 'MOBIX LABS, INC', 'type': 'S-1', 'date': '2024-04-02', 'fulltext_path': 'https://www.sec.gov/Archives/edgar/data/1855467/0001213900-24-029035.txt'}, {'cik': '0001855467', 'company': 'MOBIX LABS, INC', 'type': 'S-1', 'date': '2024-04-16', 'fulltext_path': 'https://www.sec.gov/Archives/edgar/data/1855467/0001213900-24-033133.txt'}, {'cik': '0001855474', 'company': 'Montana Technologies Corp.', 'type': 'S-1', 'date': '2024-04-12', 'fulltext_path': 'https://www.sec.gov/Archives/edgar/data/1855474/0001213900-24-032262.txt'}, {'cik': '0001863990', 'company': 'MultiSensor AI Holdings, Inc.', 'type': 'S-1', 'date': '2024-04-18', 'fulltext_path': 'https://www.sec.gov/Archives/edgar/data/1863990/0001104659-24-048846.txt'}, {'cik': '0001863990', 'company': 'MultiSensor AI Holdings, Inc.', 'type': 'S-1', 'date': '2024-04-29', 'fulltext_path': 'https://www.sec.gov/Archives/edgar/data/1863990/0001104659-24-053578.txt'}, {'cik': '0001865506', 'company': 'Zeo Energy Corp.', 'type': 'S-1', 'date': '2024-04-17', 'fulltext_path': 'https://www.sec.gov/Archives/edgar/data/1865506/0001213900-24-033869.txt'}, {'cik': '0001868640', 'company': 'Roadzen Inc.', 'type': 'S-1', 'date': '2024-04-16', 'fulltext_path': 'https://www.sec.gov/Archives/edgar/data/1868640/0000950170-24-044548.txt'}, {'cik': '0001870404', 'company': 'CERO THERAPEUTICS HOLDINGS, INC.', 'type': 'S-1', 'date': '2024-04-10', 'fulltext_path': 'https://www.sec.gov/Archives/edgar/data/1870404/0001213900-24-031869.txt'}, {'cik': '0001874097', 'company': 'Cyngn Inc.', 'type': 'S-1', 'date': '2024-04-12', 'fulltext_path': 'https://www.sec.gov/Archives/edgar/data/1874097/0001213900-24-032595.txt'}, {'cik': '0001879403', 'company': 'La Rosa Holdings Corp.', 'type': 'S-1', 'date': '2024-04-24', 'fulltext_path': 'https://www.sec.gov/Archives/edgar/data/1879403/0001213900-24-035778.txt'}, {'cik': '0001881551', 'company': 'Solidion Technology Inc.', 'type': 'S-1', 'date': '2024-04-15', 'fulltext_path': 'https://www.sec.gov/Archives/edgar/data/1881551/0001213900-24-033039.txt'}, {'cik': '0001883984', 'company': 'Alternus Clean Energy, Inc.', 'type': 'S-1', 'date': '2024-04-29', 'fulltext_path': 'https://www.sec.gov/Archives/edgar/data/1883984/0001213900-24-037297.txt'}, {'cik': '0001897245', 'company': 'HWH International Inc.', 'type': 'S-1', 'date': '2024-04-08', 'fulltext_path': 'https://www.sec.gov/Archives/edgar/data/1897245/0001493152-24-013944.txt'}, {'cik': '0001898604', 'company': 'Yoshiharu Global Co.', 'type': 'S-1', 'date': '2024-04-19', 'fulltext_path': 'https://www.sec.gov/Archives/edgar/data/1898604/0001493152-24-015367.txt'}, {'cik': '0001907108', 'company': 'Lexeo Therapeutics, Inc.', 'type': 'S-1', 'date': '2024-04-09', 'fulltext_path': 'https://www.sec.gov/Archives/edgar/data/1907108/0001193125-24-090233.txt'}, {'cik': '0001938046', 'company': 'MANGOCEUTICALS, INC.', 'type': 'S-1', 'date': '2024-04-23', 'fulltext_path': 'https://www.sec.gov/Archives/edgar/data/1938046/0001493152-24-015724.txt'}, {'cik': '0001943289', 'company': 'Silvaco Group, Inc.', 'type': 'S-1', 'date': '2024-04-12', 'fulltext_path': 'https://www.sec.gov/Archives/edgar/data/1943289/0001628280-24-016108.txt'}, {'cik': '0001943896', 'company': 'Rubrik, Inc.', 'type': 'S-1', 'date': '2024-04-01', 'fulltext_path': 'https://www.sec.gov/Archives/edgar/data/1943896/0001193125-24-083525.txt'}, {'cik': '0001956955', 'company': 'Unusual Machines, Inc.', 'type': 'S-1', 'date': '2024-04-10', 'fulltext_path': 'https://www.sec.gov/Archives/edgar/data/1956955/0001683168-24-002275.txt'}, {'cik': '0001958777', 'company': 'FibroBiologics, Inc.', 'type': 'S-1', 'date': '2024-04-26', 'fulltext_path': 'https://www.sec.gov/Archives/edgar/data/1958777/0001493152-24-015999.txt'}, {'cik': '0001959023', 'company': 'Safe & Green Development Corp', 'type': 'S-1', 'date': '2024-04-09', 'fulltext_path': 'https://www.sec.gov/Archives/edgar/data/1959023/0001213900-24-031327.txt'}, {'cik': '0001996192', 'company': 'Lakeside Holding Ltd', 'type': 'S-1', 'date': '2024-04-01', 'fulltext_path': 'https://www.sec.gov/Archives/edgar/data/1996192/0001213900-24-028465.txt'}, {'cik': '0001998768', 'company': 'Proficient Auto Logistics, Inc', 'type': 'S-1', 'date': '2024-04-11', 'fulltext_path': 'https://www.sec.gov/Archives/edgar/data/1998768/0001213900-24-032249.txt'}, {'cik': '0002000178', 'company': 'Loar Holdings, LLC', 'type': 'S-1', 'date': '2024-04-02', 'fulltext_path': 'https://www.sec.gov/Archives/edgar/data/2000178/0001193125-24-084921.txt'}, {'cik': '0002002473', 'company': 'Bowhead Specialty Holdings Inc.', 'type': 'S-1', 'date': '2024-04-12', 'fulltext_path': 'https://www.sec.gov/Archives/edgar/data/2002473/0001628280-24-016055.txt'}, {'cik': '0002006191', 'company': 'SEAC II Corp.', 'type': 'S-1', 'date': '2024-04-22', 'fulltext_path': 'https://www.sec.gov/Archives/edgar/data/2006191/0001193125-24-103743.txt'}, {'cik': '0002017302', 'company': 'Mission Space Acquisition Corp.', 'type': 'S-1', 'date': '2024-04-11', 'fulltext_path': 'https://www.sec.gov/Archives/edgar/data/2017302/0001213900-24-031980.txt'}, {'cik': '0002017950', 'company': 'DT Cloud Star Acquisition Corp', 'type': 'S-1', 'date': '2024-04-29', 'fulltext_path': 'https://www.sec.gov/Archives/edgar/data/2017950/0001493152-24-016919.txt'}, {'cik': '0002019504', 'company': 'DERUN GROUP INC', 'type': 'S-1', 'date': '2024-04-22', 'fulltext_path': 'https://www.sec.gov/Archives/edgar/data/2019504/0002019504-24-000003.txt'}, {'cik': '0002020455', 'company': 'Grayscale Ethereum Mini Trust (ETH)', 'type': 'S-1', 'date': '2024-04-23', 'fulltext_path': 'https://www.sec.gov/Archives/edgar/data/2020455/0001193125-24-106957.txt'}, {'cik': '0000205695', 'company': 'NATIONWIDE LIFE INSURANCE CO', 'type': 'S-1', 'date': '2024-04-04', 'fulltext_path': 'https://www.sec.gov/Archives/edgar/data/205695/0001193125-24-087178.txt'}, {'cik': '0000205695', 'company': 'NATIONWIDE LIFE INSURANCE CO', 'type': 'S-1', 'date': '2024-04-04', 'fulltext_path': 'https://www.sec.gov/Archives/edgar/data/205695/0001193125-24-087183.txt'}, {'cik': '0000310826', 'company': 'PROTECTIVE LIFE INSURANCE CO', 'type': 'S-1', 'date': '2024-04-12', 'fulltext_path': 'https://www.sec.gov/Archives/edgar/data/310826/0001628280-24-016099.txt'}, {'cik': '0000045947', 'company': 'TALCOTT RESOLUTION LIFE INSURANCE CO', 'type': 'S-1', 'date': '2024-04-24', 'fulltext_path': 'https://www.sec.gov/Archives/edgar/data/45947/0001628280-24-017628.txt'}, {'cik': '0000045947', 'company': 'TALCOTT RESOLUTION LIFE INSURANCE CO', 'type': 'S-1', 'date': '2024-04-24', 'fulltext_path': 'https://www.sec.gov/Archives/edgar/data/45947/0001628280-24-017629.txt'}, {'cik': '0000045947', 'company': 'TALCOTT RESOLUTION LIFE INSURANCE CO', 'type': 'S-1', 'date': '2024-04-24', 'fulltext_path': 'https://www.sec.gov/Archives/edgar/data/45947/0001628280-24-017630.txt'}, {'cik': '0000045947', 'company': 'TALCOTT RESOLUTION LIFE INSURANCE CO', 'type': 'S-1', 'date': '2024-04-24', 'fulltext_path': 'https://www.sec.gov/Archives/edgar/data/45947/0001628280-24-017631.txt'}, {'cik': '0000045947', 'company': 'TALCOTT RESOLUTION LIFE INSURANCE CO', 'type': 'S-1', 'date': '2024-04-24', 'fulltext_path': 'https://www.sec.gov/Archives/edgar/data/45947/0001628280-24-017632.txt'}, {'cik': '0000045947', 'company': 'TALCOTT RESOLUTION LIFE INSURANCE CO', 'type': 'S-1', 'date': '2024-04-24', 'fulltext_path': 'https://www.sec.gov/Archives/edgar/data/45947/0001628280-24-017633.txt'}, {'cik': '0000055234', 'company': 'KENILWORTH SYSTEMS CORP', 'type': 'S-1', 'date': '2024-04-01', 'fulltext_path': 'https://www.sec.gov/Archives/edgar/data/55234/0001477932-24-001667.txt'}, {'cik': '0000072499', 'company': 'ALLIANZ LIFE INSURANCE CO OF NORTH AMERICA', 'type': 'S-1', 'date': '2024-04-17', 'fulltext_path': 'https://www.sec.gov/Archives/edgar/data/72499/0000072499-24-000025.txt'}, {'cik': '0000072499', 'company': 'ALLIANZ LIFE INSURANCE CO OF NORTH AMERICA', 'type': 'S-1', 'date': '2024-04-17', 'fulltext_path': 'https://www.sec.gov/Archives/edgar/data/72499/0000072499-24-000026.txt'}, {'cik': '0000744452', 'company': 'APPLIED DNA SCIENCES INC', 'type': 'S-1', 'date': '2024-04-24', 'fulltext_path': 'https://www.sec.gov/Archives/edgar/data/744452/0001104659-24-050738.txt'}, {'cik': '0000788611', 'company': 'NextTrip, Inc.', 'type': 'S-1', 'date': '2024-04-08', 'fulltext_path': 'https://www.sec.gov/Archives/edgar/data/788611/0001493152-24-013960.txt'}, {'cik': '0000823533', 'company': 'UNION SECURITY INSURANCE CO', 'type': 'S-1', 'date': '2024-04-16', 'fulltext_path': 'https://www.sec.gov/Archives/edgar/data/823533/0001628280-24-016358.txt'}, {'cik': '0000823533', 'company': 'UNION SECURITY INSURANCE CO', 'type': 'S-1', 'date': '2024-04-16', 'fulltext_path': 'https://www.sec.gov/Archives/edgar/data/823533/0001628280-24-016364.txt'}, {'cik': '0000823533', 'company': 'UNION SECURITY INSURANCE CO', 'type': 'S-1', 'date': '2024-04-16', 'fulltext_path': 'https://www.sec.gov/Archives/edgar/data/823533/0001628280-24-016365.txt'}, {'cik': '0000823533', 'company': 'UNION SECURITY INSURANCE CO', 'type': 'S-1', 'date': '2024-04-16', 'fulltext_path': 'https://www.sec.gov/Archives/edgar/data/823533/0001628280-24-016366.txt'}, {'cik': '0000008504', 'company': 'AgEagle Aerial Systems Inc.', 'type': 'S-1', 'date': '2024-04-29', 'fulltext_path': 'https://www.sec.gov/Archives/edgar/data/8504/0001493152-24-016870.txt'}, {'cik': '0000880242', 'company': 'BIOLARGO, INC.', 'type': 'S-1', 'date': '2024-04-12', 'fulltext_path': 'https://www.sec.gov/Archives/edgar/data/880242/0001437749-24-011927.txt'}, {'cik': '0000909759', 'company': 'MIDLAND NATIONAL LIFE INSURANCE CO', 'type': 'S-1', 'date': '2024-04-19', 'fulltext_path': 'https://www.sec.gov/Archives/edgar/data/909759/0000909759-24-000023.txt'}, {'cik': '0000914804', 'company': 'UNION SECURITY LIFE INSURANCE CO OF NEW YORK', 'type': 'S-1', 'date': '2024-04-16', 'fulltext_path': 'https://www.sec.gov/Archives/edgar/data/914804/0001628280-24-016402.txt'}, {'cik': '0000914804', 'company': 'UNION SECURITY LIFE INSURANCE CO OF NEW YORK', 'type': 'S-1', 'date': '2024-04-16', 'fulltext_path': 'https://www.sec.gov/Archives/edgar/data/914804/0001628280-24-016404.txt'}, {'cik': '0000926617', 'company': \"Aspira Women's Health Inc.\", 'type': 'S-1', 'date': '2024-04-05', 'fulltext_path': 'https://www.sec.gov/Archives/edgar/data/926617/0001193125-24-088678.txt'}, {'cik': '0000931788', 'company': 'JACKSON NATIONAL LIFE INSURANCE CO', 'type': 'S-1', 'date': '2024-04-09', 'fulltext_path': 'https://www.sec.gov/Archives/edgar/data/931788/0000931788-24-000051.txt'}, {'cik': '0000931788', 'company': 'JACKSON NATIONAL LIFE INSURANCE CO', 'type': 'S-1', 'date': '2024-04-09', 'fulltext_path': 'https://www.sec.gov/Archives/edgar/data/931788/0000931788-24-000052.txt'}, {'cik': '0000946644', 'company': 'AIM ImmunoTech Inc.', 'type': 'S-1', 'date': '2024-04-19', 'fulltext_path': 'https://www.sec.gov/Archives/edgar/data/946644/0001493152-24-015368.txt'}]\n"
          ]
        }
      ],
      "source": [
        "# Test above method\n",
        "todays_date = date.today()\n",
        "qtrnum = get_quarter_from_date(todays_date)\n",
        "\n",
        "if (not qtrnum):\n",
        "  print('There was an issue determining the correct quarter(s) to grab')\n",
        "  exit()\n",
        "\n",
        "filtered_list = filter_quarter_by_param(todays_date.year, qtrnum, \"type\", ['S-1'])\n",
        "print(filtered_list)"
      ]
    },
    {
      "cell_type": "markdown",
      "metadata": {
        "id": "AeiHtcPo7a_b"
      },
      "source": [
        "Now we want to break down the document and find both the prosectus summary and risk factors, as mentioned. This code is borrowed from my 10Q and 10K [text section handling framework](https://github.com/cchummer/sec-api/blob/main/10q_k_text_parsing.ipynb)."
      ]
    },
    {
      "cell_type": "code",
      "execution_count": 1,
      "metadata": {
        "id": "SOQC7wjb_8SX"
      },
      "outputs": [],
      "source": [
        "from bs4 import BeautifulSoup, Tag, NavigableString\n",
        "import unicodedata"
      ]
    },
    {
      "cell_type": "code",
      "execution_count": 6,
      "metadata": {
        "id": "BK7cMWfrAF-q"
      },
      "outputs": [],
      "source": [
        "\"\"\"\n",
        "unicodedata.normalize leaves behind a couple of not technically whitespace control-characters. See https://www.geeksforgeeks.org/python-program-to-remove-all-control-characters/ and http://www.unicode.org/reports/tr44/#GC_Values_Table\n",
        "\"\"\"\n",
        "def remove_control_characters(s):\n",
        "    return \"\".join(ch for ch in s if unicodedata.category(ch)[0] != \"C\")\n",
        "\n",
        "\"\"\"\n",
        "Cleans the given text (specifically: unicode normalize and turn newlines/whitespace into a single space)\n",
        "\"\"\"\n",
        "def clean_column_text(text_to_clean):\n",
        "\n",
        "  clean_text = unicodedata.normalize('NFKD', text_to_clean)\n",
        "  clean_text = remove_control_characters(clean_text)\n",
        "  clean_text = clean_text.replace('\\n', ' ') # Split doesn't catch newlines from my testing\n",
        "  clean_text = \" \".join(clean_text.split()) # Split string along tabs and spaces, then rejoin the parts with single spaces instead\n",
        "\n",
        "  return clean_text"
      ]
    },
    {
      "cell_type": "code",
      "execution_count": 3,
      "metadata": {
        "id": "e3PwMf3f7YTA"
      },
      "outputs": [],
      "source": [
        "\"\"\"\n",
        "Attempts to locate a table of contents by looking for a <table> element containing one or more <href> elements\n",
        "Returns the bs4.Element.Tag object of that table if it exists, or None\n",
        "\"\"\"\n",
        "def linked_toc_exists(document_soup):\n",
        "\n",
        "  # Find all <table> tags\n",
        "  all_tables = document_soup.find_all('table')\n",
        "  for cur_table in all_tables:\n",
        "\n",
        "    # Look for an <a href=...>\n",
        "    links = cur_table.find_all('a', attrs = { 'href' : True })\n",
        "    if len(links):\n",
        "      return cur_table\n",
        "\n",
        "  return None"
      ]
    },
    {
      "cell_type": "code",
      "execution_count": 8,
      "metadata": {
        "id": "tBnJBXHs_yjc"
      },
      "outputs": [],
      "source": [
        "\"\"\"\n",
        "Helper method to find_sections_with_toc, extracts the text found inbetween 2 bs4 Tags/elements\n",
        "\"\"\"\n",
        "def text_between_tags(start, end):\n",
        "\n",
        "  cur = start\n",
        "  found_text = \"\"\n",
        "\n",
        "  # Loop through all elements inbetween the two\n",
        "  while cur and cur != end:\n",
        "    if isinstance(cur, NavigableString):\n",
        "\n",
        "      text = cur.strip()\n",
        "      if len(text):\n",
        "        found_text += \"{} \".format(text)\n",
        "\n",
        "    cur = cur.next_element\n",
        "\n",
        "  return clean_column_text(found_text.strip()) # Strip trailing space that the above pattern will result in\n",
        "\n",
        "\"\"\"\n",
        "Helper  method to find_sections_with_toc, extracts the text found starting at a given tag through the end of the soup\n",
        "\"\"\"\n",
        "def text_starting_at_tag(start):\n",
        "\n",
        "  cur = start\n",
        "  found_text = \"\"\n",
        "\n",
        "  # Loop through all elements\n",
        "  while cur:\n",
        "    if isinstance(cur, NavigableString):\n",
        "\n",
        "      text = cur.strip()\n",
        "      if len(text):\n",
        "        found_text += \"{} \".format(text)\n",
        "\n",
        "    cur = cur.next_element\n",
        "\n",
        "  return clean_column_text(found_text.strip())\n",
        "\n",
        "\"\"\"\n",
        "Helper method for find_sections_with_toc, attempt to determine if the given text is simple a page number (duplicate link in my observations)\n",
        "\"\"\"\n",
        "def is_text_page_number(question_text):\n",
        "\n",
        "  # Check argument\n",
        "  if type(question_text) != str:\n",
        "    print(\"Non-string passed to is_text_page_number. Returning True (will result in href being skipped)\")\n",
        "    return True\n",
        "\n",
        "  # Strip just to be sure\n",
        "  stripped_question_text = question_text.strip()\n",
        "\n",
        "  # Check if text is only digits\n",
        "  if stripped_question_text.isnumeric():\n",
        "    return True\n",
        "\n",
        "  # Check if only roman numerals\n",
        "  valid_romans = [\"M\", \"D\", \"C\", \"L\", \"X\", \"V\", \"I\", \"(\", \")\"]\n",
        "  is_roman = True\n",
        "  for letter in stripped_question_text.upper():\n",
        "    if letter not in valid_romans:\n",
        "      is_roman = False\n",
        "      break\n",
        "\n",
        "  return is_roman"
      ]
    },
    {
      "cell_type": "code",
      "execution_count": 9,
      "metadata": {
        "id": "-KAgLvd7BJc3"
      },
      "outputs": [],
      "source": [
        "\"\"\"\n",
        "Use the hyperlinked TOC to find the given text section. Provide a bs4 Tag object for the located TOC. Returns a dictionary the same as its calling function, find_sections_in_fulltext:\n",
        "{\n",
        "  \"MATCHING_SECTION_NAME_FOUND\" : \"SECTION_TEXT\",\n",
        "  ...\n",
        "}\n",
        "\"\"\"\n",
        "def find_section_with_linked_toc(document_soup, toc_soup, target_sections = ()):\n",
        "\n",
        "  # Returned dictionary\n",
        "  text_dict = {}\n",
        "\n",
        "  # First, loop through the <a> tags of the TOC and build a dictionary of href anchor values and text (sections) values\n",
        "  link_dict = {}\n",
        "  link_tags = toc_soup.find_all('a', attrs = { 'href' : True })\n",
        "  for link_tag in link_tags:\n",
        "\n",
        "    # From some TOC's I have examined, there may be a second <a href...> for each section, labeled instead by the page number. This page number may be a digit or a roman numeral\n",
        "    # If I come across a filing with a different TOC strcture, I will find a more nuanced way to handle it. For now simply check if the text is only digits or roman numerals\n",
        "    # Some TOC's also look to have a third link to each section, on the far left of the table and with the text \"Item 1, Item 2, ...\". Again will update if these appear after the properly labeled links and thus\n",
        "    # over-write that spot in the href dict defined below. As of now we are relying on the properly/fully labeled links being the last non-page-number reference to each href in order to be recorded.\n",
        "    if is_text_page_number(link_tag.text.strip()):\n",
        "      continue\n",
        "\n",
        "    link_dict[link_tag.get('href').replace('#', '')] = clean_column_text(link_tag.text.strip())\n",
        "\n",
        "  # Grab a list of destination anchors (<a> or <div> tags with \"id\" or \"name\" attribute)\n",
        "  link_dests = document_soup.find_all('a', attrs = { 'id' : True }) + document_soup.find_all('a', attrs = { 'name' : True })\\\n",
        "   + document_soup.find_all('div', attrs = { 'id' : True }) + document_soup.find_all('div', attrs = { 'name' : True })\n",
        "\n",
        "  # Filter out those which are never linked to, they will obstruct our logic in text_between_tags as we rely on the next anchor to be the beginning of the next section\n",
        "  # I have run into filings with such \"phantom\" anchors that are never linked to and can prematurely signal the end of a section\n",
        "  # (i.e: https://www.sec.gov/Archives/edgar/data/1331451/000133145118000076/0001331451-18-000076.txt)\n",
        "  link_dests = [anchor for anchor in link_dests if (anchor.get('id') in link_dict.keys() or anchor.get('name') in link_dict.keys())]\n",
        "\n",
        "  # Loop through the dictionary of hrefs we built and look for our target sections, storing any found in a new dict\n",
        "  target_section_links = {}\n",
        "  for href_val, section_name in link_dict.items():\n",
        "\n",
        "    for indiv_target in target_sections:\n",
        "      if indiv_target.lower() in section_name.lower():\n",
        "\n",
        "        # Add the target section and its href value to target_section_links\n",
        "        target_section_links[href_val] = indiv_target\n",
        "\n",
        "  # Now loop through the target sections that we just found links to. We will try to locate the destination of each\n",
        "  for target_href, target_name in target_section_links.items():\n",
        "\n",
        "    # The href values are used at their destination in <a> tags with an id/name attribute of the same href value (minus the leading #, why we got rid of it)\n",
        "    # Loop through the link_dests list of all destination tags, and find the one with id/name=target_href\n",
        "    num_destinations = len(link_dests)\n",
        "    for dest_index, link_dest in enumerate(link_dests):\n",
        "\n",
        "      if (link_dest.get('id') == target_href or link_dest.get('name') == target_href): # Can be either id or name according to HTML spec (see https://stackoverflow.com/questions/484719/should-i-make-html-anchors-with-name-or-id)\n",
        "\n",
        "        # Grab the text inbetween the current destination tag and the next occuring destination in link_dests\n",
        "        # If we are on the last destination, grab all the text left\n",
        "        section_text = \"\"\n",
        "\n",
        "        if dest_index + 1 < num_destinations:\n",
        "          section_text = text_between_tags(link_dest, link_dests[dest_index + 1])\n",
        "        else:\n",
        "          section_text = text_starting_at_tag(link_dest)\n",
        "\n",
        "        if len(section_text):\n",
        "\n",
        "          # Add to master dict. TODO: Explore whether there may be 2 sections matching the same target section on the same document\n",
        "          # With the current code, the last matching section on the document will be recorded for each target. Just a thought\n",
        "          text_dict[target_name] = section_text\n",
        "\n",
        "  return text_dict"
      ]
    },
    {
      "cell_type": "code",
      "source": [
        "\"\"\"\n",
        "Some HTML style filings have tables of contents but they are not hyperlinked and thus are not caught by the above algorithm. Methods here attempt to deal with such filings.\n",
        "\n",
        "Ideas:\n",
        "\n",
        "Look for section names in text of tags which are:\n",
        "  1. Not in a table\n",
        "  2. Have a text-center, or who's parents have a text-center attribute\n",
        "\n",
        "Continue reading until...? (pagebreaks etc seem inconsistent)\n",
        "\n",
        "\n",
        "\"\"\"\n",
        "\n",
        "# TODO\n"
      ],
      "metadata": {
        "id": "Wf4vWhfcA-0w"
      },
      "execution_count": null,
      "outputs": []
    },
    {
      "cell_type": "code",
      "execution_count": 4,
      "metadata": {
        "id": "CAFiCCLABYxU"
      },
      "outputs": [],
      "source": [
        "\"\"\"\n",
        "Locate and extract custom text section(s). Takes the path to a filing's full text submission and a list of target sections. Returned structure:\n",
        "{\n",
        "  \"MATCHING_SECTION_NAME_FOUND\" : \"SECTION_TEXT\",\n",
        "  ...\n",
        "}\n",
        "\"\"\"\n",
        "def find_sections_in_html_fulltext(fulltext_sub, target_sections = ()):\n",
        "\n",
        "  # Returned dict\n",
        "  master_text_dict = {}\n",
        "\n",
        "  # Check that sections were specified\n",
        "  if len(target_sections) == 0:\n",
        "    print(\"No target sections were entered. Provide in a list\")\n",
        "    return master_text_dict\n",
        "\n",
        "  # Get the file contents\n",
        "  request_headers = { \"User-Agent\" : \"Mozilla/5.0 (Macintosh; Intel Mac OS X 10_15_7) AppleWebKit/537.36 (KHTML, like Gecko) Chrome/105.0.0.0 Safari/537.36\" }\n",
        "  response = requests.get(url = fulltext_sub, headers = request_headers)\n",
        "  response.raise_for_status()\n",
        "\n",
        "  # First task is to break the full text submission into documents by <DOCUMENT> tag\n",
        "  docs_list = response.text.split(\"<DOCUMENT>\")[1:]\n",
        "  for doc_string in docs_list:\n",
        "\n",
        "    document = BeautifulSoup(doc_string, \"lxml\")\n",
        "\n",
        "    # Will hold results from current document\n",
        "    doc_results = {}\n",
        "\n",
        "    # Only parse HTM/HTML files\n",
        "    doc_name = document.filename.find(text = True, recursive = False).strip()\n",
        "    if \".htm\" not in doc_name.lower():\n",
        "      continue\n",
        "\n",
        "    # Jump into HTML document's contents inside <TEXT>\n",
        "    doc_html = document.find('text')\n",
        "\n",
        "    # Parse using TOC if it exists\n",
        "    # TODO: BETTER PARSING / STORING OF TABLES FOUND IN TEXT SECTIONS\n",
        "    toc_tag = linked_toc_exists(doc_html)\n",
        "    if toc_tag:\n",
        "      doc_results = find_section_with_linked_toc(doc_html, toc_tag, target_sections)\n",
        "    else:\n",
        "      pass\n",
        "\n",
        "    # Loop through results, add to the master dict\n",
        "    for result_section_name, result_section_text in doc_results.items():\n",
        "\n",
        "      # If we already have an entry for that target_section, create another (\"xxx\", \"xxx_1\", \"xxx_2\", ...)\n",
        "      master_key_name = result_section_name\n",
        "      i = 1\n",
        "      while master_key_name in master_text_dict.keys():\n",
        "        master_key_name = \"{}_{}\".format(result_section_name, i)\n",
        "        i += 1\n",
        "\n",
        "      # Add to dict after finding unused key\n",
        "      master_text_dict[master_key_name] = result_section_text\n",
        "\n",
        "  return master_text_dict"
      ]
    },
    {
      "cell_type": "code",
      "execution_count": 11,
      "metadata": {
        "colab": {
          "base_uri": "https://localhost:8080/"
        },
        "id": "5cgGUDVFBivV",
        "outputId": "6af2c623-8b75-4ef7-a50f-f5018611c277"
      },
      "outputs": [
        {
          "output_type": "stream",
          "name": "stdout",
          "text": [
            "[{'cik': '0001014763', 'company': 'Ainos, Inc.', 'type': 'S-1', 'date': '2024-04-08', 'fulltext_path': 'https://www.sec.gov/Archives/edgar/data/1014763/0001493152-24-013774.txt'}, {'cik': '0001029125', 'company': 'Panbela Therapeutics, Inc.', 'type': 'S-1', 'date': '2024-04-18', 'fulltext_path': 'https://www.sec.gov/Archives/edgar/data/1029125/0001437749-24-012445.txt'}, {'cik': '0001063537', 'company': 'RiceBran Technologies', 'type': 'S-1', 'date': '2024-04-19', 'fulltext_path': 'https://www.sec.gov/Archives/edgar/data/1063537/0001437749-24-012560.txt'}, {'cik': '0001096275', 'company': 'Worksport Ltd', 'type': 'S-1', 'date': '2024-04-02', 'fulltext_path': 'https://www.sec.gov/Archives/edgar/data/1096275/0001493152-24-012713.txt'}, {'cik': '0001121702', 'company': 'YIELD10 BIOSCIENCE, INC.', 'type': 'S-1', 'date': '2024-04-25', 'fulltext_path': 'https://www.sec.gov/Archives/edgar/data/1121702/0001121702-24-000029.txt'}, {'cik': '0001133818', 'company': 'BIO-PATH HOLDINGS, INC.', 'type': 'S-1', 'date': '2024-04-24', 'fulltext_path': 'https://www.sec.gov/Archives/edgar/data/1133818/0001104659-24-051250.txt'}, {'cik': '0001136174', 'company': 'Ontrak, Inc.', 'type': 'S-1', 'date': '2024-04-22', 'fulltext_path': 'https://www.sec.gov/Archives/edgar/data/1136174/0001628280-24-016990.txt'}, {'cik': '0001376804', 'company': 'VNUE, Inc.', 'type': 'S-1', 'date': '2024-04-18', 'fulltext_path': 'https://www.sec.gov/Archives/edgar/data/1376804/0001829126-24-002630.txt'}, {'cik': '0001394319', 'company': 'Tracon Pharmaceuticals, Inc.', 'type': 'S-1', 'date': '2024-04-12', 'fulltext_path': 'https://www.sec.gov/Archives/edgar/data/1394319/0000950170-24-044109.txt'}, {'cik': '0001396536', 'company': 'DUOS TECHNOLOGIES GROUP, INC.', 'type': 'S-1', 'date': '2024-04-12', 'fulltext_path': 'https://www.sec.gov/Archives/edgar/data/1396536/0001079973-24-000540.txt'}, {'cik': '0001407583', 'company': 'Bunker Hill Mining Corp.', 'type': 'S-1', 'date': '2024-04-15', 'fulltext_path': 'https://www.sec.gov/Archives/edgar/data/1407583/0001493152-24-014677.txt'}, {'cik': '0001409269', 'company': 'Venus Concept Inc.', 'type': 'S-1', 'date': '2024-04-03', 'fulltext_path': 'https://www.sec.gov/Archives/edgar/data/1409269/0001140361-24-017610.txt'}, {'cik': '0001439725', 'company': 'BIODESIX INC', 'type': 'S-1', 'date': '2024-04-23', 'fulltext_path': 'https://www.sec.gov/Archives/edgar/data/1439725/0001193125-24-107051.txt'}, {'cik': '0001492674', 'company': 'T2 Biosystems, Inc.', 'type': 'S-1', 'date': '2024-04-22', 'fulltext_path': 'https://www.sec.gov/Archives/edgar/data/1492674/0001193125-24-105041.txt'}, {'cik': '0001497253', 'company': 'ORGANOVO HOLDINGS, INC.', 'type': 'S-1', 'date': '2024-04-12', 'fulltext_path': 'https://www.sec.gov/Archives/edgar/data/1497253/0000950170-24-044137.txt'}, {'cik': '0001498148', 'company': 'Artificial Intelligence Technology Solutions Inc.', 'type': 'S-1', 'date': '2024-04-03', 'fulltext_path': 'https://www.sec.gov/Archives/edgar/data/1498148/0001493152-24-013029.txt'}, {'cik': '0001505497', 'company': 'BioRestorative Therapies, Inc.', 'type': 'S-1', 'date': '2024-04-03', 'fulltext_path': 'https://www.sec.gov/Archives/edgar/data/1505497/0001021771-24-000084.txt'}, {'cik': '0001554818', 'company': 'AUDDIA INC.', 'type': 'S-1', 'date': '2024-04-11', 'fulltext_path': 'https://www.sec.gov/Archives/edgar/data/1554818/0001683168-24-002293.txt'}, {'cik': '0001559495', 'company': 'Symetra Life Insurance Co', 'type': 'S-1', 'date': '2024-04-01', 'fulltext_path': 'https://www.sec.gov/Archives/edgar/data/1559495/0001559495-24-000020.txt'}, {'cik': '0001559495', 'company': 'Symetra Life Insurance Co', 'type': 'S-1', 'date': '2024-04-01', 'fulltext_path': 'https://www.sec.gov/Archives/edgar/data/1559495/0001559495-24-000021.txt'}, {'cik': '0001563568', 'company': 'Envirotech Vehicles, Inc.', 'type': 'S-1', 'date': '2024-04-05', 'fulltext_path': 'https://www.sec.gov/Archives/edgar/data/1563568/0001437749-24-011235.txt'}, {'cik': '0001610853', 'company': 'HELIUS MEDICAL TECHNOLOGIES, INC.', 'type': 'S-1', 'date': '2024-04-15', 'fulltext_path': 'https://www.sec.gov/Archives/edgar/data/1610853/0001104659-24-047362.txt'}, {'cik': '0001623590', 'company': 'Fintech Scion Ltd', 'type': 'S-1', 'date': '2024-04-26', 'fulltext_path': 'https://www.sec.gov/Archives/edgar/data/1623590/0001753926-24-000851.txt'}, {'cik': '0001634117', 'company': 'Barnes & Noble Education, Inc.', 'type': 'S-1', 'date': '2024-04-18', 'fulltext_path': 'https://www.sec.gov/Archives/edgar/data/1634117/0001193125-24-100851.txt'}, {'cik': '0001636282', 'company': 'Spyre Therapeutics, Inc.', 'type': 'S-1', 'date': '2024-04-19', 'fulltext_path': 'https://www.sec.gov/Archives/edgar/data/1636282/0001193125-24-101185.txt'}, {'cik': '0001644488', 'company': 'SHARING SERVICES GLOBAL Corp', 'type': 'S-1', 'date': '2024-04-12', 'fulltext_path': 'https://www.sec.gov/Archives/edgar/data/1644488/0001493152-24-014492.txt'}, {'cik': '0001661998', 'company': 'Q32 Bio Inc.', 'type': 'S-1', 'date': '2024-04-19', 'fulltext_path': 'https://www.sec.gov/Archives/edgar/data/1661998/0001193125-24-102858.txt'}, {'cik': '0001681682', 'company': 'ENDRA Life Sciences Inc.', 'type': 'S-1', 'date': '2024-04-19', 'fulltext_path': 'https://www.sec.gov/Archives/edgar/data/1681682/0001654954-24-004823.txt'}, {'cik': '0001708331', 'company': 'Virpax Pharmaceuticals, Inc.', 'type': 'S-1', 'date': '2024-04-18', 'fulltext_path': 'https://www.sec.gov/Archives/edgar/data/1708331/0001213900-24-034117.txt'}, {'cik': '0001711786', 'company': 'Hoth Therapeutics, Inc.', 'type': 'S-1', 'date': '2024-04-11', 'fulltext_path': 'https://www.sec.gov/Archives/edgar/data/1711786/0001213900-24-032207.txt'}, {'cik': '0001712762', 'company': 'bioAffinity Technologies, Inc.', 'type': 'S-1', 'date': '2024-04-04', 'fulltext_path': 'https://www.sec.gov/Archives/edgar/data/1712762/0001493152-24-013214.txt'}, {'cik': '0001716166', 'company': 'Vivos Therapeutics, Inc.', 'type': 'S-1', 'date': '2024-04-09', 'fulltext_path': 'https://www.sec.gov/Archives/edgar/data/1716166/0001493152-24-013987.txt'}, {'cik': '0001733413', 'company': 'TFF Pharmaceuticals, Inc.', 'type': 'S-1', 'date': '2024-04-08', 'fulltext_path': 'https://www.sec.gov/Archives/edgar/data/1733413/0001213900-24-030971.txt'}, {'cik': '0001733413', 'company': 'TFF Pharmaceuticals, Inc.', 'type': 'S-1', 'date': '2024-04-18', 'fulltext_path': 'https://www.sec.gov/Archives/edgar/data/1733413/0001213900-24-034178.txt'}, {'cik': '0001750149', 'company': 'Inhibikase Therapeutics, Inc.', 'type': 'S-1', 'date': '2024-04-19', 'fulltext_path': 'https://www.sec.gov/Archives/edgar/data/1750149/0001193125-24-103050.txt'}, {'cik': '0001757499', 'company': 'Shuttle Pharmaceuticals Holdings, Inc.', 'type': 'S-1', 'date': '2024-04-05', 'fulltext_path': 'https://www.sec.gov/Archives/edgar/data/1757499/0001493152-24-013368.txt'}, {'cik': '0001809750', 'company': 'Edible Garden AG Inc', 'type': 'S-1', 'date': '2024-04-26', 'fulltext_path': 'https://www.sec.gov/Archives/edgar/data/1809750/0001477932-24-002358.txt'}, {'cik': '0001811109', 'company': 'Applied UV, Inc.', 'type': 'S-1', 'date': '2024-04-16', 'fulltext_path': 'https://www.sec.gov/Archives/edgar/data/1811109/0001213900-24-033523.txt'}, {'cik': '0001817232', 'company': 'Global Gas Corp', 'type': 'S-1', 'date': '2024-04-16', 'fulltext_path': 'https://www.sec.gov/Archives/edgar/data/1817232/0001213900-24-033456.txt'}, {'cik': '0001817760', 'company': 'SmartKem, Inc.', 'type': 'S-1', 'date': '2024-04-11', 'fulltext_path': 'https://www.sec.gov/Archives/edgar/data/1817760/0001410578-24-000449.txt'}, {'cik': '0001826011', 'company': 'Banzai International, Inc.', 'type': 'S-1', 'date': '2024-04-22', 'fulltext_path': 'https://www.sec.gov/Archives/edgar/data/1826011/0001193125-24-105081.txt'}, {'cik': '0001832487', 'company': 'Guerrilla RF, Inc.', 'type': 'S-1', 'date': '2024-04-26', 'fulltext_path': 'https://www.sec.gov/Archives/edgar/data/1832487/0001437749-24-013380.txt'}, {'cik': '0001833498', 'company': 'Spectral AI, Inc.', 'type': 'S-1', 'date': '2024-04-10', 'fulltext_path': 'https://www.sec.gov/Archives/edgar/data/1833498/0001213900-24-031907.txt'}, {'cik': '0001834526', 'company': 'GP-Act III Acquisition Corp.', 'type': 'S-1', 'date': '2024-04-19', 'fulltext_path': 'https://www.sec.gov/Archives/edgar/data/1834526/0001104659-24-049264.txt'}, {'cik': '0001838163', 'company': 'Brand Engagement Network Inc.', 'type': 'S-1', 'date': '2024-04-12', 'fulltext_path': 'https://www.sec.gov/Archives/edgar/data/1838163/0001493152-24-014497.txt'}, {'cik': '0001839341', 'company': 'Core Scientific, Inc./tx', 'type': 'S-1', 'date': '2024-04-15', 'fulltext_path': 'https://www.sec.gov/Archives/edgar/data/1839341/0001628280-24-016122.txt'}, {'cik': '0001843714', 'company': 'Zapata Computing Holdings Inc.', 'type': 'S-1', 'date': '2024-04-12', 'fulltext_path': 'https://www.sec.gov/Archives/edgar/data/1843714/0001193125-24-094887.txt'}, {'cik': '0001843714', 'company': 'Zapata Computing Holdings Inc.', 'type': 'S-1', 'date': '2024-04-24', 'fulltext_path': 'https://www.sec.gov/Archives/edgar/data/1843714/0001193125-24-108015.txt'}, {'cik': '0001844505', 'company': 'QT IMAGING HOLDINGS, INC.', 'type': 'S-1', 'date': '2024-04-02', 'fulltext_path': 'https://www.sec.gov/Archives/edgar/data/1844505/0001193125-24-084445.txt'}, {'cik': '0001849635', 'company': 'Trump Media & Technology Group Corp.', 'type': 'S-1', 'date': '2024-04-15', 'fulltext_path': 'https://www.sec.gov/Archives/edgar/data/1849635/0001140361-24-019745.txt'}, {'cik': '0001851961', 'company': 'GCT Semiconductor Holding, Inc.', 'type': 'S-1', 'date': '2024-04-19', 'fulltext_path': 'https://www.sec.gov/Archives/edgar/data/1851961/0001410578-24-000518.txt'}, {'cik': '0001853070', 'company': 'Volato Group, Inc.', 'type': 'S-1', 'date': '2024-04-24', 'fulltext_path': 'https://www.sec.gov/Archives/edgar/data/1853070/0001140361-24-021768.txt'}, {'cik': '0001855467', 'company': 'MOBIX LABS, INC', 'type': 'S-1', 'date': '2024-04-02', 'fulltext_path': 'https://www.sec.gov/Archives/edgar/data/1855467/0001213900-24-029035.txt'}, {'cik': '0001855467', 'company': 'MOBIX LABS, INC', 'type': 'S-1', 'date': '2024-04-16', 'fulltext_path': 'https://www.sec.gov/Archives/edgar/data/1855467/0001213900-24-033133.txt'}, {'cik': '0001855474', 'company': 'Montana Technologies Corp.', 'type': 'S-1', 'date': '2024-04-12', 'fulltext_path': 'https://www.sec.gov/Archives/edgar/data/1855474/0001213900-24-032262.txt'}, {'cik': '0001863990', 'company': 'MultiSensor AI Holdings, Inc.', 'type': 'S-1', 'date': '2024-04-18', 'fulltext_path': 'https://www.sec.gov/Archives/edgar/data/1863990/0001104659-24-048846.txt'}, {'cik': '0001863990', 'company': 'MultiSensor AI Holdings, Inc.', 'type': 'S-1', 'date': '2024-04-29', 'fulltext_path': 'https://www.sec.gov/Archives/edgar/data/1863990/0001104659-24-053578.txt'}, {'cik': '0001865506', 'company': 'Zeo Energy Corp.', 'type': 'S-1', 'date': '2024-04-17', 'fulltext_path': 'https://www.sec.gov/Archives/edgar/data/1865506/0001213900-24-033869.txt'}, {'cik': '0001868640', 'company': 'Roadzen Inc.', 'type': 'S-1', 'date': '2024-04-16', 'fulltext_path': 'https://www.sec.gov/Archives/edgar/data/1868640/0000950170-24-044548.txt'}, {'cik': '0001870404', 'company': 'CERO THERAPEUTICS HOLDINGS, INC.', 'type': 'S-1', 'date': '2024-04-10', 'fulltext_path': 'https://www.sec.gov/Archives/edgar/data/1870404/0001213900-24-031869.txt'}, {'cik': '0001874097', 'company': 'Cyngn Inc.', 'type': 'S-1', 'date': '2024-04-12', 'fulltext_path': 'https://www.sec.gov/Archives/edgar/data/1874097/0001213900-24-032595.txt'}, {'cik': '0001879403', 'company': 'La Rosa Holdings Corp.', 'type': 'S-1', 'date': '2024-04-24', 'fulltext_path': 'https://www.sec.gov/Archives/edgar/data/1879403/0001213900-24-035778.txt'}, {'cik': '0001881551', 'company': 'Solidion Technology Inc.', 'type': 'S-1', 'date': '2024-04-15', 'fulltext_path': 'https://www.sec.gov/Archives/edgar/data/1881551/0001213900-24-033039.txt'}, {'cik': '0001883984', 'company': 'Alternus Clean Energy, Inc.', 'type': 'S-1', 'date': '2024-04-29', 'fulltext_path': 'https://www.sec.gov/Archives/edgar/data/1883984/0001213900-24-037297.txt'}, {'cik': '0001897245', 'company': 'HWH International Inc.', 'type': 'S-1', 'date': '2024-04-08', 'fulltext_path': 'https://www.sec.gov/Archives/edgar/data/1897245/0001493152-24-013944.txt'}, {'cik': '0001898604', 'company': 'Yoshiharu Global Co.', 'type': 'S-1', 'date': '2024-04-19', 'fulltext_path': 'https://www.sec.gov/Archives/edgar/data/1898604/0001493152-24-015367.txt'}, {'cik': '0001907108', 'company': 'Lexeo Therapeutics, Inc.', 'type': 'S-1', 'date': '2024-04-09', 'fulltext_path': 'https://www.sec.gov/Archives/edgar/data/1907108/0001193125-24-090233.txt'}, {'cik': '0001938046', 'company': 'MANGOCEUTICALS, INC.', 'type': 'S-1', 'date': '2024-04-23', 'fulltext_path': 'https://www.sec.gov/Archives/edgar/data/1938046/0001493152-24-015724.txt'}, {'cik': '0001943289', 'company': 'Silvaco Group, Inc.', 'type': 'S-1', 'date': '2024-04-12', 'fulltext_path': 'https://www.sec.gov/Archives/edgar/data/1943289/0001628280-24-016108.txt'}, {'cik': '0001943896', 'company': 'Rubrik, Inc.', 'type': 'S-1', 'date': '2024-04-01', 'fulltext_path': 'https://www.sec.gov/Archives/edgar/data/1943896/0001193125-24-083525.txt'}, {'cik': '0001956955', 'company': 'Unusual Machines, Inc.', 'type': 'S-1', 'date': '2024-04-10', 'fulltext_path': 'https://www.sec.gov/Archives/edgar/data/1956955/0001683168-24-002275.txt'}, {'cik': '0001958777', 'company': 'FibroBiologics, Inc.', 'type': 'S-1', 'date': '2024-04-26', 'fulltext_path': 'https://www.sec.gov/Archives/edgar/data/1958777/0001493152-24-015999.txt'}, {'cik': '0001959023', 'company': 'Safe & Green Development Corp', 'type': 'S-1', 'date': '2024-04-09', 'fulltext_path': 'https://www.sec.gov/Archives/edgar/data/1959023/0001213900-24-031327.txt'}, {'cik': '0001996192', 'company': 'Lakeside Holding Ltd', 'type': 'S-1', 'date': '2024-04-01', 'fulltext_path': 'https://www.sec.gov/Archives/edgar/data/1996192/0001213900-24-028465.txt'}, {'cik': '0001998768', 'company': 'Proficient Auto Logistics, Inc', 'type': 'S-1', 'date': '2024-04-11', 'fulltext_path': 'https://www.sec.gov/Archives/edgar/data/1998768/0001213900-24-032249.txt'}, {'cik': '0002000178', 'company': 'Loar Holdings, LLC', 'type': 'S-1', 'date': '2024-04-02', 'fulltext_path': 'https://www.sec.gov/Archives/edgar/data/2000178/0001193125-24-084921.txt'}, {'cik': '0002002473', 'company': 'Bowhead Specialty Holdings Inc.', 'type': 'S-1', 'date': '2024-04-12', 'fulltext_path': 'https://www.sec.gov/Archives/edgar/data/2002473/0001628280-24-016055.txt'}, {'cik': '0002006191', 'company': 'SEAC II Corp.', 'type': 'S-1', 'date': '2024-04-22', 'fulltext_path': 'https://www.sec.gov/Archives/edgar/data/2006191/0001193125-24-103743.txt'}, {'cik': '0002017302', 'company': 'Mission Space Acquisition Corp.', 'type': 'S-1', 'date': '2024-04-11', 'fulltext_path': 'https://www.sec.gov/Archives/edgar/data/2017302/0001213900-24-031980.txt'}, {'cik': '0002017950', 'company': 'DT Cloud Star Acquisition Corp', 'type': 'S-1', 'date': '2024-04-29', 'fulltext_path': 'https://www.sec.gov/Archives/edgar/data/2017950/0001493152-24-016919.txt'}, {'cik': '0002019504', 'company': 'DERUN GROUP INC', 'type': 'S-1', 'date': '2024-04-22', 'fulltext_path': 'https://www.sec.gov/Archives/edgar/data/2019504/0002019504-24-000003.txt'}, {'cik': '0002020455', 'company': 'Grayscale Ethereum Mini Trust (ETH)', 'type': 'S-1', 'date': '2024-04-23', 'fulltext_path': 'https://www.sec.gov/Archives/edgar/data/2020455/0001193125-24-106957.txt'}, {'cik': '0000205695', 'company': 'NATIONWIDE LIFE INSURANCE CO', 'type': 'S-1', 'date': '2024-04-04', 'fulltext_path': 'https://www.sec.gov/Archives/edgar/data/205695/0001193125-24-087178.txt'}, {'cik': '0000205695', 'company': 'NATIONWIDE LIFE INSURANCE CO', 'type': 'S-1', 'date': '2024-04-04', 'fulltext_path': 'https://www.sec.gov/Archives/edgar/data/205695/0001193125-24-087183.txt'}, {'cik': '0000310826', 'company': 'PROTECTIVE LIFE INSURANCE CO', 'type': 'S-1', 'date': '2024-04-12', 'fulltext_path': 'https://www.sec.gov/Archives/edgar/data/310826/0001628280-24-016099.txt'}, {'cik': '0000045947', 'company': 'TALCOTT RESOLUTION LIFE INSURANCE CO', 'type': 'S-1', 'date': '2024-04-24', 'fulltext_path': 'https://www.sec.gov/Archives/edgar/data/45947/0001628280-24-017628.txt'}, {'cik': '0000045947', 'company': 'TALCOTT RESOLUTION LIFE INSURANCE CO', 'type': 'S-1', 'date': '2024-04-24', 'fulltext_path': 'https://www.sec.gov/Archives/edgar/data/45947/0001628280-24-017629.txt'}, {'cik': '0000045947', 'company': 'TALCOTT RESOLUTION LIFE INSURANCE CO', 'type': 'S-1', 'date': '2024-04-24', 'fulltext_path': 'https://www.sec.gov/Archives/edgar/data/45947/0001628280-24-017630.txt'}, {'cik': '0000045947', 'company': 'TALCOTT RESOLUTION LIFE INSURANCE CO', 'type': 'S-1', 'date': '2024-04-24', 'fulltext_path': 'https://www.sec.gov/Archives/edgar/data/45947/0001628280-24-017631.txt'}, {'cik': '0000045947', 'company': 'TALCOTT RESOLUTION LIFE INSURANCE CO', 'type': 'S-1', 'date': '2024-04-24', 'fulltext_path': 'https://www.sec.gov/Archives/edgar/data/45947/0001628280-24-017632.txt'}, {'cik': '0000045947', 'company': 'TALCOTT RESOLUTION LIFE INSURANCE CO', 'type': 'S-1', 'date': '2024-04-24', 'fulltext_path': 'https://www.sec.gov/Archives/edgar/data/45947/0001628280-24-017633.txt'}, {'cik': '0000055234', 'company': 'KENILWORTH SYSTEMS CORP', 'type': 'S-1', 'date': '2024-04-01', 'fulltext_path': 'https://www.sec.gov/Archives/edgar/data/55234/0001477932-24-001667.txt'}, {'cik': '0000072499', 'company': 'ALLIANZ LIFE INSURANCE CO OF NORTH AMERICA', 'type': 'S-1', 'date': '2024-04-17', 'fulltext_path': 'https://www.sec.gov/Archives/edgar/data/72499/0000072499-24-000025.txt'}, {'cik': '0000072499', 'company': 'ALLIANZ LIFE INSURANCE CO OF NORTH AMERICA', 'type': 'S-1', 'date': '2024-04-17', 'fulltext_path': 'https://www.sec.gov/Archives/edgar/data/72499/0000072499-24-000026.txt'}, {'cik': '0000744452', 'company': 'APPLIED DNA SCIENCES INC', 'type': 'S-1', 'date': '2024-04-24', 'fulltext_path': 'https://www.sec.gov/Archives/edgar/data/744452/0001104659-24-050738.txt'}, {'cik': '0000788611', 'company': 'NextTrip, Inc.', 'type': 'S-1', 'date': '2024-04-08', 'fulltext_path': 'https://www.sec.gov/Archives/edgar/data/788611/0001493152-24-013960.txt'}, {'cik': '0000823533', 'company': 'UNION SECURITY INSURANCE CO', 'type': 'S-1', 'date': '2024-04-16', 'fulltext_path': 'https://www.sec.gov/Archives/edgar/data/823533/0001628280-24-016358.txt'}, {'cik': '0000823533', 'company': 'UNION SECURITY INSURANCE CO', 'type': 'S-1', 'date': '2024-04-16', 'fulltext_path': 'https://www.sec.gov/Archives/edgar/data/823533/0001628280-24-016364.txt'}, {'cik': '0000823533', 'company': 'UNION SECURITY INSURANCE CO', 'type': 'S-1', 'date': '2024-04-16', 'fulltext_path': 'https://www.sec.gov/Archives/edgar/data/823533/0001628280-24-016365.txt'}, {'cik': '0000823533', 'company': 'UNION SECURITY INSURANCE CO', 'type': 'S-1', 'date': '2024-04-16', 'fulltext_path': 'https://www.sec.gov/Archives/edgar/data/823533/0001628280-24-016366.txt'}, {'cik': '0000008504', 'company': 'AgEagle Aerial Systems Inc.', 'type': 'S-1', 'date': '2024-04-29', 'fulltext_path': 'https://www.sec.gov/Archives/edgar/data/8504/0001493152-24-016870.txt'}, {'cik': '0000880242', 'company': 'BIOLARGO, INC.', 'type': 'S-1', 'date': '2024-04-12', 'fulltext_path': 'https://www.sec.gov/Archives/edgar/data/880242/0001437749-24-011927.txt'}, {'cik': '0000909759', 'company': 'MIDLAND NATIONAL LIFE INSURANCE CO', 'type': 'S-1', 'date': '2024-04-19', 'fulltext_path': 'https://www.sec.gov/Archives/edgar/data/909759/0000909759-24-000023.txt'}, {'cik': '0000914804', 'company': 'UNION SECURITY LIFE INSURANCE CO OF NEW YORK', 'type': 'S-1', 'date': '2024-04-16', 'fulltext_path': 'https://www.sec.gov/Archives/edgar/data/914804/0001628280-24-016402.txt'}, {'cik': '0000914804', 'company': 'UNION SECURITY LIFE INSURANCE CO OF NEW YORK', 'type': 'S-1', 'date': '2024-04-16', 'fulltext_path': 'https://www.sec.gov/Archives/edgar/data/914804/0001628280-24-016404.txt'}, {'cik': '0000926617', 'company': \"Aspira Women's Health Inc.\", 'type': 'S-1', 'date': '2024-04-05', 'fulltext_path': 'https://www.sec.gov/Archives/edgar/data/926617/0001193125-24-088678.txt'}, {'cik': '0000931788', 'company': 'JACKSON NATIONAL LIFE INSURANCE CO', 'type': 'S-1', 'date': '2024-04-09', 'fulltext_path': 'https://www.sec.gov/Archives/edgar/data/931788/0000931788-24-000051.txt'}, {'cik': '0000931788', 'company': 'JACKSON NATIONAL LIFE INSURANCE CO', 'type': 'S-1', 'date': '2024-04-09', 'fulltext_path': 'https://www.sec.gov/Archives/edgar/data/931788/0000931788-24-000052.txt'}, {'cik': '0000946644', 'company': 'AIM ImmunoTech Inc.', 'type': 'S-1', 'date': '2024-04-19', 'fulltext_path': 'https://www.sec.gov/Archives/edgar/data/946644/0001493152-24-015368.txt'}]\n"
          ]
        }
      ],
      "source": [
        "print(filtered_list)"
      ]
    },
    {
      "cell_type": "code",
      "execution_count": 14,
      "metadata": {
        "colab": {
          "base_uri": "https://localhost:8080/"
        },
        "id": "MiiHoPYbKjvh",
        "outputId": "4907597c-cb79-4ee8-bfc0-4dd29d91e69d"
      },
      "outputs": [
        {
          "output_type": "stream",
          "name": "stderr",
          "text": [
            "<ipython-input-10-9e5d61c147f6>:33: DeprecationWarning: The 'text' argument to find()-type methods is deprecated. Use 'string' instead.\n",
            "  doc_name = document.filename.find(text = True, recursive = False).strip()\n"
          ]
        },
        {
          "output_type": "stream",
          "name": "stdout",
          "text": [
            "[{'https://www.sec.gov/Archives/edgar/data/1014763/0001493152-24-013774.txt': {'summary': 'PROSPECTUSSUMMARY Thissummary highlights certain information about us, this offering and selected information contained elsewhere in this prospectus. Becausethis is only a summary, it does not contain all of the information that may be important to you or that you should consider before investingin our common stock. You should read the entire prospectus carefully, especially the information under “Risk Factors” setforth in this prospectus and the information included in any prospectus supplement or free writing prospectus that we have authorizedfor use in connection with this offering. This prospectus contains forward-looking statements, based on current expectations and relatedto future events and our future financial performance, that involve risks and uncertainties. Our actual results may vary materially fromthose discussed in the forward-looking statements as a result of various factors, including, without limitation, those set forth under“Risk Factors,” as well as other matters described in this prospectus. See “Cautionary Notice Regarding Forward-LookingStatements.” Overview Ainos,Inc. (the “Company”), incorporated in the State of Texas in 1984, is a diversified healthcare company focused on the developmentof novel point-of-care testing (the “POCT”), therapeutics based on very low-dose interferon alpha (the “VELDONA”),and synthetic RNA-driven preventative medicine. Our product pipeline includes commercial-stage VELDONA Pet cytoprotein supplements, clinical-stageVELDONA human therapeutics and telehealth-friendly POCTs powered by the AI Nose technology platform. Wehave historically involved in the research and development of therapeutics based on VELDONA. Building on our research and developmenton VELDONA since inception, we are focused on commercializing a suite of VELDONA-based products including VELDONA Pet cytoprotein supplementsand human related VELDONA therapeutics. In2021 and 2022, we acquired certain types of intellectual property from controlling shareholder, Ainos Inc., a Cayman Island corporation(“Ainos KY”), to expand product portfolio into POCTs aimed to provide connected, rapid, and convenient testing for a broadrange of health conditions. Pivoting from the sales of COVID-19 POCT, we aim to commercialize POCTs that detect volatile organic compounds(the “VOC”) emitted by the body, powered by our AI Nose technology platform. Our lead VOC POCT candidate, Ainos Flora, aimsto test female vaginal health and certain common sexually transmitted infections (the “STIs”) quickly and easily. Webelieve the following attributes differentiate us from other diversified life science companies: - Intuitive, telehealth-friendly point-of-care testing; - AI-powered VOC testing platform; - decades of proprietary low-dose oral interferon clinical research; - capital-efficient business model; - outsourced manufacturing; and - global distribution relationships. RecentDevelopment OnMarch 15, 2024, the Board of Directors appointed Christopher Hsin-Liang Lee as the Chief Financial Officer of the Company. ChristopherLee, aged 53, brings over 25 years of experience in accounting and finance, encompassing US GAAP, PCAOB standards, and SEC rules andregulations. Before joining the Company, Mr. Lee served as CFO of a Nasdaq-listed company for 10 years, was a partner at KEDP CPA Groupfrom August 2009 to June 2011, and operated as a self-employed accountant from July 2011 to August 2014. He has served on the Board ofDirectors of Aixin Life International Inc. since February 2021. Mr. Lee holds a BS degree in accounting from Ohio State University andan MS degree in business taxation from Golden Gate University. He is licensed as a Certified Public Accountant (CPA) in the United States. OnJanuary 9, 2024, the Company and Taiwan Carbon Nano Technology Corporation (“TCNT”) entered into an addendum to its five-yearProduct Development Agreement (the “Addendum Agreement”) to modify the scope of co-development covered by the Product DevelopmentAgreement and certain other terms. For products defined in the Addendum Agreement, TCNT will provide facilities, equipment, mass productionprocess technology, ISO9001 and ISO13485 related management, as well as mass production support. The procurement of parts and raw materials,rental fees, and utility expenses are excluded. The Company will pay a total fee of NT$5 million (approximately USD$161,000) for five-yearsof development commencing from 2024. Field: Page; Sequence: 5 Field: Sequence; Type: Arabic; Name: PageNo 2 Field: /Sequence Field: /Page Forsix months commencing from January 2024, TCNT will provide non-exclusive use of certain patents related to VOC and POCT technologiesfor a monthly fee of US$95,000 (plus 5% sales tax), with negotiable payment terms. The parties can discuss subsequent use of the patentsat later dates. Implicationsof Being a Smaller Reporting Company Weare a “smaller reporting company” as defined in the Securities Exchange Act of 1934, as amended, or the Exchange Act, andhave elected to take advantage of certain of the scaled disclosures available to smaller reporting companies. Accordingly, we may provideless public disclosure than larger public companies, including the inclusion of only two years of audited consolidated financial statementsand only two years of management’s discussion and analysis of financial condition and results of operations disclosure and theinclusion of reduced disclosure about our executive compensation arrangements. As a smaller reporting company, we are also exempt fromcompliance with the auditor attestation requirements pursuant to the Sarbanes-Oxley Act. As a result, the information that we provideto our stockholders may be different than you might receive from other public reporting companies in which you hold equity interests.We will continue to be a “smaller reporting company” until we have $250 million or more in public float (based on our commonstock) measured as of the last business day of our most recently completed second fiscal quarter or, in the event we have no public floator a public float (based on our common stock) that is less than $700 million, annual revenues of $100 million or more during the mostrecently completed fiscal year. CorporateInformation Ourprincipal executive offices are located at 8880 Rio San Diego Drive, Ste. 800, San Diego, CA 92108, and our telephone number is (858)869-2986. We maintain a website at www.ainos.com . Information contained on or accessible through our website is not, and shouldnot be considered, part of, or incorporated by reference into, this prospectus. TheLind Transaction OnSeptember 25, 2023, the Company entered into a securities purchase agreement with Lind Global Fund II LP (“Lind”), as amendedon January 24, 2024 (as amended, the “Securities Purchase Agreement”). The Securities Purchase Agreement provides for loansin an aggregate principal amount of up to $10 million under various tranches (the “Financing”). As of September 28, 2023,the initial closing date, Lind funded $2.0 million (less commitment fees) to the Company out of the $3.0 million “First FundingAmount” (as defined in the Securities Purchase Agreement). Lind funded the remaining $1.0 million (less commitment fees) on December21, 2023 after the satisfaction of certain conditions specified in the Securities Purchase Agreement. Inconsideration for the First Funding Amount, on September 28, 2023, the Company issued and sold to Lind, in a private placement, (A) asenior secured convertible promissory note in the aggregate principal amount of $3,540,000 (the “Initial Note”) and (B) warrantsto purchase 691,244 shares of common stock at an initial exercise price of $4.50 per share of common stock, subject to certain adjustments(the “ First Lind Warrant”). Subjectto the satisfaction of certain conditions, the Company has the right to request additional tranches of funding from Lind in the aggregateamount not to exceed $7.0 million (the “Increased Funding Amount”). Lind will receive additional warrants to purchase a numberof shares of common stock based on a formula set forth in the Securities Purchase Agreement. Such warrants will expire after five yearsfrom the date of issuance and may be exercised on a cashless basis. OnJanuary 23, 2024, the Company received an Increased Funding Amount of up to $1.75 million, with $875,000 funded at closing and$875,000 to be funded subject to an effective registration statement and other conditions specified in the Securities PurchaseAgreement, and amended the Initial Note to, among other amendments, increase the principal amount to $4,235,000 (the Initial Note asso amended, the “Note”) In connection with additional funding, the Company issued Lind a warrant to purchase 1,021,400shares at an exercise price of $2.16 per share (the “Second Lind Warrants and together with the First Lind Warrants, the“Lind Warrants”). Followingthe earlier to occur of (i) 90 days from the date of the Securities Purchase Agreement or (ii) the date a resale registration statementwith respect to the First Funding Amount was declared effective by the SEC, the Initial Note became convertible into shares of the Company’scommon stock at the lower of the price of $7.50 per share, subject to adjustment, or 90.0% of the average of the three lowest daily VWAPof the common stock during the 20 trading days prior to conversion, subject to certain adjustments. Field: Page; Sequence: 6 Field: Sequence; Type: Arabic; Name: PageNo 3 Field: /Sequence Field: /Page TheNote does not bear any interest and matures on March 28, 2025, although the Company has the right to extend the maturity date to July28, 2025 subject to increases in the principal amount in connection with such extension. Following the date that is 60 days after theearlier to occur of (i) the date the resale registration statement with respect to the First Funding Amount is declared effective or(ii) the date that any shares issued pursuant to the Note may be immediately resold under Rule 144 of the Securities Act, the Companymay repay all, but not less than all, of the then outstanding principal amount of the Note, subject to a 5% premium. If the Company electsto prepay the Note, Lind has the right to convert up to 33 1/3% of the principal amount of the Note at the conversion price into sharesof the Company’s common stock. Uponthe occurrence of any Event of Default (as defined in the Note), the Company must pay Lind an amount equal to 120% of the then outstandingprincipal amount of the Note in addition to any other remedies under the Note or ancillary documents. Ascollateral for the obligations under the Securities Purchase Agreement, the Company has granted to Lind a senior security interest inall of Company’s right, title, and interest in, to and under all of Company’s property (inclusive of intellectual property),subject to certain exceptions, as set forth in the Security Agreement (as defined in the Securities Purchase Agreement). Maximtogether with Brookline served as the exclusive placement agent of the Financing. In connection the First Funding Amount, the Companyissued an aggregate 16,000 placement agent warrants. The Placement Agent Warrants have five-year terms. In connection with the January2024 Increased Funding Amount, the Company issued to the placement agents an additional 9,332 warrants. Theforegoing description of the Financing and the securities issued in such financing is qualified in its entirety by reference to the applicableagreements and the amendments thereto incorporated by refence as exhibits to this Registration Statement TheCompany has previously registered for resale on a Registration Statement on Form S-1 declared effective on December 18, 2023, up to 2,040,000shares of common stock by Lind, Maxim and Brookline These 2,040,000 shares consisted of: (a) up to 1,332,756 shares of common stock issuableupon the conversion or of the First Funding Amount, representing a good faith estimate of the maximum number of shares of common stockissuable thereunder; (b) 691,244 shares of common stock issuable upon exercise of a common stock purchase warrant issued to Lind in connectionwith the First Funding Amount and (c) up to 16,000 shares of common stock issuable upon exercise of common stock purchase warrants issuedto Maxim and Brookline in connection with the initial closing. Field: Page; Sequence: 7 Field: Sequence; Type: Arabic; Name: PageNo 4 Field: /Sequence Field: /Page THEOFFERING Shares of Common Stock being Offered by Selling Stockholders Up to 4,430,732 shares of common stock, consisting of (i) up to 3,400,000 shares of common stock, issuable upon full conversion of a Note in the principal amount of $3,782,830, representing a good faith estimate of the maximum number of shares of common stock issuable thereunder; (ii) 1,021,400 shares of common stock issuable upon exercise of the Second Lind Warrant; and (iii) up to 9,332 shares of common stock issuable upon exercise of the Placement Agent Warrants. The Selling Stockholders may sell their shares of common stock at prevailing market prices or privately negotiated prices. Shares of Common Stock Outstanding prior to this Offering 6,144,506 Use of Proceeds We will not receive any proceeds from the sale of the Shares by the Selling Stockholders. We will receive proceeds in the event that the 1,030,732 Warrants are exercised at the respective exercise prices per share for cash, which will result in gross proceeds of up to approximately $2.3 million. Any proceeds that we receive from the exercise of the Warrants may be used to partially repay the Note, and the remainder of the net proceeds will be used for general corporate purposes and for working capital purposes. See the section of this prospectus titled “ Use of Proceeds ” for additional information. Trading Symbol of Common Stock AIMD Risk Factors Investing in our securities involves a high degree of risk. You should carefully review and consider “ Risk Factors ” beginning on page 6 of this prospectus. AssumptionsUsed Throughout This Prospectus Unlessotherwise stated in this prospectus, the total number of shares of common stock outstanding prior to this offering is based on 6,144,506shares of common stock outstanding as of March 31, 2024, and excludes the following: ● 894,444 shares of common stock issuable upon the exercise of outstanding warrants at exercise prices ranging from $4.5 to $23.375 per share; ● 13,366 shares of common stock issuable upon exercise of options (or in the form of warrants) granted under the 2018 Employee Stock Option Plan and 2018 Officers, Directors, Employees, and Consultants Nonqualified Stock Option Plan; ● 92,642 shares of common stock issuable upon the vesting of restricted stock units under the 2021 Stock Incentive Plan; ● 449,441 shares of common stock reserved for issuance upon conversion of convertible notes issued in March and September 2023 and January 2024; and ● 721,750 shares of common stock reserved for future issuance under our 2023 Stock Incentive Plan. Theshare and per share information in this prospectus reflects a reverse stock split of our outstanding common stock at a ratio of 1-for-5which became effective at 9:00 AM ET on December 14, 2023. Field: Page; Sequence: 8 Field: Sequence; Type: Arabic; Name: PageNo 5 Field: /Sequence Field: /Page'}}, {'https://www.sec.gov/Archives/edgar/data/1063537/0001437749-24-012560.txt': {'summary': 'SUMMARY This summary highlights information contained elsewhere in this prospectus and the documents incorporated by reference herein. This summary does not contain all of the information that you should consider before deciding to invest in our securities. You should read this entire prospectus carefully, including the section entitled “ Risk Factors ” beginning on page 5 and our consolidated financial statements and the related notes and the other information incorporated by reference into this prospectus before making an investment decision. All references to the terms “ RiceBran, ” the “ Company, ” “ we, ” “ us ” or “ our ” in this prospectus refer to RiceBran Technologies, a California corporation, and its subsidiaries, unless the context requires otherwise. Overview We are a specialty ingredient company focused on the development, production, and marketing of products derived from traditional and ancient small grains. We create and produce products utilizing proprietary processes to deliver improved nutrition, ease of use, and extended shelf-life, while addressing consumer demand for all natural, non-GMO and organic products. Corporate Information We incorporated under the laws of the state of California in 2000, and our principal executive offices are located at 25420 Kuykendahl Rd., Suite B300, Tomball, TX 77375. Our telephone number is (281) 675-2421. Our website is located at www.ricebrantech.com . Information contained on, or that can be accessed through, our website is not part of this prospectus. Recent Developments Private Placement On December 1, 2023, we entered into a securities purchase agreement (the “Purchase Agreement”) with Funicular Funds, LP, a Delaware limited partnership ( “Funicular”), pursuant to which the Company sold and issued (i) a secured promissory note in the principal amount of $4,000,000, (ii) 2,222,222 shares of Common Stock at a purchase price equal to $0.18 per share and (iii) Warrants to purchase 5,010,206 shares of Common Stock, for an aggregate purchase price of $4,000,000 (the “Private Placement”). The Warrants are exercisable at a price of $0.18 per share, subject to adjustments as provided under the terms of the Warrants. The Warrants are exercisable at any time on or after December 1, 2023 until the expiration thereof, provided that the Company has a sufficient number of shares of authorized Common Stock under the Company’s Restated and Amended Articles of Incorporation to permit such exercise. The Warrants have a term of five years from the date of issuance. The Private Placement closed on December 1, 2023. The proceeds raised in the Private Placement were used to repay existing debt and for general corporate purposes. 2 Table of Contents The Offering This prospectus relates to the resale or other disposition from time to time by the selling shareholders identified in this prospectus of (i) 2,222,222 shares of Common Stock and (ii) 5,010,206 shares of Common Stock issuable upon exercise of the Warrants. None of the shares registered hereby are being offered for sale by us. Securities offered by the selling shareholder Up to 7,232,428 shares of Common Stock. Common Stock outstanding after this offering 15,014,208 shares of Common Stock, assuming the exercise in full of the Warrants. Use of proceeds We will not receive any proceeds from the shares of Common Stock offered by the selling shareholders under this prospectus. However, we will receive the proceeds of any cash exercise of the Warrants. We intend to use the net proceeds from any cash exercise of the Warrants for general corporate purposes, which may include funding capital expenditures and working capital and repaying indebtedness. See “Use of Proceeds.” OTC Market (Pink) Symbol “RIBT.” Risk Factors An investment in our securities involves a high degree of risk. Before deciding whether to invest in our securities, you should consider carefully the risks and uncertainties described in the section captioned “Risk Factors” contained in our Annual Report on Form 10-K for the fiscal year ended December 31, 2023, as filed with the SEC on April 1, 2024, subsequent Quarterly Reports on Form 10-Q and other filings we make with the SEC from time to time, which are incorporated by reference herein in their entirety, together with other information in this prospectus and the information incorporated by reference herein. The number of shares of our Common Stock that will be outstanding immediately after this offering as shown above is based on 10,004,002 shares of Common Stock issued and outstanding as of March 31, 2024, and, unless otherwise indicated, excludes: ● 113,546 shares of Common Stock reserved for future issuance upon the exercise of outstanding options, at a weighted average exercise price of $3.58 per share; ● 510 shares of Common Stock reserved for issuance under our equity incentive plan; ● 4,387,802 shares of Common Stock reserved for future issuance upon the exercise of outstanding warrants; ● 0 shares of Common Stock issuable upon vesting of outstanding restricted stock units; and ● 14,235 shares of Common Stock reserved for future issuance upon the conversion of outstanding Series G Preferred Stock. 3 Table of Contents'}}, {'https://www.sec.gov/Archives/edgar/data/1133818/0001104659-24-051250.txt': {'summary': 'PROSPECTUS SUMMARY This prospectus summary highlights selected information contained elsewhere in this prospectus or in documents incorporated by reference. This summary does not contain all of the information that you should consider before making an investment decision. You should carefully read the entire prospectus, including under the section titled “Risk Factors” and the documents incorporated by reference into this prospectus, before making an investment decision. Our Company We are a clinical and preclinical stage oncology-focused RNAi nanoparticle drug development company utilizing a novel technology that achieves systemic delivery for target-specific protein inhibition for any gene product that is over-expressed in disease. Our drug delivery and antisense technology, called DNAbilize ® , is a platform that uses P-ethoxy, which is a deoxyribonucleic acid (DNA) backbone modification that is intended to protect the DNA from destruction by the body’s enzymes when circulating in vivo, incorporated inside of a lipid bilayer having neutral charge. We believe this combination allows for high efficiency loading of antisense DNA into non-toxic, cell-membrane-like structures for delivery of the antisense drug substance into cells. In vivo, the DNAbilize ® delivered antisense drug substances are systemically distributed throughout the body to allow for reduction or elimination of target proteins in blood diseases and solid tumors. Through testing in numerous animal studies and dosing in clinical trials, our DNAbilize ® drug candidates have demonstrated an excellent safety profile. DNAbilize ® is a registered trademark of the Company. Using DNAbilize ® as a platform for drug development and manufacturing, we currently have four drug candidates in development to treat at least five different cancer disease indications. Our lead drug candidate, prexigebersen (pronounced prex” i je ber’ sen), which targets growth factor receptor-bound protein 2 (“Grb2”), initially started the efficacy portion of a Phase 2 clinical trial for untreated acute myeloid leukemia (“AML”) patients in combination with low-dose cytarabine (“LDAC”). The interim data presented in the 2018 American Society of Hematology (“ASH”) Annual Meeting showed that 11 (65%) of the 17 evaluable patients had a response, including five (29%) who achieved complete remission (“CR”), inclusive of one CR with incomplete hematologic recovery (“CRi”) and one morphologic leukemia-free state, and six (35%) stable disease responses, including two patients who had greater than a 50% reduction in bone marrow blasts. However, DNA hypomethylating agents are now the most frequently used agents in the treatment of elderly AML patients in the U.S. and Europe. As a result, Stage 2 of the Phase 2 trial in AML was amended to remove the combination treatment of prexigebersen and LDAC and replace it with the combination treatment of prexigebersen and decitabine, a DNA hypomethylating agent, for treatment of a second cohort of untreated AML patients. Since decitabine is also used as a treatment for relapsed/refractory AML patients, a cohort of relapsed/refractory AML patients was also added to the study. The U.S. Food and Drug Administration (“FDA”) granted approval of venetoclax in combination with LDAC, decitabine or azacytidine (the latter two drugs are DNA hypomethylating agents) as frontline therapy for newly diagnosed AML in adults who are 75 years or older, or who have comorbidities precluding intensive induction chemotherapy. We believe this approval of the frontline venetoclax and decitabine combination therapy provides an opportunity for combining prexigebersen with the combination therapy for the treatment of newly diagnosed AML patients. Preclinical efficacy studies for the triple combination treatment of prexigebersen, decitabine and venetoclax in AML have been successfully completed. In the preclinical efficacy studies, four AML cancer cell lines were treated with three different combinations of decitabine, venetoclax and prexigebersen. Decrease in AML cell viability was the primary measure of efficacy. The triple combination of decitabine, venetoclax and prexigebersen showed significant improvement in efficacy in three of the four AML cell lines. Based on these results, we believe that adding prexigebersen to the treatment combination of decitabine and venetoclax could lead to improved efficacy in AML patients. Accordingly, we further amended Stage 2 of this Phase 2 clinical trial to add the triple combination treatment comprised of prexigebersen, decitabine and venetoclax. Our approved amended Stage 2 for this Phase 2 clinical trial currently has three cohorts of patients. The first two cohorts will treat patients with the triple combination of prexigebersen, decitabine and venetoclax. The first cohort will include untreated AML patients, and the second cohort will include relapsed/ refractory AML patients. Finally, the third cohort will treat relapsed/refractory AML patients, who are 1 TABLE OF CONTENTS venetoclax-resistant or -intolerant, with the two-drug combination of prexigebersen and decitabine. The full trial design plans have approximately 98 evaluable patients for the first cohort having untreated AML patients with a preliminary review performed after 19 evaluable patients and a formal interim analysis after 38 evaluable patients. The full trial design plans have approximately 54 evaluable patients for each of the second cohort, having relapsed/refractory AML patients, and the third cohort, having AML patients who are venetoclax-resistant or -intolerant, in each case with a review performed after 19 evaluable patients. The study is anticipated to be conducted at up to ten clinical sites in the U.S., and Gail J. Roboz, MD, is the national coordinating Principal Investigator for the Phase 2 trial. Dr. Roboz is a professor of medicine and director of the Clinical and Translational Leukemia Program at the Weill Medical College of Cornell University (the “Weill Medical College”) and the New York-Presbyterian Hospital in New York City. On August 13, 2020, we announced the enrollment and dosing of the first patient in this approved amended Stage 2 of the Phase 2 clinical trial. The safety run-in of Stage 2 of the Phase 2 clinical study was successfully completed, and the preliminary data was presented at the 2021 ASH Annual Meeting. In the safety run-in of the triple combination, six evaluable patients were treated with the combination of prexigebersen, decitabine and venetoclax. These patients included four relapsed/refractory AML patients, and two newly diagnosed AML patients. Five patients (83%) responded to treatment, including four (67%) achieving CR/CRi/MLFS and one (17%) achieving partial remission (“PR”). Recent publications provide that response (CR + CRi) rates to combination treatment with decitabine and venetoclax (but without prexigebersen) are 42 to 52% for relapsed/ refractory AML patients and 0 to 39% for relapsed/refractory secondary AML patients. Response rates to frontline treatment with decitabine and venetoclax (but without prexigebersen) are 54 to 74% for newly diagnosed AML patients. These preliminary data showed the treatment was well-tolerated and there were no dose limiting toxicities attributed to prexigebersen. Three patients remained on treatment for more than one cycle. On August 1, 2023, we announced interim data for the first two cohorts of the amended Stage 2 of the Phase 2 clinical trial. Fourteen newly diagnosed patients were evaluable in the first cohort and treated with at least one cycle of the prexigebersen, decitabine and venetoclax combination therapy. All patients in the first cohort (median age 75) were adverse risk by 2017 European LeukemiaNet (“ELN”) guidelines (n=10) or secondary AML (n=4). Prexigebersen was well-tolerated, and adverse events (“AEs”) were generally consistent with decitabine and venetoclax treatment and/or for AML. Twelve of the 14 evaluable patients (86%) achieved CR/CRi and two (14%) achieved PR. In total, 100% of the evaluable patients had a response to treatment. The CR/CRi rates of 86% for the evaluable patients in the first cohort is significantly higher than the CR/CRi rates of 62% for newly diagnosed patients treated with the frontline combination treatment of decitabine and venetoclax. Fourteen refractory/relapsed evaluable AML patients in the second cohort were treated with at least one cycle of the prexigebersen, decitabine and venetoclax combination therapy. Substantially all of the patients in the second cohort (median age 56.5) were adverse risk by 2017 ELN guidelines (n=11) or secondary AML (n=2). Prexigebersen was well-tolerated, and AEs were generally consistent with decitabine and venetoclax treatment and/or for AML. Eight of the 14 evaluable refractory/ relapsed patients (57%) achieved CR/CRi, two (14%) achieved PR and two (22%) achieved stable disease. In total, 93% of the evaluable patients in the second cohort had a response to treatment. The CR/CRi rates of 57% for the evaluable refractory and relapsed patients in the second cohort is significantly higher than the CR/CRi rates of 21% for refractory/relapsed patients treated with the combination treatment of decitabine and venetoclax. Based on this interim data, we currently plan to pursue FDA expedited programs for Fast Track designation, and we are evaluating whether to seek to expand Stage 2 of the Phase 2 clinical trial in Europe. Grb2 is involved in activating the RAS/ERK pathway for cell growth. By blocking the cell’s ability to produce Grb2, prexigebersen treatment may limit cell growth. In obesity, two such pathways are related to leptin and insulin. Activation of leptin or insulin receptors can stimulate the RAS/ERK pathway via Grb2. 1 We believe development of prexigebersen for the treatment for obesity and obesity-related cancers could be accelerated given the large amount of safety data from prexigebersen treatment of leukemia patients and 1 blacklining:none; (Casado ME et al. (2023) Recent Advances in the Knowledge of the Mechanisms of Leptin Physiology and Actions in Neurological and Metabolic Pathologies. Int J Mol Sci 24(2): 1422. Published online 2023 Jan 11. doi: 10.3390/ijms24021422) 2 TABLE OF CONTENTS the continued unmet medical need. The Company expects to evaluate prexigebersen for the treatment of obesity as soon as corporate resources are sufficient. Our second drug candidate, Liposomal Bcl-2 (“BP1002”), targets the protein Bcl-2, which is responsible for driving cell survival in up to 60% of all cancers. A Phase 1 clinical trial to evaluate the ability of BP1002 to treat refractory/relapsed lymphoma and refractory/relapsed chronic lymphocytic leukemia (“CLL”) patients has been initiated. The Phase 1 clinical trial is being conducted at the Georgia Cancer Center while two additional clinical trial sites are currently being activated for inclusion in the study, The University of Texas Southwestern and New York Medical College. On January 10, 2024, we announced the successful completion of the first dose cohort in the Phase 1 clinical trial. A total of six evaluable patients are scheduled to be treated with BP1002 monotherapy in a standard 3+3 design, unless there is a dose limiting toxicity which would require an additional three patients to be tested. There were no dose limiting toxicities in the first dose cohort (20 mg/m 2 ). Enrollment is now open for patients for the second BP1002 dose cohort of 40 mg/m 2 . Additionally, preclinical studies suggest that the combination of BP1002 with decitabine is efficacious in venetoclax-resistant leukemia and lymphoma cells. An abstract of the preclinical study was presented at the 2021 American Association for Cancer Research (“AACR”) Annual Meeting. A Phase 1/1b clinical trial to investigate the ability of BP1002 to treat refractory/relapsed AML patients, including venetoclax-resistant patients, is being studied. A recent study 2 found that AML patients who had relapsed from frontline venetoclax-based treatment had a very poor prognosis, with a median survival of less than three months. Since venetoclax and BP1002 utilize different mechanisms of action, we believe that BP1002 may be a potential treatment for venetoclax-relapsed AML patients. The Phase 1/1b clinical trial is being conducted at several leading cancer centers in the United States, including the Weill Medical College, The University of Texas MD Anderson Cancer Center (“MD Anderson”), Scripps Health and The University of California at Los Angeles Cancer Center. On December 14, 2023, we announced the successful completion of the first dose cohort of the dose escalation portion of the Phase 1/1b clinical trial of BP1002; and on April 18, 2024, we announced the successful completion of the second dose cohort. The testing of these two dose levels is now complete and the clinical trial will pause for a brief data review by the FDA, and then we expect that dose testing will continue at the next planned higher dose of 60 mg/m2. The approved treatment cycle is two doses per week over four weeks, resulting in eight doses administered over twenty-eight days. The Phase 1b portion of the study is expected to commence after completion of BP1002 monotherapy cohorts and will assess the safety and efficacy of BP1002 in combination with decitabine in refractory/relapsed AML patients. Our third drug candidate, Liposomal STAT3 (“BP1003”), targets the STAT3 protein and is currently in IND enabling studies as a potential treatment of pancreatic cancer, non-small cell lung cancer (“NSCLC”) and AML. Preclinical models have shown BP1003 to inhibit cell viability and STAT3 protein expression in NSCLC and AML cell lines. Further, BP1003 successfully penetrated pancreatic tumors ex vivo and significantly enhanced the efficacy of gemcitabine, a treatment for patients with advanced pancreatic cancer, in a pancreatic cancer patient derived tumor model. An abstract of the preclinical study was presented at the 2019 AACR Annual Meeting. Our lead indication for BP1003 is pancreatic cancer due to the severity of this disease and the lack of effective, life-extending treatments. For example, pancreatic adenocarcinoma is projected to be the second most lethal cancer behind lung cancer by 2030. Typical survival for a metastatic pancreatic cancer patient is about three to six months from diagnosis. Additionally, an abstract of the preclinical study demonstrating that BP1003 enhanced the sensitivity of breast and ovarian cancer cells to chemotherapy was presented at the 2022 AACR Annual Meeting. We have successfully completed several IND enabling studies of BP1003 and have one additional IND enabling study to complete. Once the additional study is successfully completed, our goal is to file an IND application and initiate the first-in-humans Phase 1 study of BP1003 in patients with refractory, metastatic solid tumors, including pancreatic cancer and NSCLC. In addition, a modified product named BP1001-A, our fourth drug candidate, has shown to enhance chemotherapy efficacy in preclinical solid tumor models. Results of the preclinical study were published in 2 blacklining:none; (Maiti A, Ruasch C, Cortes JE, et.al. Outcomes of relapsed or refractory acute myeloid leukemia after frontline hypomethylating agent and venetoclax regimens. Haematologica 2021; 106: 894-898.) 3 TABLE OF CONTENTS the scientific journal Oncotarget in July 2020. BP1001-A incorporates the same drug substance as prexigebersen but has a slightly modified formulation designed to enhance nanoparticle properties. A BP1001-A Phase 1/1b clinical trial in patients with advanced or recurrent solid tumors has been initiated. The Phase 1/1b clinical trial is being conducted at several leading cancer centers in the United States, including MD Anderson, Karmanos Cancer Institute, Mary Crowley Cancer Research and Holy Cross Hospital, Maryland. On July 17, 2023, we announced completion of the first cohort of the dose escalation portion of the Phase 1/1b clinical trial. A total of nine evaluable patients are scheduled to be treated with BP1001-A monotherapy in a standard 3+3 dose escalation design. The first dose cohort consisted of a starting dose of 60 mg/m 2 , and there were no dose limiting toxicities. Enrollment is now open for patients for the second dose cohort of 90 mg/m 2 . The Phase 1b portion of the study is expected to commence after successful completion of BP1001-A monotherapy cohorts and is intended to assess the safety and efficacy of BP1001-A in combination with paclitaxel in patients with recurrent ovarian or endometrial tumors. Phase 1b studies are also expected to be opened in combination with gemcitabine in Stage 4 pancreatic cancer and combination therapy in breast cancer Our DNAbilize ® technology-based products are available for out-licensing or partnering. We intend to apply our drug technology template to new disease-causing protein targets to develop new liposomal antisense drug candidates for inclusion in our pipeline that meet scientific, preclinical and commercial criteria and file new patents on these targets. We expect that these efforts will include collaboration with key scientific opinion leaders in the field of study and include developing drug candidates for diseases other than cancer. As we expand our drug development programs, we will look at indications where a systemic delivery is needed and antisense RNAi nanoparticles can be used to slow, reverse or cure a disease, either alone or in combination with another drug. We are developing a molecular biomarker package to accompany prexigebersen treatment, the goal of which is to identify patients with a genetic profile more likely to respond to treatment thereby improving probability of success for this program. The emerging role of biomarkers has been enhancing cancer development over the past decade and has become a more common companion to many cancer development programs. We expect to develop molecular biomarker packages to accompany our new programs. We have certain intellectual property as the basis for our current drug products in clinical development, prexigebersen, BP1002, BP1003 and BP1001-A. We are developing RNAi antisense nanoparticle drug candidates based on our own patented technology to treat cancer and autoimmune disorders where targeting a single protein may be advantageous and result in reduced patient adverse effects as compared to small molecule inhibitors with off-target and non-specific effects. We have composition of matter and method of use intellectual property for the design and manufacture of antisense RNAi nanoparticle drug products. Corporate Information The Company was incorporated in May 2000 as a Utah corporation. In February 2008, Bio-Path Subsidiary completed a reverse merger with the Company, which at the time was traded over the counter and had no current operations. The prior name of the Company was changed to Bio-Path Holdings, Inc. and the directors and officers of Bio-Path Subsidiary became the directors and officers of Bio-Path Holdings, Inc. On March 10, 2014, our common stock ceased trading on the OTCQX and commenced trading on the Nasdaq Capital Market under the ticker symbol “BPTH.” Effective December 31, 2014, we changed our state of incorporation from Utah to Delaware through a statutory conversion pursuant to the Utah Revised Business Corporation Act and the Delaware General Corporation Law. Our principal executive offices are located at 4710 Bellaire Boulevard, Suite 210, Bellaire, Texas 77401, and our telephone number is (832) 742-1357. On February 22, 2024, we effected a reverse stock split of our outstanding shares of common stock at a ratio of 1-for-20, and our common stock began trading on the spilt-adjusted basis on the Nasdaq Capital Market at the commencement of trading on February 23, 2024. All common stock share and per share amounts in this Registration Statement on Form S-1 have been adjusted to give effect to the 1-for-20 reverse stock split. 4 TABLE OF CONTENTS Recent Developments On March 12, 2024, we received a deficiency letter from the Listing Qualifications Department of The Nasdaq Stock Market LLC (“Nasdaq”) notifying the Company that it is not in compliance with the minimum stockholders’ equity requirement of at least $2,500,000 for continued inclusion on The Nasdaq Capital Market pursuant to Nasdaq Listing Rule 5550(b)(1) (the “Stockholders’ Equity Requirement”). In accordance with Nasdaq Listing Rule 5810(c)(2)(A), the Company has 45 calendar days, or until April 26, 2024, to submit a plan to Nasdaq to regain compliance (the “Compliance Plan”) with the Stockholders’ Equity Requirement. If the Compliance Plan is accepted, Nasdaq can grant an extension of up to 180 days from the date of the letter for the Company to evidence compliance. If the Compliance Plan is not accepted, Nasdaq could provide written notification to the Company that its common stock may be delisted. At that time, the Company may appeal Nasdaq’s delisting determination to a Nasdaq Hearings Panel (the “Panel”). If the Company timely appeals, it would remain listed pending the Panel’s decision. There can be no assurance that, if the Company does appeal the delisting determination by Nasdaq to the Panel, such appeal would be successful. The Company is considering available options to regain compliance with the Stockholders’ Equity Requirement. However, there can be no assurance that the Company will be successful in developing the Compliance Plan, that the Compliance Plan will be accepted by Nasdaq, or even if it is accepted, that the Company will ultimately be able to regain compliance with the Stockholders’ Equity Requirement within the allotted extension period, which may be less than 180 calendar days. 5 TABLE OF CONTENTS Description of Prior Registered Offerings and Private Placements The shares offered in this prospectus relate to the resale of an aggregate of 483,750 shares of our common stock issuable upon the exercise of the Warrants (as defined below) (including shares that may be issued to the holder in lieu of fractional shares). On March 27, 2024, we completed the closing of a registered direct offering (the “March 2024 Registered Direct Offering”) with a certain institutional and accredited investor for the sale of an aggregate of 75,000 shares of our common stock for gross proceeds of approximately $0.3 million. In a concurrent private placement (the “March 2024 Private Placement”), we issued warrants to the investor to purchase up to 75,000 shares of our common stock, with an exercise price of $3.865 per share, exercisable from March 27, 2024 until March 27, 2029 (the “March Common Warrants”). On March 27, 2024, we also issued to the placement agent, H.C. Wainwright & Co., LLC, as compensation in connection with the March 2024 Registered Direct Offering and the March 2024 Private Placement, warrants to purchase up to 5,625 shares of our common stock, with an exercise price of $4.9875 per share, exercisable from March 27, 2024 until March 25, 2029 (the “March Placement Agent Warrants”). On April 19, 2024, we completed the closing of a registered direct offering (the “April 2024 Registered Direct Offering”) with certain institutional and accredited investors for the sale of an aggregate of 375,000 shares of our common stock for gross proceeds of approximately $1.2 million. In a concurrent private placement (the “April 2024 Private Placement”), we issued warrants to the investors to purchase up to 375,000 shares of our common stock, with an exercise price of $3.10 per share, exercisable from April 19, 2024 until April 19, 2029 (the “April Common Warrants”). On April 19, 2024, we also issued to the placement agent, H.C. Wainwright & Co., LLC, as compensation, in connection with the April 2024 Registered Direct Offering and the April 2024 Private Placement, warrants to purchase up to 28,125 shares of our common stock, with an exercise price of $4.0313 per share, exercisable from April 19, 2024 until April 18, 2029 (the “April Placement Agent Warrants” and together, with the March Common Warrants, the March Placement Agent Warrants and April Common Warrants, the “Warrants”). We are registering the resale of the shares issuable upon exercise of the Warrants. 6 TABLE OF CONTENTS'}}]\n"
          ]
        }
      ],
      "source": [
        "master_summary_list = []\n",
        "\n",
        "for s1 in filtered_list[:10]: # Will limit for now for testing.\n",
        "\n",
        "  found_summary = find_sections_in_html_fulltext(s1['fulltext_path'], ['summary'])\n",
        "  if len(found_summary) != 0:\n",
        "\n",
        "    summary_entry = { s1['fulltext_path'] : found_summary }\n",
        "    master_summary_list.append(summary_entry)\n",
        "\n",
        "print(master_summary_list)"
      ]
    },
    {
      "cell_type": "markdown",
      "source": [
        "At the time of this testing (4/30/24), we successfully grabbed the clean text of ~50% of prospectus summaries by trying the 100 most recent S1's via our quarterly index. It seems that some modern filings do not include hyperlinked TOC's. See [here](https://www.sec.gov/Archives/edgar/data/1121702/000112170224000029/yten-2024x04x25xs1forwarra.htm#ie2eb5995f0dd459a99f25e48e556c22b_10) and [here](https://www.sec.gov/ix?doc=/Archives/edgar/data/1029125/000143774924012445/pbla20240410_s1.htm) for 2 examples. Will investigate and optimize for better performance. At this point the summaries are stored in a dictionary with their respective fulltext filing URL."
      ],
      "metadata": {
        "id": "DFTe8gQfUuLK"
      }
    }
  ],
  "metadata": {
    "colab": {
      "provenance": [],
      "authorship_tag": "ABX9TyPgEzn3E6CsOyyu6VxOWDmT",
      "include_colab_link": true
    },
    "kernelspec": {
      "display_name": "Python 3",
      "name": "python3"
    },
    "language_info": {
      "name": "python"
    }
  },
  "nbformat": 4,
  "nbformat_minor": 0
}