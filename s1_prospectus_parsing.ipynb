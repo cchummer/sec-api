{
  "cells": [
    {
      "cell_type": "markdown",
      "metadata": {
        "id": "view-in-github",
        "colab_type": "text"
      },
      "source": [
        "<a href=\"https://colab.research.google.com/github/cchummer/sec-api/blob/main/s1_prospectus_parsing.ipynb\" target=\"_parent\"><img src=\"https://colab.research.google.com/assets/colab-badge.svg\" alt=\"Open In Colab\"/></a>"
      ]
    },
    {
      "cell_type": "markdown",
      "metadata": {
        "id": "bfm4qWzez-wf"
      },
      "source": [
        "# This module is being developed mainly to extract the prospectus summary and risk factors sections from S1 filings for LDA and NMF topic analysis."
      ]
    },
    {
      "cell_type": "markdown",
      "metadata": {
        "id": "vDuttJMA2pK0"
      },
      "source": [
        "First we will use the daily index files to retrieve filings in mass"
      ]
    },
    {
      "cell_type": "code",
      "execution_count": 1,
      "metadata": {
        "id": "1k8qpI6t5KXj"
      },
      "outputs": [],
      "source": [
        "from datetime import date\n",
        "import requests"
      ]
    },
    {
      "cell_type": "code",
      "execution_count": 2,
      "metadata": {
        "id": "DRJ1_h0R5lXY"
      },
      "outputs": [],
      "source": [
        "\"\"\"\n",
        "Support method used below. Given a date object, determines the quarter number.\n",
        "Quarters are literally just divided into four 3-month groups: Jan-Mar, Apr-Jun, Jul-Sep, Oct-Dec (month 1-3, 4-6, 7-9, 10-12)\n",
        "\"\"\"\n",
        "def get_quarter_from_date(date_obj):\n",
        "  if (date_obj.month >= 1 and date_obj.month <= 3):\n",
        "    return 1\n",
        "  elif (date_obj.month >= 4 and date_obj.month <= 6):\n",
        "    return 2\n",
        "  elif (date_obj.month >= 7 and date_obj.month <= 9):\n",
        "    return 3\n",
        "  elif (date_obj.month >= 10 and date_obj.month <= 12):\n",
        "    return 4\n",
        "  else:\n",
        "    print(\"Failed to determine quarter from given date.\")\n",
        "\n",
        "  return 0"
      ]
    },
    {
      "cell_type": "code",
      "execution_count": 3,
      "metadata": {
        "id": "07vrH4ofzaEb"
      },
      "outputs": [],
      "source": [
        "\"\"\"\n",
        "filter_type = \"cik\", \"company\", \"type\", or \"date\"\n",
        "unique_vals = [] # List of unique values (CIKs, company names, types, or dates). NOTE: Dates should be passed as a list of date objects\n",
        "\n",
        "Returns a list of dictionaries of the following structure:\n",
        "{\n",
        "  \"cik\" : \"CIK_NUM\",\n",
        "  \"company\" : \"COMPANY_NAME\",\n",
        "  \"type\" : \"FILING_TYPE\",\n",
        "  \"date\" : \"YYYY-MM-DD\",\n",
        "  \"fulltext_path\" : \".../edgar/data/CIK/ETC\"\n",
        "}\n",
        "\"\"\"\n",
        "def filter_quarter_by_param(target_year, target_quarter, filter_type, unique_vals = ()):\n",
        "\n",
        "  filings_list = []\n",
        "\n",
        "  # Figure out what kind of filter and format the unique values if needed\n",
        "  clean_unique_vals = []\n",
        "  filter_column = 0\n",
        "\n",
        "  if filter_type == \"cik\":\n",
        "    # Strip leading 0's for consistency. The IDX files won't include them from what I've seen.\n",
        "    for i in unique_vals:\n",
        "      clean_unique_vals.append(str(i).lstrip(\"0\"))\n",
        "\n",
        "  elif filter_type == \"company\":\n",
        "    filter_column = 1\n",
        "    for i in unique_vals:\n",
        "      clean_unique_vals.append(i.lower())\n",
        "\n",
        "  elif filter_type == \"type\":\n",
        "    filter_column = 2\n",
        "    for i in unique_vals:\n",
        "      clean_unique_vals.append(i.lower())\n",
        "\n",
        "  elif filter_type == \"date\":\n",
        "    filter_column = 3\n",
        "    # Convert date structures into \"YYYY-MM-DD\" strings\n",
        "    try:\n",
        "      for d in unique_vals:\n",
        "        clean_unique_vals.append(\"{}-{}-{}\".format(d.year, str(d.month).zfill(2), str(d.day).zfill(2)))\n",
        "    except:\n",
        "      print(\"Invalid filter date objects passed.\")\n",
        "      return filings_list\n",
        "\n",
        "  else:\n",
        "    print(\"Invalid quarterly filter type. Must be name, CIK, type, or date: {}\".format(filter_type))\n",
        "    return filings_list\n",
        "\n",
        "  # URLs and UA for full-index\n",
        "  qtr_index_url = r\"https://www.sec.gov/Archives/edgar/full-index/{}/QTR{}/master.idx\".format(target_year, target_quarter)\n",
        "  base_archives = \"https://www.sec.gov/Archives/\"\n",
        "  req_headers = { \"User-Agent\" : \"Mozilla/5.0 (Macintosh; Intel Mac OS X 10_15_7) AppleWebKit/537.36 (KHTML, like Gecko) Chrome/105.0.0.0 Safari/537.36\" }\n",
        "\n",
        "  # Get the .idx file\n",
        "  resp = requests.get(url = qtr_index_url, headers = req_headers)\n",
        "  resp.raise_for_status()\n",
        "\n",
        "  # First separate the header from the lines of content. Look for twenty dashes in a row followed by a newline\n",
        "  idx_full_text = resp.text\n",
        "  split_idx = idx_full_text.split(\"--------------------\\n\")\n",
        "\n",
        "  # Loop through lines of data\n",
        "  try:\n",
        "    for line in split_idx[1].splitlines():\n",
        "\n",
        "      # CIK|Company Name|Form Type|Date Filed|Filename\n",
        "      # We expect 5 columns\n",
        "      columns = line.split(\"|\")\n",
        "      if len(columns) == 5:\n",
        "\n",
        "        if columns[filter_column].lower() in clean_unique_vals:\n",
        "          # Build a dictionary for the filing if we find match\n",
        "          found_filing = {}\n",
        "          found_filing[\"cik\"] = columns[0].zfill(10)\n",
        "          found_filing[\"company\"] = columns[1]\n",
        "          found_filing[\"type\"] = columns[2]\n",
        "          found_filing[\"date\"] = columns[3]\n",
        "          found_filing[\"fulltext_path\"] = base_archives + columns[4]\n",
        "\n",
        "          # Append it\n",
        "          filings_list.append(found_filing)\n",
        "\n",
        "  except:\n",
        "    print(\"IDX file was in unexpected format, error parsing\")\n",
        "\n",
        "  return filings_list"
      ]
    },
    {
      "cell_type": "code",
      "execution_count": 4,
      "metadata": {
        "colab": {
          "base_uri": "https://localhost:8080/"
        },
        "id": "hw9Gf-V85Bcu",
        "outputId": "f2619f56-2492-44a4-a77e-a2ba7233bfcb"
      },
      "outputs": [
        {
          "output_type": "stream",
          "name": "stdout",
          "text": [
            "[{'cik': '0001014763', 'company': 'Ainos, Inc.', 'type': 'S-1', 'date': '2024-04-08', 'fulltext_path': 'https://www.sec.gov/Archives/edgar/data/1014763/0001493152-24-013774.txt'}, {'cik': '0001029125', 'company': 'Panbela Therapeutics, Inc.', 'type': 'S-1', 'date': '2024-04-18', 'fulltext_path': 'https://www.sec.gov/Archives/edgar/data/1029125/0001437749-24-012445.txt'}, {'cik': '0001063537', 'company': 'RiceBran Technologies', 'type': 'S-1', 'date': '2024-04-19', 'fulltext_path': 'https://www.sec.gov/Archives/edgar/data/1063537/0001437749-24-012560.txt'}, {'cik': '0001096275', 'company': 'Worksport Ltd', 'type': 'S-1', 'date': '2024-04-02', 'fulltext_path': 'https://www.sec.gov/Archives/edgar/data/1096275/0001493152-24-012713.txt'}, {'cik': '0001121702', 'company': 'YIELD10 BIOSCIENCE, INC.', 'type': 'S-1', 'date': '2024-04-25', 'fulltext_path': 'https://www.sec.gov/Archives/edgar/data/1121702/0001121702-24-000029.txt'}, {'cik': '0001133818', 'company': 'BIO-PATH HOLDINGS, INC.', 'type': 'S-1', 'date': '2024-04-24', 'fulltext_path': 'https://www.sec.gov/Archives/edgar/data/1133818/0001104659-24-051250.txt'}, {'cik': '0001136174', 'company': 'Ontrak, Inc.', 'type': 'S-1', 'date': '2024-04-22', 'fulltext_path': 'https://www.sec.gov/Archives/edgar/data/1136174/0001628280-24-016990.txt'}, {'cik': '0001376804', 'company': 'VNUE, Inc.', 'type': 'S-1', 'date': '2024-04-18', 'fulltext_path': 'https://www.sec.gov/Archives/edgar/data/1376804/0001829126-24-002630.txt'}, {'cik': '0001394319', 'company': 'Tracon Pharmaceuticals, Inc.', 'type': 'S-1', 'date': '2024-04-12', 'fulltext_path': 'https://www.sec.gov/Archives/edgar/data/1394319/0000950170-24-044109.txt'}, {'cik': '0001396536', 'company': 'DUOS TECHNOLOGIES GROUP, INC.', 'type': 'S-1', 'date': '2024-04-12', 'fulltext_path': 'https://www.sec.gov/Archives/edgar/data/1396536/0001079973-24-000540.txt'}, {'cik': '0001407583', 'company': 'Bunker Hill Mining Corp.', 'type': 'S-1', 'date': '2024-04-15', 'fulltext_path': 'https://www.sec.gov/Archives/edgar/data/1407583/0001493152-24-014677.txt'}, {'cik': '0001409269', 'company': 'Venus Concept Inc.', 'type': 'S-1', 'date': '2024-04-03', 'fulltext_path': 'https://www.sec.gov/Archives/edgar/data/1409269/0001140361-24-017610.txt'}, {'cik': '0001439725', 'company': 'BIODESIX INC', 'type': 'S-1', 'date': '2024-04-23', 'fulltext_path': 'https://www.sec.gov/Archives/edgar/data/1439725/0001193125-24-107051.txt'}, {'cik': '0001492674', 'company': 'T2 Biosystems, Inc.', 'type': 'S-1', 'date': '2024-04-22', 'fulltext_path': 'https://www.sec.gov/Archives/edgar/data/1492674/0001193125-24-105041.txt'}, {'cik': '0001497253', 'company': 'ORGANOVO HOLDINGS, INC.', 'type': 'S-1', 'date': '2024-04-12', 'fulltext_path': 'https://www.sec.gov/Archives/edgar/data/1497253/0000950170-24-044137.txt'}, {'cik': '0001498148', 'company': 'Artificial Intelligence Technology Solutions Inc.', 'type': 'S-1', 'date': '2024-04-03', 'fulltext_path': 'https://www.sec.gov/Archives/edgar/data/1498148/0001493152-24-013029.txt'}, {'cik': '0001505497', 'company': 'BioRestorative Therapies, Inc.', 'type': 'S-1', 'date': '2024-04-03', 'fulltext_path': 'https://www.sec.gov/Archives/edgar/data/1505497/0001021771-24-000084.txt'}, {'cik': '0001554818', 'company': 'AUDDIA INC.', 'type': 'S-1', 'date': '2024-04-11', 'fulltext_path': 'https://www.sec.gov/Archives/edgar/data/1554818/0001683168-24-002293.txt'}, {'cik': '0001559495', 'company': 'Symetra Life Insurance Co', 'type': 'S-1', 'date': '2024-04-01', 'fulltext_path': 'https://www.sec.gov/Archives/edgar/data/1559495/0001559495-24-000020.txt'}, {'cik': '0001559495', 'company': 'Symetra Life Insurance Co', 'type': 'S-1', 'date': '2024-04-01', 'fulltext_path': 'https://www.sec.gov/Archives/edgar/data/1559495/0001559495-24-000021.txt'}, {'cik': '0001563568', 'company': 'Envirotech Vehicles, Inc.', 'type': 'S-1', 'date': '2024-04-05', 'fulltext_path': 'https://www.sec.gov/Archives/edgar/data/1563568/0001437749-24-011235.txt'}, {'cik': '0001610853', 'company': 'HELIUS MEDICAL TECHNOLOGIES, INC.', 'type': 'S-1', 'date': '2024-04-15', 'fulltext_path': 'https://www.sec.gov/Archives/edgar/data/1610853/0001104659-24-047362.txt'}, {'cik': '0001623590', 'company': 'Fintech Scion Ltd', 'type': 'S-1', 'date': '2024-04-26', 'fulltext_path': 'https://www.sec.gov/Archives/edgar/data/1623590/0001753926-24-000851.txt'}, {'cik': '0001634117', 'company': 'Barnes & Noble Education, Inc.', 'type': 'S-1', 'date': '2024-04-18', 'fulltext_path': 'https://www.sec.gov/Archives/edgar/data/1634117/0001193125-24-100851.txt'}, {'cik': '0001636282', 'company': 'Spyre Therapeutics, Inc.', 'type': 'S-1', 'date': '2024-04-19', 'fulltext_path': 'https://www.sec.gov/Archives/edgar/data/1636282/0001193125-24-101185.txt'}, {'cik': '0001644488', 'company': 'SHARING SERVICES GLOBAL Corp', 'type': 'S-1', 'date': '2024-04-12', 'fulltext_path': 'https://www.sec.gov/Archives/edgar/data/1644488/0001493152-24-014492.txt'}, {'cik': '0001661998', 'company': 'Q32 Bio Inc.', 'type': 'S-1', 'date': '2024-04-19', 'fulltext_path': 'https://www.sec.gov/Archives/edgar/data/1661998/0001193125-24-102858.txt'}, {'cik': '0001681682', 'company': 'ENDRA Life Sciences Inc.', 'type': 'S-1', 'date': '2024-04-19', 'fulltext_path': 'https://www.sec.gov/Archives/edgar/data/1681682/0001654954-24-004823.txt'}, {'cik': '0001708331', 'company': 'Virpax Pharmaceuticals, Inc.', 'type': 'S-1', 'date': '2024-04-18', 'fulltext_path': 'https://www.sec.gov/Archives/edgar/data/1708331/0001213900-24-034117.txt'}, {'cik': '0001711786', 'company': 'Hoth Therapeutics, Inc.', 'type': 'S-1', 'date': '2024-04-11', 'fulltext_path': 'https://www.sec.gov/Archives/edgar/data/1711786/0001213900-24-032207.txt'}, {'cik': '0001712762', 'company': 'bioAffinity Technologies, Inc.', 'type': 'S-1', 'date': '2024-04-04', 'fulltext_path': 'https://www.sec.gov/Archives/edgar/data/1712762/0001493152-24-013214.txt'}, {'cik': '0001716166', 'company': 'Vivos Therapeutics, Inc.', 'type': 'S-1', 'date': '2024-04-09', 'fulltext_path': 'https://www.sec.gov/Archives/edgar/data/1716166/0001493152-24-013987.txt'}, {'cik': '0001733413', 'company': 'TFF Pharmaceuticals, Inc.', 'type': 'S-1', 'date': '2024-04-08', 'fulltext_path': 'https://www.sec.gov/Archives/edgar/data/1733413/0001213900-24-030971.txt'}, {'cik': '0001733413', 'company': 'TFF Pharmaceuticals, Inc.', 'type': 'S-1', 'date': '2024-04-18', 'fulltext_path': 'https://www.sec.gov/Archives/edgar/data/1733413/0001213900-24-034178.txt'}, {'cik': '0001750149', 'company': 'Inhibikase Therapeutics, Inc.', 'type': 'S-1', 'date': '2024-04-19', 'fulltext_path': 'https://www.sec.gov/Archives/edgar/data/1750149/0001193125-24-103050.txt'}, {'cik': '0001757499', 'company': 'Shuttle Pharmaceuticals Holdings, Inc.', 'type': 'S-1', 'date': '2024-04-05', 'fulltext_path': 'https://www.sec.gov/Archives/edgar/data/1757499/0001493152-24-013368.txt'}, {'cik': '0001809750', 'company': 'Edible Garden AG Inc', 'type': 'S-1', 'date': '2024-04-26', 'fulltext_path': 'https://www.sec.gov/Archives/edgar/data/1809750/0001477932-24-002358.txt'}, {'cik': '0001811109', 'company': 'Applied UV, Inc.', 'type': 'S-1', 'date': '2024-04-16', 'fulltext_path': 'https://www.sec.gov/Archives/edgar/data/1811109/0001213900-24-033523.txt'}, {'cik': '0001817232', 'company': 'Global Gas Corp', 'type': 'S-1', 'date': '2024-04-16', 'fulltext_path': 'https://www.sec.gov/Archives/edgar/data/1817232/0001213900-24-033456.txt'}, {'cik': '0001817760', 'company': 'SmartKem, Inc.', 'type': 'S-1', 'date': '2024-04-11', 'fulltext_path': 'https://www.sec.gov/Archives/edgar/data/1817760/0001410578-24-000449.txt'}, {'cik': '0001826011', 'company': 'Banzai International, Inc.', 'type': 'S-1', 'date': '2024-04-22', 'fulltext_path': 'https://www.sec.gov/Archives/edgar/data/1826011/0001193125-24-105081.txt'}, {'cik': '0001832487', 'company': 'Guerrilla RF, Inc.', 'type': 'S-1', 'date': '2024-04-26', 'fulltext_path': 'https://www.sec.gov/Archives/edgar/data/1832487/0001437749-24-013380.txt'}, {'cik': '0001833498', 'company': 'Spectral AI, Inc.', 'type': 'S-1', 'date': '2024-04-10', 'fulltext_path': 'https://www.sec.gov/Archives/edgar/data/1833498/0001213900-24-031907.txt'}, {'cik': '0001834526', 'company': 'GP-Act III Acquisition Corp.', 'type': 'S-1', 'date': '2024-04-19', 'fulltext_path': 'https://www.sec.gov/Archives/edgar/data/1834526/0001104659-24-049264.txt'}, {'cik': '0001838163', 'company': 'Brand Engagement Network Inc.', 'type': 'S-1', 'date': '2024-04-12', 'fulltext_path': 'https://www.sec.gov/Archives/edgar/data/1838163/0001493152-24-014497.txt'}, {'cik': '0001839341', 'company': 'Core Scientific, Inc./tx', 'type': 'S-1', 'date': '2024-04-15', 'fulltext_path': 'https://www.sec.gov/Archives/edgar/data/1839341/0001628280-24-016122.txt'}, {'cik': '0001843714', 'company': 'Zapata Computing Holdings Inc.', 'type': 'S-1', 'date': '2024-04-12', 'fulltext_path': 'https://www.sec.gov/Archives/edgar/data/1843714/0001193125-24-094887.txt'}, {'cik': '0001843714', 'company': 'Zapata Computing Holdings Inc.', 'type': 'S-1', 'date': '2024-04-24', 'fulltext_path': 'https://www.sec.gov/Archives/edgar/data/1843714/0001193125-24-108015.txt'}, {'cik': '0001844505', 'company': 'QT IMAGING HOLDINGS, INC.', 'type': 'S-1', 'date': '2024-04-02', 'fulltext_path': 'https://www.sec.gov/Archives/edgar/data/1844505/0001193125-24-084445.txt'}, {'cik': '0001849635', 'company': 'Trump Media & Technology Group Corp.', 'type': 'S-1', 'date': '2024-04-15', 'fulltext_path': 'https://www.sec.gov/Archives/edgar/data/1849635/0001140361-24-019745.txt'}, {'cik': '0001851961', 'company': 'GCT Semiconductor Holding, Inc.', 'type': 'S-1', 'date': '2024-04-19', 'fulltext_path': 'https://www.sec.gov/Archives/edgar/data/1851961/0001410578-24-000518.txt'}, {'cik': '0001853070', 'company': 'Volato Group, Inc.', 'type': 'S-1', 'date': '2024-04-24', 'fulltext_path': 'https://www.sec.gov/Archives/edgar/data/1853070/0001140361-24-021768.txt'}, {'cik': '0001855467', 'company': 'MOBIX LABS, INC', 'type': 'S-1', 'date': '2024-04-02', 'fulltext_path': 'https://www.sec.gov/Archives/edgar/data/1855467/0001213900-24-029035.txt'}, {'cik': '0001855467', 'company': 'MOBIX LABS, INC', 'type': 'S-1', 'date': '2024-04-16', 'fulltext_path': 'https://www.sec.gov/Archives/edgar/data/1855467/0001213900-24-033133.txt'}, {'cik': '0001855474', 'company': 'Montana Technologies Corp.', 'type': 'S-1', 'date': '2024-04-12', 'fulltext_path': 'https://www.sec.gov/Archives/edgar/data/1855474/0001213900-24-032262.txt'}, {'cik': '0001863990', 'company': 'MultiSensor AI Holdings, Inc.', 'type': 'S-1', 'date': '2024-04-18', 'fulltext_path': 'https://www.sec.gov/Archives/edgar/data/1863990/0001104659-24-048846.txt'}, {'cik': '0001863990', 'company': 'MultiSensor AI Holdings, Inc.', 'type': 'S-1', 'date': '2024-04-29', 'fulltext_path': 'https://www.sec.gov/Archives/edgar/data/1863990/0001104659-24-053578.txt'}, {'cik': '0001865506', 'company': 'Zeo Energy Corp.', 'type': 'S-1', 'date': '2024-04-17', 'fulltext_path': 'https://www.sec.gov/Archives/edgar/data/1865506/0001213900-24-033869.txt'}, {'cik': '0001868640', 'company': 'Roadzen Inc.', 'type': 'S-1', 'date': '2024-04-16', 'fulltext_path': 'https://www.sec.gov/Archives/edgar/data/1868640/0000950170-24-044548.txt'}, {'cik': '0001870404', 'company': 'CERO THERAPEUTICS HOLDINGS, INC.', 'type': 'S-1', 'date': '2024-04-10', 'fulltext_path': 'https://www.sec.gov/Archives/edgar/data/1870404/0001213900-24-031869.txt'}, {'cik': '0001874097', 'company': 'Cyngn Inc.', 'type': 'S-1', 'date': '2024-04-12', 'fulltext_path': 'https://www.sec.gov/Archives/edgar/data/1874097/0001213900-24-032595.txt'}, {'cik': '0001879403', 'company': 'La Rosa Holdings Corp.', 'type': 'S-1', 'date': '2024-04-24', 'fulltext_path': 'https://www.sec.gov/Archives/edgar/data/1879403/0001213900-24-035778.txt'}, {'cik': '0001881551', 'company': 'Solidion Technology Inc.', 'type': 'S-1', 'date': '2024-04-15', 'fulltext_path': 'https://www.sec.gov/Archives/edgar/data/1881551/0001213900-24-033039.txt'}, {'cik': '0001883984', 'company': 'Alternus Clean Energy, Inc.', 'type': 'S-1', 'date': '2024-04-29', 'fulltext_path': 'https://www.sec.gov/Archives/edgar/data/1883984/0001213900-24-037297.txt'}, {'cik': '0001897245', 'company': 'HWH International Inc.', 'type': 'S-1', 'date': '2024-04-08', 'fulltext_path': 'https://www.sec.gov/Archives/edgar/data/1897245/0001493152-24-013944.txt'}, {'cik': '0001898604', 'company': 'Yoshiharu Global Co.', 'type': 'S-1', 'date': '2024-04-19', 'fulltext_path': 'https://www.sec.gov/Archives/edgar/data/1898604/0001493152-24-015367.txt'}, {'cik': '0001907108', 'company': 'Lexeo Therapeutics, Inc.', 'type': 'S-1', 'date': '2024-04-09', 'fulltext_path': 'https://www.sec.gov/Archives/edgar/data/1907108/0001193125-24-090233.txt'}, {'cik': '0001938046', 'company': 'MANGOCEUTICALS, INC.', 'type': 'S-1', 'date': '2024-04-23', 'fulltext_path': 'https://www.sec.gov/Archives/edgar/data/1938046/0001493152-24-015724.txt'}, {'cik': '0001943289', 'company': 'Silvaco Group, Inc.', 'type': 'S-1', 'date': '2024-04-12', 'fulltext_path': 'https://www.sec.gov/Archives/edgar/data/1943289/0001628280-24-016108.txt'}, {'cik': '0001943896', 'company': 'Rubrik, Inc.', 'type': 'S-1', 'date': '2024-04-01', 'fulltext_path': 'https://www.sec.gov/Archives/edgar/data/1943896/0001193125-24-083525.txt'}, {'cik': '0001956955', 'company': 'Unusual Machines, Inc.', 'type': 'S-1', 'date': '2024-04-10', 'fulltext_path': 'https://www.sec.gov/Archives/edgar/data/1956955/0001683168-24-002275.txt'}, {'cik': '0001958777', 'company': 'FibroBiologics, Inc.', 'type': 'S-1', 'date': '2024-04-26', 'fulltext_path': 'https://www.sec.gov/Archives/edgar/data/1958777/0001493152-24-015999.txt'}, {'cik': '0001959023', 'company': 'Safe & Green Development Corp', 'type': 'S-1', 'date': '2024-04-09', 'fulltext_path': 'https://www.sec.gov/Archives/edgar/data/1959023/0001213900-24-031327.txt'}, {'cik': '0001996192', 'company': 'Lakeside Holding Ltd', 'type': 'S-1', 'date': '2024-04-01', 'fulltext_path': 'https://www.sec.gov/Archives/edgar/data/1996192/0001213900-24-028465.txt'}, {'cik': '0001998768', 'company': 'Proficient Auto Logistics, Inc', 'type': 'S-1', 'date': '2024-04-11', 'fulltext_path': 'https://www.sec.gov/Archives/edgar/data/1998768/0001213900-24-032249.txt'}, {'cik': '0002000178', 'company': 'Loar Holdings, LLC', 'type': 'S-1', 'date': '2024-04-02', 'fulltext_path': 'https://www.sec.gov/Archives/edgar/data/2000178/0001193125-24-084921.txt'}, {'cik': '0002002473', 'company': 'Bowhead Specialty Holdings Inc.', 'type': 'S-1', 'date': '2024-04-12', 'fulltext_path': 'https://www.sec.gov/Archives/edgar/data/2002473/0001628280-24-016055.txt'}, {'cik': '0002006191', 'company': 'SEAC II Corp.', 'type': 'S-1', 'date': '2024-04-22', 'fulltext_path': 'https://www.sec.gov/Archives/edgar/data/2006191/0001193125-24-103743.txt'}, {'cik': '0002017302', 'company': 'Mission Space Acquisition Corp.', 'type': 'S-1', 'date': '2024-04-11', 'fulltext_path': 'https://www.sec.gov/Archives/edgar/data/2017302/0001213900-24-031980.txt'}, {'cik': '0002017950', 'company': 'DT Cloud Star Acquisition Corp', 'type': 'S-1', 'date': '2024-04-29', 'fulltext_path': 'https://www.sec.gov/Archives/edgar/data/2017950/0001493152-24-016919.txt'}, {'cik': '0002019504', 'company': 'DERUN GROUP INC', 'type': 'S-1', 'date': '2024-04-22', 'fulltext_path': 'https://www.sec.gov/Archives/edgar/data/2019504/0002019504-24-000003.txt'}, {'cik': '0002020455', 'company': 'Grayscale Ethereum Mini Trust (ETH)', 'type': 'S-1', 'date': '2024-04-23', 'fulltext_path': 'https://www.sec.gov/Archives/edgar/data/2020455/0001193125-24-106957.txt'}, {'cik': '0000205695', 'company': 'NATIONWIDE LIFE INSURANCE CO', 'type': 'S-1', 'date': '2024-04-04', 'fulltext_path': 'https://www.sec.gov/Archives/edgar/data/205695/0001193125-24-087178.txt'}, {'cik': '0000205695', 'company': 'NATIONWIDE LIFE INSURANCE CO', 'type': 'S-1', 'date': '2024-04-04', 'fulltext_path': 'https://www.sec.gov/Archives/edgar/data/205695/0001193125-24-087183.txt'}, {'cik': '0000310826', 'company': 'PROTECTIVE LIFE INSURANCE CO', 'type': 'S-1', 'date': '2024-04-12', 'fulltext_path': 'https://www.sec.gov/Archives/edgar/data/310826/0001628280-24-016099.txt'}, {'cik': '0000045947', 'company': 'TALCOTT RESOLUTION LIFE INSURANCE CO', 'type': 'S-1', 'date': '2024-04-24', 'fulltext_path': 'https://www.sec.gov/Archives/edgar/data/45947/0001628280-24-017628.txt'}, {'cik': '0000045947', 'company': 'TALCOTT RESOLUTION LIFE INSURANCE CO', 'type': 'S-1', 'date': '2024-04-24', 'fulltext_path': 'https://www.sec.gov/Archives/edgar/data/45947/0001628280-24-017629.txt'}, {'cik': '0000045947', 'company': 'TALCOTT RESOLUTION LIFE INSURANCE CO', 'type': 'S-1', 'date': '2024-04-24', 'fulltext_path': 'https://www.sec.gov/Archives/edgar/data/45947/0001628280-24-017630.txt'}, {'cik': '0000045947', 'company': 'TALCOTT RESOLUTION LIFE INSURANCE CO', 'type': 'S-1', 'date': '2024-04-24', 'fulltext_path': 'https://www.sec.gov/Archives/edgar/data/45947/0001628280-24-017631.txt'}, {'cik': '0000045947', 'company': 'TALCOTT RESOLUTION LIFE INSURANCE CO', 'type': 'S-1', 'date': '2024-04-24', 'fulltext_path': 'https://www.sec.gov/Archives/edgar/data/45947/0001628280-24-017632.txt'}, {'cik': '0000045947', 'company': 'TALCOTT RESOLUTION LIFE INSURANCE CO', 'type': 'S-1', 'date': '2024-04-24', 'fulltext_path': 'https://www.sec.gov/Archives/edgar/data/45947/0001628280-24-017633.txt'}, {'cik': '0000055234', 'company': 'KENILWORTH SYSTEMS CORP', 'type': 'S-1', 'date': '2024-04-01', 'fulltext_path': 'https://www.sec.gov/Archives/edgar/data/55234/0001477932-24-001667.txt'}, {'cik': '0000072499', 'company': 'ALLIANZ LIFE INSURANCE CO OF NORTH AMERICA', 'type': 'S-1', 'date': '2024-04-17', 'fulltext_path': 'https://www.sec.gov/Archives/edgar/data/72499/0000072499-24-000025.txt'}, {'cik': '0000072499', 'company': 'ALLIANZ LIFE INSURANCE CO OF NORTH AMERICA', 'type': 'S-1', 'date': '2024-04-17', 'fulltext_path': 'https://www.sec.gov/Archives/edgar/data/72499/0000072499-24-000026.txt'}, {'cik': '0000744452', 'company': 'APPLIED DNA SCIENCES INC', 'type': 'S-1', 'date': '2024-04-24', 'fulltext_path': 'https://www.sec.gov/Archives/edgar/data/744452/0001104659-24-050738.txt'}, {'cik': '0000788611', 'company': 'NextTrip, Inc.', 'type': 'S-1', 'date': '2024-04-08', 'fulltext_path': 'https://www.sec.gov/Archives/edgar/data/788611/0001493152-24-013960.txt'}, {'cik': '0000823533', 'company': 'UNION SECURITY INSURANCE CO', 'type': 'S-1', 'date': '2024-04-16', 'fulltext_path': 'https://www.sec.gov/Archives/edgar/data/823533/0001628280-24-016358.txt'}, {'cik': '0000823533', 'company': 'UNION SECURITY INSURANCE CO', 'type': 'S-1', 'date': '2024-04-16', 'fulltext_path': 'https://www.sec.gov/Archives/edgar/data/823533/0001628280-24-016364.txt'}, {'cik': '0000823533', 'company': 'UNION SECURITY INSURANCE CO', 'type': 'S-1', 'date': '2024-04-16', 'fulltext_path': 'https://www.sec.gov/Archives/edgar/data/823533/0001628280-24-016365.txt'}, {'cik': '0000823533', 'company': 'UNION SECURITY INSURANCE CO', 'type': 'S-1', 'date': '2024-04-16', 'fulltext_path': 'https://www.sec.gov/Archives/edgar/data/823533/0001628280-24-016366.txt'}, {'cik': '0000008504', 'company': 'AgEagle Aerial Systems Inc.', 'type': 'S-1', 'date': '2024-04-29', 'fulltext_path': 'https://www.sec.gov/Archives/edgar/data/8504/0001493152-24-016870.txt'}, {'cik': '0000880242', 'company': 'BIOLARGO, INC.', 'type': 'S-1', 'date': '2024-04-12', 'fulltext_path': 'https://www.sec.gov/Archives/edgar/data/880242/0001437749-24-011927.txt'}, {'cik': '0000909759', 'company': 'MIDLAND NATIONAL LIFE INSURANCE CO', 'type': 'S-1', 'date': '2024-04-19', 'fulltext_path': 'https://www.sec.gov/Archives/edgar/data/909759/0000909759-24-000023.txt'}, {'cik': '0000914804', 'company': 'UNION SECURITY LIFE INSURANCE CO OF NEW YORK', 'type': 'S-1', 'date': '2024-04-16', 'fulltext_path': 'https://www.sec.gov/Archives/edgar/data/914804/0001628280-24-016402.txt'}, {'cik': '0000914804', 'company': 'UNION SECURITY LIFE INSURANCE CO OF NEW YORK', 'type': 'S-1', 'date': '2024-04-16', 'fulltext_path': 'https://www.sec.gov/Archives/edgar/data/914804/0001628280-24-016404.txt'}, {'cik': '0000926617', 'company': \"Aspira Women's Health Inc.\", 'type': 'S-1', 'date': '2024-04-05', 'fulltext_path': 'https://www.sec.gov/Archives/edgar/data/926617/0001193125-24-088678.txt'}, {'cik': '0000931788', 'company': 'JACKSON NATIONAL LIFE INSURANCE CO', 'type': 'S-1', 'date': '2024-04-09', 'fulltext_path': 'https://www.sec.gov/Archives/edgar/data/931788/0000931788-24-000051.txt'}, {'cik': '0000931788', 'company': 'JACKSON NATIONAL LIFE INSURANCE CO', 'type': 'S-1', 'date': '2024-04-09', 'fulltext_path': 'https://www.sec.gov/Archives/edgar/data/931788/0000931788-24-000052.txt'}, {'cik': '0000946644', 'company': 'AIM ImmunoTech Inc.', 'type': 'S-1', 'date': '2024-04-19', 'fulltext_path': 'https://www.sec.gov/Archives/edgar/data/946644/0001493152-24-015368.txt'}]\n"
          ]
        }
      ],
      "source": [
        "# Test above method\n",
        "todays_date = date.today()\n",
        "qtrnum = get_quarter_from_date(todays_date)\n",
        "\n",
        "if (not qtrnum):\n",
        "  print('There was an issue determining the correct quarter(s) to grab')\n",
        "  exit()\n",
        "\n",
        "filtered_list = filter_quarter_by_param(todays_date.year, qtrnum, \"type\", ['S-1'])\n",
        "print(filtered_list)"
      ]
    },
    {
      "cell_type": "markdown",
      "metadata": {
        "id": "AeiHtcPo7a_b"
      },
      "source": [
        "Now we want to break down the document and find both the prosectus summary and risk factors, as mentioned. This code is borrowed from my 10Q and 10K [text section handling framework](https://github.com/cchummer/sec-api/blob/main/10q_k_text_parsing.ipynb)."
      ]
    },
    {
      "cell_type": "code",
      "execution_count": 1,
      "metadata": {
        "id": "SOQC7wjb_8SX"
      },
      "outputs": [],
      "source": [
        "from bs4 import BeautifulSoup, Tag, NavigableString\n",
        "import unicodedata"
      ]
    },
    {
      "cell_type": "code",
      "execution_count": 6,
      "metadata": {
        "id": "BK7cMWfrAF-q"
      },
      "outputs": [],
      "source": [
        "\"\"\"\n",
        "unicodedata.normalize leaves behind a couple of not technically whitespace control-characters. See https://www.geeksforgeeks.org/python-program-to-remove-all-control-characters/ and http://www.unicode.org/reports/tr44/#GC_Values_Table\n",
        "\"\"\"\n",
        "def remove_control_characters(s):\n",
        "    return \"\".join(ch for ch in s if unicodedata.category(ch)[0] != \"C\")\n",
        "\n",
        "\"\"\"\n",
        "Cleans the given text (specifically: unicode normalize and turn newlines/whitespace into a single space)\n",
        "\"\"\"\n",
        "def clean_column_text(text_to_clean):\n",
        "\n",
        "  clean_text = unicodedata.normalize('NFKD', text_to_clean)\n",
        "  clean_text = remove_control_characters(clean_text)\n",
        "  clean_text = clean_text.replace('\\n', ' ') # Split doesn't catch newlines from my testing\n",
        "  clean_text = \" \".join(clean_text.split()) # Split string along tabs and spaces, then rejoin the parts with single spaces instead\n",
        "\n",
        "  return clean_text"
      ]
    },
    {
      "cell_type": "code",
      "execution_count": 3,
      "metadata": {
        "id": "e3PwMf3f7YTA"
      },
      "outputs": [],
      "source": [
        "\"\"\"\n",
        "Attempts to locate a table of contents by looking for a <table> element containing one or more <href> elements\n",
        "Returns the bs4.Element.Tag object of that table if it exists, or None\n",
        "\"\"\"\n",
        "def linked_toc_exists(document_soup):\n",
        "\n",
        "  # Find all <table> tags\n",
        "  all_tables = document_soup.find_all('table')\n",
        "  for cur_table in all_tables:\n",
        "\n",
        "    # Look for an <a href=...>\n",
        "    links = cur_table.find_all('a', attrs = { 'href' : True })\n",
        "    if len(links):\n",
        "      return cur_table\n",
        "\n",
        "  return None"
      ]
    },
    {
      "cell_type": "code",
      "execution_count": 8,
      "metadata": {
        "id": "tBnJBXHs_yjc"
      },
      "outputs": [],
      "source": [
        "\"\"\"\n",
        "Helper method to find_sections_with_toc, extracts the text found inbetween 2 bs4 Tags/elements\n",
        "\"\"\"\n",
        "def text_between_tags(start, end):\n",
        "\n",
        "  cur = start\n",
        "  found_text = \"\"\n",
        "\n",
        "  # Loop through all elements inbetween the two\n",
        "  while cur and cur != end:\n",
        "    if isinstance(cur, NavigableString):\n",
        "\n",
        "      text = cur.strip()\n",
        "      if len(text):\n",
        "        found_text += \"{} \".format(text)\n",
        "\n",
        "    cur = cur.next_element\n",
        "\n",
        "  return clean_column_text(found_text.strip()) # Strip trailing space that the above pattern will result in\n",
        "\n",
        "\"\"\"\n",
        "Helper  method to find_sections_with_toc, extracts the text found starting at a given tag through the end of the soup\n",
        "\"\"\"\n",
        "def text_starting_at_tag(start):\n",
        "\n",
        "  cur = start\n",
        "  found_text = \"\"\n",
        "\n",
        "  # Loop through all elements\n",
        "  while cur:\n",
        "    if isinstance(cur, NavigableString):\n",
        "\n",
        "      text = cur.strip()\n",
        "      if len(text):\n",
        "        found_text += \"{} \".format(text)\n",
        "\n",
        "    cur = cur.next_element\n",
        "\n",
        "  return clean_column_text(found_text.strip())\n",
        "\n",
        "\"\"\"\n",
        "Helper method for find_sections_with_toc, attempt to determine if the given text is simple a page number (duplicate link in my observations)\n",
        "\"\"\"\n",
        "def is_text_page_number(question_text):\n",
        "\n",
        "  # Check argument\n",
        "  if type(question_text) != str:\n",
        "    print(\"Non-string passed to is_text_page_number. Returning True (will result in href being skipped)\")\n",
        "    return True\n",
        "\n",
        "  # Strip just to be sure\n",
        "  stripped_question_text = question_text.strip()\n",
        "\n",
        "  # Check if text is only digits\n",
        "  if stripped_question_text.isnumeric():\n",
        "    return True\n",
        "\n",
        "  # Check if only roman numerals\n",
        "  valid_romans = [\"M\", \"D\", \"C\", \"L\", \"X\", \"V\", \"I\", \"(\", \")\"]\n",
        "  is_roman = True\n",
        "  for letter in stripped_question_text.upper():\n",
        "    if letter not in valid_romans:\n",
        "      is_roman = False\n",
        "      break\n",
        "\n",
        "  return is_roman"
      ]
    },
    {
      "cell_type": "code",
      "execution_count": 9,
      "metadata": {
        "id": "-KAgLvd7BJc3"
      },
      "outputs": [],
      "source": [
        "\"\"\"\n",
        "Use the hyperlinked TOC to find the given text section. Provide a bs4 Tag object for the located TOC. Returns a dictionary the same as its calling function, find_sections_in_fulltext:\n",
        "{\n",
        "  \"MATCHING_SECTION_NAME_FOUND\" : \"SECTION_TEXT\",\n",
        "  ...\n",
        "}\n",
        "\"\"\"\n",
        "def find_section_with_linked_toc(document_soup, toc_soup, target_sections = ()):\n",
        "\n",
        "  # Returned dictionary\n",
        "  text_dict = {}\n",
        "\n",
        "  # First, loop through the <a> tags of the TOC and build a dictionary of href anchor values and text (sections) values\n",
        "  link_dict = {}\n",
        "  link_tags = toc_soup.find_all('a', attrs = { 'href' : True })\n",
        "  for link_tag in link_tags:\n",
        "\n",
        "    # From some TOC's I have examined, there may be a second <a href...> for each section, labeled instead by the page number. This page number may be a digit or a roman numeral\n",
        "    # If I come across a filing with a different TOC strcture, I will find a more nuanced way to handle it. For now simply check if the text is only digits or roman numerals\n",
        "    # Some TOC's also look to have a third link to each section, on the far left of the table and with the text \"Item 1, Item 2, ...\". Again will update if these appear after the properly labeled links and thus\n",
        "    # over-write that spot in the href dict defined below. As of now we are relying on the properly/fully labeled links being the last non-page-number reference to each href in order to be recorded.\n",
        "    if is_text_page_number(link_tag.text.strip()):\n",
        "      continue\n",
        "\n",
        "    link_dict[link_tag.get('href').replace('#', '')] = clean_column_text(link_tag.text.strip())\n",
        "\n",
        "  # Grab a list of destination anchors (<a> or <div> tags with \"id\" or \"name\" attribute)\n",
        "  link_dests = document_soup.find_all('a', attrs = { 'id' : True }) + document_soup.find_all('a', attrs = { 'name' : True })\\\n",
        "   + document_soup.find_all('div', attrs = { 'id' : True }) + document_soup.find_all('div', attrs = { 'name' : True })\n",
        "\n",
        "  # Filter out those which are never linked to, they will obstruct our logic in text_between_tags as we rely on the next anchor to be the beginning of the next section\n",
        "  # I have run into filings with such \"phantom\" anchors that are never linked to and can prematurely signal the end of a section\n",
        "  # (i.e: https://www.sec.gov/Archives/edgar/data/1331451/000133145118000076/0001331451-18-000076.txt)\n",
        "  link_dests = [anchor for anchor in link_dests if (anchor.get('id') in link_dict.keys() or anchor.get('name') in link_dict.keys())]\n",
        "\n",
        "  # Loop through the dictionary of hrefs we built and look for our target sections, storing any found in a new dict\n",
        "  target_section_links = {}\n",
        "  for href_val, section_name in link_dict.items():\n",
        "\n",
        "    for indiv_target in target_sections:\n",
        "      if indiv_target.lower() in section_name.lower():\n",
        "\n",
        "        # Add the target section and its href value to target_section_links\n",
        "        target_section_links[href_val] = indiv_target\n",
        "\n",
        "  # Now loop through the target sections that we just found links to. We will try to locate the destination of each\n",
        "  for target_href, target_name in target_section_links.items():\n",
        "\n",
        "    # The href values are used at their destination in <a> tags with an id/name attribute of the same href value (minus the leading #, why we got rid of it)\n",
        "    # Loop through the link_dests list of all destination tags, and find the one with id/name=target_href\n",
        "    num_destinations = len(link_dests)\n",
        "    for dest_index, link_dest in enumerate(link_dests):\n",
        "\n",
        "      if (link_dest.get('id') == target_href or link_dest.get('name') == target_href): # Can be either id or name according to HTML spec (see https://stackoverflow.com/questions/484719/should-i-make-html-anchors-with-name-or-id)\n",
        "\n",
        "        # Grab the text inbetween the current destination tag and the next occuring destination in link_dests\n",
        "        # If we are on the last destination, grab all the text left\n",
        "        section_text = \"\"\n",
        "\n",
        "        if dest_index + 1 < num_destinations:\n",
        "          section_text = text_between_tags(link_dest, link_dests[dest_index + 1])\n",
        "        else:\n",
        "          section_text = text_starting_at_tag(link_dest)\n",
        "\n",
        "        if len(section_text):\n",
        "\n",
        "          # Add to master dict. TODO: Explore whether there may be 2 sections matching the same target section on the same document\n",
        "          # With the current code, the last matching section on the document will be recorded for each target. Just a thought\n",
        "          text_dict[target_name] = section_text\n",
        "\n",
        "  return text_dict"
      ]
    },
    {
      "cell_type": "code",
      "source": [
        "\"\"\"\n",
        "Some HTML style filings have tables of contents but they are not hyperlinked and thus are not caught by the above algorithm. Methods here attempt to deal with such filings.\n",
        "\n",
        "Ideas:\n",
        "\n",
        "Look for section names in text of tags which are:\n",
        "  1. Not in a table\n",
        "  2. Have a text-center, or who's parents have a text-center attribute\n",
        "\n",
        "Continue reading until...? (pagebreaks etc seem inconsistent)\n",
        "\n",
        "\n",
        "\"\"\"\n",
        "\n",
        "# TODO\n"
      ],
      "metadata": {
        "id": "Wf4vWhfcA-0w"
      },
      "execution_count": null,
      "outputs": []
    },
    {
      "cell_type": "code",
      "execution_count": 4,
      "metadata": {
        "id": "CAFiCCLABYxU"
      },
      "outputs": [],
      "source": [
        "\"\"\"\n",
        "Locate and extract custom text section(s). Takes the path to a filing's full text submission and a list of target sections. Returned structure:\n",
        "{\n",
        "  \"MATCHING_SECTION_NAME_FOUND\" : \"SECTION_TEXT\",\n",
        "  ...\n",
        "}\n",
        "\"\"\"\n",
        "def find_sections_in_html_fulltext(fulltext_sub, target_sections = ()):\n",
        "\n",
        "  # Returned dict\n",
        "  master_text_dict = {}\n",
        "\n",
        "  # Check that sections were specified\n",
        "  if len(target_sections) == 0:\n",
        "    print(\"No target sections were entered. Provide in a list\")\n",
        "    return master_text_dict\n",
        "\n",
        "  # Get the file contents\n",
        "  request_headers = { \"User-Agent\" : \"Mozilla/5.0 (Macintosh; Intel Mac OS X 10_15_7) AppleWebKit/537.36 (KHTML, like Gecko) Chrome/105.0.0.0 Safari/537.36\" }\n",
        "  response = requests.get(url = fulltext_sub, headers = request_headers)\n",
        "  response.raise_for_status()\n",
        "\n",
        "  # First task is to break the full text submission into documents by <DOCUMENT> tag\n",
        "  docs_list = response.text.split(\"<DOCUMENT>\")[1:]\n",
        "  for doc_string in docs_list:\n",
        "\n",
        "    document = BeautifulSoup(doc_string, \"lxml\")\n",
        "\n",
        "    # Will hold results from current document\n",
        "    doc_results = {}\n",
        "\n",
        "    # Only parse HTM/HTML files\n",
        "    doc_name = document.filename.find(text = True, recursive = False).strip()\n",
        "    if \".htm\" not in doc_name.lower():\n",
        "      continue\n",
        "\n",
        "    # Jump into HTML document's contents inside <TEXT>\n",
        "    doc_html = document.find('text')\n",
        "\n",
        "    # Parse using TOC if it exists\n",
        "    # TODO: BETTER PARSING / STORING OF TABLES FOUND IN TEXT SECTIONS\n",
        "    toc_tag = linked_toc_exists(doc_html)\n",
        "    if toc_tag:\n",
        "      doc_results = find_section_with_linked_toc(doc_html, toc_tag, target_sections)\n",
        "    else:\n",
        "      pass\n",
        "\n",
        "    # Loop through results, add to the master dict\n",
        "    for result_section_name, result_section_text in doc_results.items():\n",
        "\n",
        "      # If we already have an entry for that target_section, create another (\"xxx\", \"xxx_1\", \"xxx_2\", ...)\n",
        "      master_key_name = result_section_name\n",
        "      i = 1\n",
        "      while master_key_name in master_text_dict.keys():\n",
        "        master_key_name = \"{}_{}\".format(result_section_name, i)\n",
        "        i += 1\n",
        "\n",
        "      # Add to dict after finding unused key\n",
        "      master_text_dict[master_key_name] = result_section_text\n",
        "\n",
        "  return master_text_dict"
      ]
    },
    {
      "cell_type": "code",
      "execution_count": null,
      "metadata": {
        "id": "5cgGUDVFBivV"
      },
      "outputs": [],
      "source": [
        "print(filtered_list)"
      ]
    },
    {
      "cell_type": "code",
      "execution_count": null,
      "metadata": {
        "id": "MiiHoPYbKjvh"
      },
      "outputs": [],
      "source": [
        "master_summary_list = []\n",
        "\n",
        "for s1 in filtered_list[:10]: # Will limit for now for testing.\n",
        "\n",
        "  found_summary = find_sections_in_html_fulltext(s1['fulltext_path'], ['summary'])\n",
        "  if len(found_summary) != 0:\n",
        "\n",
        "    summary_entry = { s1['fulltext_path'] : found_summary }\n",
        "    master_summary_list.append(summary_entry)\n",
        "\n",
        "print(master_summary_list)"
      ]
    },
    {
      "cell_type": "markdown",
      "source": [
        "At the time of this testing (4/30/24), we successfully grabbed the clean text of ~50% of prospectus summaries by trying the 100 most recent S1's via our quarterly index. It seems that some modern filings do not include hyperlinked TOC's. See [here](https://www.sec.gov/Archives/edgar/data/1121702/000112170224000029/yten-2024x04x25xs1forwarra.htm#ie2eb5995f0dd459a99f25e48e556c22b_10) and [here](https://www.sec.gov/ix?doc=/Archives/edgar/data/1029125/000143774924012445/pbla20240410_s1.htm) for 2 examples. Will investigate and optimize for better performance. At this point the summaries are stored in a dictionary with their respective fulltext filing URL."
      ],
      "metadata": {
        "id": "DFTe8gQfUuLK"
      }
    }
  ],
  "metadata": {
    "colab": {
      "provenance": [],
      "authorship_tag": "ABX9TyPgEzn3E6CsOyyu6VxOWDmT",
      "include_colab_link": true
    },
    "kernelspec": {
      "display_name": "Python 3",
      "name": "python3"
    },
    "language_info": {
      "name": "python"
    }
  },
  "nbformat": 4,
  "nbformat_minor": 0
}