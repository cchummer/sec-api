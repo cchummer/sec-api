{
  "nbformat": 4,
  "nbformat_minor": 0,
  "metadata": {
    "colab": {
      "provenance": [],
      "collapsed_sections": [],
      "authorship_tag": "ABX9TyMptNktrFb0hjWxsxbrj5+i"
    },
    "kernelspec": {
      "name": "python3",
      "display_name": "Python 3"
    },
    "language_info": {
      "name": "python"
    }
  },
  "cells": [
    {
      "cell_type": "code",
      "source": [
        "# HTTP lib\n",
        "import requests"
      ],
      "metadata": {
        "id": "MoCOwUcLW8WE"
      },
      "execution_count": null,
      "outputs": []
    },
    {
      "cell_type": "markdown",
      "source": [
        "# Ticker to CIK lookup\n",
        "There are two lists referenced here. One is for companies and the other is funds. Respective urls: https://www.sec.gov/files/company_tickers.json, https://www.sec.gov/data/company_tickers_mf.json. We start with company_tickers.json and if unsuccessful try company_tickers_mf. CIK is padded to 10 digits with leading 0's."
      ],
      "metadata": {
        "id": "i9A8-4QtIYLS"
      }
    },
    {
      "cell_type": "code",
      "source": [
        "# Define method\n",
        "def cik_from_ticker(target_ticker):\n",
        "  target_cik = \"0000000000\"\n",
        "\n",
        "  # Needed to interact with SEC website\n",
        "  request_headers = { \"User-Agent\" : \"Mozilla/5.0 (Macintosh; Intel Mac OS X 10_15_7) AppleWebKit/537.36 (KHTML, like Gecko) Chrome/105.0.0.0 Safari/537.36\"} \n",
        "\n",
        "  # First try company_tickers.json\n",
        "  list_url = \"https://www.sec.gov/files/company_tickers.json\"\n",
        "  response = requests.get(url = list_url, headers = request_headers)\n",
        "  response.raise_for_status()\n",
        "\n",
        "  json_data = response.json()\n",
        "\n",
        "  # Keys are simply nonnegative integers starting at 0. Each company's entry is structured as following AAPL example: {'cik_str': 320193, 'ticker': 'AAPL', 'title': 'Apple Inc.'}\n",
        "  for key, value in json_data.items():\n",
        "    if value['ticker'] == target_ticker:\n",
        "      target_cik = value['cik_str']\n",
        "      break\n",
        "\n",
        "  # If CIK is still set to 0000000000, we know company_tickers.json failed. Try MF's\n",
        "  if target_cik == \"0000000000\":\n",
        "    list_url = \"https://www.sec.gov/data/company_tickers_mf.json\"\n",
        "    response = requests.get(url = list_url, headers = request_headers)\n",
        "    response.raise_for_status()\n",
        "\n",
        "    json_data = response.json()\n",
        "\n",
        "    # Loop through each entry in the \"data\" dict. Ticker is the 4th (0,1,2,3) element in each entry. CIK is 1st. Obviously, JSON response is different structure than company_tickers.json\n",
        "    for current_entry in json_data['data']:\n",
        "      if current_entry[3] == target_ticker:\n",
        "        target_cik = current_entry[0]\n",
        "        break\n",
        "\n",
        "  # Pad to 10 digits with leading 0's\n",
        "  return str(target_cik).zfill(10)"
      ],
      "metadata": {
        "id": "5YALteuyIiUc"
      },
      "execution_count": null,
      "outputs": []
    },
    {
      "cell_type": "code",
      "source": [
        "# Example of calling above function:\n",
        "test_target_ticker = \"VUZI\"\n",
        "test_target_cik = cik_from_ticker(test_target_ticker)\n",
        "\n",
        "# Verify CIK and print\n",
        "if test_target_cik == \"0000000000\":\n",
        "  print(\"Failed to obtain CIK for {}\".format(test_target_ticker))\n",
        "else:\n",
        "  print(\"Ticker: {}, CIK: {}\".format(test_target_ticker, test_target_cik))"
      ],
      "metadata": {
        "id": "2ekU5-gOXHlj",
        "colab": {
          "base_uri": "https://localhost:8080/"
        },
        "outputId": "58a828ec-56cc-4481-f76e-f0822c39f9d4"
      },
      "execution_count": null,
      "outputs": [
        {
          "output_type": "stream",
          "name": "stdout",
          "text": [
            "Ticker: VUZI, CIK: 0001463972\n"
          ]
        }
      ]
    },
    {
      "cell_type": "markdown",
      "source": [
        "# CIK to Entity Name and + Ticker\n",
        "Just in case we want to quickly get an entity name and/or ticker from a CIK, for example after stripping it from an accession number, refer to the same 2 lists referenced above."
      ],
      "metadata": {
        "id": "IB8h4IYkByHJ"
      }
    },
    {
      "cell_type": "code",
      "source": [
        "def cik_to_name(cik_to_search):\n",
        "\n",
        "  # Define return strings to begin\n",
        "  entity_name = \"*Unknown Name*\"\n",
        "  entity_ticker = \"*Unknown Ticker*\"\n",
        "\n",
        "  # Pad given CIK to 10 digits. Also can accept either an int or string\n",
        "  padded_to_search = str(cik_to_search).zfill(10)\n",
        "\n",
        "  # UA\n",
        "  request_headers = { \"User-Agent\" : \"Mozilla/5.0 (Macintosh; Intel Mac OS X 10_15_7) AppleWebKit/537.36 (KHTML, like Gecko) Chrome/105.0.0.0 Safari/537.36\" }\n",
        "\n",
        "  # Again, try company list first\n",
        "  list_url = \"https://www.sec.gov/files/company_tickers.json\"\n",
        "  response = requests.get(url = list_url, headers = request_headers)\n",
        "  response.raise_for_status()\n",
        "\n",
        "  json_data = response.json()\n",
        "\n",
        "  # Loop through. Again pad each as we compare\n",
        "  for key, value in json_data.items():\n",
        "    if str(value['cik_str']).zfill(10) == padded_to_search:\n",
        "      entity_name = value['title']\n",
        "      entity_ticker = \"$\" + value['ticker']\n",
        "      break\n",
        "\n",
        "  # If name or ticker is still unknown, give the mutual funds page a shot. Keep in mind there is no \"name\" given. Rather, a seriesID and classID are given along with a ticker.\n",
        "  # https://www.sec.gov/open/datasets-investment_company gives information and download links to XML files which can be parsed to garner more information on the fund name and the investment company behind it\n",
        "  if (entity_name == \"*Unknown Name\" or entity_ticker == \"*Unkown Ticker\"):\n",
        "\n",
        "    list_url = \"https://www.sec.gov/data/company_tickers_mf.json\"\n",
        "    response = requests.get(url = list_url, headers = request_headers)\n",
        "    response.raise_for_status()\n",
        "\n",
        "    json_data = response.json()\n",
        "\n",
        "    # Loop through each entry in the \"data\" dict. CIK is first element\n",
        "    for current_entry in json_data['data']:\n",
        "      if str(current_entry[0]).zfill(10) == padded_to_search:\n",
        "\n",
        "        # TODO: Implement a parsing of the data as given on https://www.sec.gov/open/datasets-investment_company to return information about the fund \n",
        "        entity_name = \"*Mutual Fund*\"\n",
        "        entity_ticker = \"$\" + current_entry[3]\n",
        "        break\n",
        "\n",
        "  return entity_name + \", \" + entity_ticker"
      ],
      "metadata": {
        "id": "1_532UqqCTcy"
      },
      "execution_count": null,
      "outputs": []
    },
    {
      "cell_type": "code",
      "source": [
        "print(cik_to_name(1463972))"
      ],
      "metadata": {
        "id": "WKfCtnwdI51U"
      },
      "execution_count": null,
      "outputs": []
    },
    {
      "cell_type": "markdown",
      "source": [
        "# data.sec.gov/submissions/ API: easily find all filing documents by CIK\n",
        "Plugging a 10 digit CIK (*including leading 0's*) into https://data.sec.gov/submissions/CIK##########.json returns a structure containing the following information (plus more) about each filing: date of filing, form type/code, an accession number, a primary document filename, and a description of that primary document. This function attempts to list all the primary document URL's, their filing dates, and their form types given a 10 digit CIK"
      ],
      "metadata": {
        "id": "PVVnFhOy2lgJ"
      }
    },
    {
      "cell_type": "code",
      "source": [
        "# Support for methods below. If additional submission info is found in filings->files, those JSON files are traversed here. target_form_code = ANY to list all filings.\n",
        "def traverse_extended_submissions(ext_sub_uri, target_entity_cik, target_form_code='ANY'):\n",
        "\n",
        "  # Needed to interact with SEC website\n",
        "  request_headers = { \"User-Agent\" : \"Mozilla/5.0 (Macintosh; Intel Mac OS X 10_15_7) AppleWebKit/537.36 (KHTML, like Gecko) Chrome/105.0.0.0 Safari/537.36\" }\n",
        "\n",
        "  # Base URL for archived documents/data\n",
        "  submissions_url = r\"https://data.sec.gov/submissions/{}\".format(ext_sub_uri)\n",
        "  base_archive_url = r\"https://www.sec.gov/Archives/edgar/data/{}/\".format(target_entity_cik)\n",
        "\n",
        "  # Get the JSON data\n",
        "  response = requests.get(url = submissions_url, headers = request_headers)\n",
        "  response.raise_for_status()\n",
        "\n",
        "  json_data = response.json()\n",
        "\n",
        "  # We need 4 pieces of information about each filing: filing date, accession number, primary doc filename, and form code.\n",
        "  date_list = json_data['filingDate']\n",
        "  accession_list = json_data['accessionNumber']\n",
        "  primary_docs_list = json_data['primaryDocument']\n",
        "  form_code_list = json_data['form']\n",
        "\n",
        "  # Loop through each filing\n",
        "  for filing_index, current_filing_date in enumerate(date_list):\n",
        "\n",
        "    current_accession_num = accession_list[filing_index].replace('-','')\n",
        "    current_primary_doc = primary_docs_list[filing_index]\n",
        "    primary_doc_url = base_archive_url + current_accession_num + '/' + current_primary_doc\n",
        "\n",
        "    # If target_form_code != ANY, check that it matches\n",
        "    if target_form_code != 'ANY':\n",
        "      if form_code_list[filing_index] == target_form_code:\n",
        "        # Print filing date and URL\n",
        "        print(r\"{} {}\".format(current_filing_date, primary_doc_url))\n",
        "    \n",
        "    # Otherwise just list it\n",
        "    else:\n",
        "      print(r\"{} Form: {}, filed on: {} : {}\".format(filing_index, form_code_list[filing_index], current_filing_date, primary_doc_url))\n",
        "\n",
        "  return"
      ],
      "metadata": {
        "id": "5ehWwWGAh_-0"
      },
      "execution_count": null,
      "outputs": []
    },
    {
      "cell_type": "code",
      "source": [
        "def print_all_filing_docs(target_entity_cik):\n",
        "\n",
        "  # Needed to interact with SEC website\n",
        "  request_headers = { \"User-Agent\" : \"Mozilla/5.0 (Macintosh; Intel Mac OS X 10_15_7) AppleWebKit/537.36 (KHTML, like Gecko) Chrome/105.0.0.0 Safari/537.36\" }\n",
        "\n",
        "  # Base URL for archived documents/data\n",
        "  base_archive_url = r\"https://www.sec.gov/Archives/edgar/data/{}/\".format(target_entity_cik)\n",
        "\n",
        "  # Build the submissions URL, request it, and parse the JSON\n",
        "  submissions_url = r\"https://data.sec.gov/submissions/CIK{}.json\".format(target_entity_cik)\n",
        "  \n",
        "  response = requests.get(url = submissions_url, headers = request_headers)\n",
        "  response.raise_for_status()\n",
        "\n",
        "  json_data = response.json()\n",
        "\n",
        "  # The 1,000 most recent filings are under filings->recent\n",
        "  # We need 4 pieces of information about each filing: filing date, accession number, primary doc filename, and form code.\n",
        "  # Go into filings->recent dict, which will contain a separate ordered list for each of these pieces of info\n",
        "  date_list = json_data['filings']['recent']['filingDate']\n",
        "  accession_list = json_data['filings']['recent']['accessionNumber']\n",
        "  primary_docs_list = json_data['filings']['recent']['primaryDocument']\n",
        "  form_code_list = json_data['filings']['recent']['form']\n",
        "\n",
        "  # For each filing date, find corresponding other 3 pieces of info\n",
        "  for filing_index, current_filing_date in enumerate(date_list):\n",
        "\n",
        "    # Build full URL to primary document. Remove hyphens from accession number\n",
        "    current_accession_num = accession_list[filing_index].replace('-','')\n",
        "    current_primary_doc = primary_docs_list[filing_index] # TODO: 5/26/2000 and before, primary doc should just be Archives/edgar/data/CIK/ACCESSION_WITH_DASHES.txt\n",
        "    primary_doc_url = base_archive_url + current_accession_num + '/' + current_primary_doc\n",
        "\n",
        "    # Print filing type, date, and primary document URL\n",
        "    print(r\"{} Form: {}, filed on: {} : {}\".format(filing_index, form_code_list[filing_index], current_filing_date, primary_doc_url))\n",
        "\n",
        "  # In case there were more than 1,000 (or if there are filings for some other reason in there) check filings->files for links to additional\n",
        "  # Each entry in \"files\" contains \"name\" field with URI of another JSON file set up like submissions/CIK###.json \n",
        "  try:\n",
        "    for sub_link in json_data['filings']['files']:\n",
        "      traverse_extended_submissions(ext_sub_uri = sub_link['name'], target_entity_cik = target_entity_cik)\n",
        "  except:\n",
        "    pass\n",
        "\n",
        "  print(\"End list\")\n",
        "\n",
        "  return"
      ],
      "metadata": {
        "id": "FJCV_3f260mC"
      },
      "execution_count": null,
      "outputs": []
    },
    {
      "cell_type": "code",
      "source": [
        "# Example of calling above function\n",
        "test_target_ticker = \"VUZI\"\n",
        "test_target_cik = \"0000000000\" # Reset just incase its still set from running the above example for cik_from_ticker\n",
        "\n",
        "test_target_cik = cik_from_ticker(test_target_ticker)\n",
        "\n",
        "# Verify CIK and print primary filing docs\n",
        "if test_target_cik == \"0000000000\":\n",
        "  print(\"Failed to obtain CIK for {}\".format(test_target_ticker))\n",
        "else:\n",
        "  print_all_filing_docs(test_target_cik)"
      ],
      "metadata": {
        "id": "yA5gOyUwXrk1"
      },
      "execution_count": null,
      "outputs": []
    },
    {
      "cell_type": "markdown",
      "source": [
        "# Find specific filing form types of given CIK\n",
        "Consult https://www.sec.gov/info/edgar/forms/edgform.pdf and https://www.sec.gov/about/forms/secforms.htm for lists + descriptions of different form types. Slightly modified version of above function "
      ],
      "metadata": {
        "id": "rVdOvXaxifT5"
      }
    },
    {
      "cell_type": "code",
      "source": [
        "def print_filing_docs_of_type(target_form_code, target_entity_cik):\n",
        "  \n",
        "  # Needed to interact with SEC website\n",
        "  request_headers = { \"User-Agent\" : \"Mozilla/5.0 (Macintosh; Intel Mac OS X 10_15_7) AppleWebKit/537.36 (KHTML, like Gecko) Chrome/105.0.0.0 Safari/537.36\" }\n",
        "\n",
        "  # Base URL for archived documents/data\n",
        "  base_archive_url = r\"https://www.sec.gov/Archives/edgar/data/{}/\".format(target_entity_cik)\n",
        "\n",
        "  # Build the submissions URL, request it, and parse the JSON\n",
        "  submissions_url = r\"https://data.sec.gov/submissions/CIK{}.json\".format(target_entity_cik)\n",
        "  \n",
        "  response = requests.get(url = submissions_url, headers = request_headers)\n",
        "  response.raise_for_status()\n",
        "\n",
        "  json_data = response.json()\n",
        "\n",
        "  # The 1,000 most recent filings are under filings->recent\n",
        "  # We need 4 pieces of information about each filing: filing date, accession number, primary doc filename, and form code.\n",
        "  # Go into filings->recent dict, which will contain a separate ordered list for each of these pieces of info\n",
        "  date_list = json_data['filings']['recent']['filingDate']\n",
        "  accession_list = json_data['filings']['recent']['accessionNumber']\n",
        "  primary_docs_list = json_data['filings']['recent']['primaryDocument']\n",
        "  form_code_list = json_data['filings']['recent']['form']\n",
        "\n",
        "  # Loop through list of form codes\n",
        "  print(\"Form {} filings found:\".format(target_form_code))\n",
        "  for filing_index, current_form_code in enumerate(form_code_list):\n",
        "\n",
        "    # Look for matching form types\n",
        "    if current_form_code == target_form_code:\n",
        "\n",
        "      # Build full URL to primary document. Remove hyphens from accession number\n",
        "      current_accession_num = accession_list[filing_index].replace('-','')\n",
        "      current_primary_doc = primary_docs_list[filing_index]\n",
        "      primary_doc_url = base_archive_url + current_accession_num + '/' + current_primary_doc # TODO: 5/26/2000 and before, primary doc should just be Archives/edgar/data/CIK/ACCESSION_WITH_DASHES.txt\n",
        "\n",
        "      # Print filing date and URL\n",
        "      print(r\"{} {}\".format(date_list[filing_index], primary_doc_url))\n",
        "  \n",
        "  # In case there were more than 1,000 check filings->files for links to additional\n",
        "  # Each entry in \"files\" contains \"name\" field with URI of another JSON file set up like submissions/CIK###.json \n",
        "  try:\n",
        "    for sub_link in json_data['filings']['files']:\n",
        "      traverse_extended_submissions(ext_sub_uri = sub_link['name'], target_entity_cik = target_entity_cik, target_form_code = target_form_code)\n",
        "  except:\n",
        "    pass\n",
        "\n",
        "  print(\"End list\")\n",
        "\n",
        "  return "
      ],
      "metadata": {
        "id": "SumnzV1O2YHQ"
      },
      "execution_count": null,
      "outputs": []
    },
    {
      "cell_type": "code",
      "source": [
        "# Example of calling above function\n",
        "test_target_ticker = \"AAPL\"\n",
        "test_target_cik = \"0000000000\" # Reset just incase its still set from running examples above\n",
        "\n",
        "test_target_cik = cik_from_ticker(test_target_ticker)\n",
        "\n",
        "# Verify CIK and print primary filing docs\n",
        "if test_target_cik == \"0000000000\":\n",
        "  print(\"Failed to obtain CIK for {}\".format(test_target_ticker))\n",
        "else:\n",
        "  print_filing_docs_of_type(\"10-Q\", test_target_cik)  "
      ],
      "metadata": {
        "id": "nflifV-zZG6l"
      },
      "execution_count": null,
      "outputs": []
    }
  ]
}